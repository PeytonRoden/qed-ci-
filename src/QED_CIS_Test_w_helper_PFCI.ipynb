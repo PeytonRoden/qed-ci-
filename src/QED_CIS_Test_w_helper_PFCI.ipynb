{
 "cells": [
  {
   "cell_type": "markdown",
   "id": "b57aeeca",
   "metadata": {},
   "source": [
    "# QED-CIS \n",
    "This notebook will can approximate the eigenstates of the Pauli-Fierz Hamiltonian in the coherent state basis using various configuration interaction approaches.  It utilizes a few different helper programs:\n",
    "\n",
    "- `psi4` quantum chemistry engine\n",
    "- `helper_cqed_rhf` performs RHF for the Pauli-Fierz Hamiltonian in the coherent state basis; provides orbital basis\n",
    "- `helper_PFCI` contains a few classes, including `Determinant` and `PFHamiltonianGenerator` used to compute the CI matrix \n",
    "\n"
   ]
  },
  {
   "cell_type": "code",
   "execution_count": 1,
   "id": "dc0e5f9a",
   "metadata": {},
   "outputs": [],
   "source": [
    "import time\n",
    "import numpy as np\n",
    "np.set_printoptions(precision=5, linewidth=200, suppress=True)\n",
    "import psi4\n",
    "from helper_cqed_rhf import cqed_rhf\n",
    "# prepare the determinant list\n",
    "from helper_PFCI import Determinant, PFHamiltonianGenerator, compute_excitation_level\n",
    "from itertools import combinations\n",
    "\n"
   ]
  },
  {
   "cell_type": "markdown",
   "id": "80c250a5",
   "metadata": {},
   "source": [
    "The PFHamiltonianGenerator will expect the different integral arrays to be in the spin orbital basis and will \n",
    "use physicist convention.  The functions below will be used to map arrays from spatial orbital basis and in chemist notation to spin orbital basis in physicist convention.  One in particular we need to attend to is the two-electron\n",
    "dipole terms $d_{pq} d_{rs}$"
   ]
  },
  {
   "cell_type": "code",
   "execution_count": 2,
   "id": "491aa9c6",
   "metadata": {},
   "outputs": [],
   "source": [
    "def spin_idx_to_spat_idx_and_spin(P):\n",
    "    \"\"\" function to take the numeric label of a spin orbital\n",
    "        and return the spatial index and the spin index separately.\n",
    "        Starts counting from 0:\n",
    "        \n",
    "        Arguments\n",
    "        ---------\n",
    "        P : int\n",
    "            spin orbital label\n",
    "        \n",
    "        Returns\n",
    "        -------\n",
    "        [p, spin] : numpy array of ints\n",
    "            p is the spatial orbital index and spin is the spin index.\n",
    "            spin = 1  -> alpha\n",
    "            spin = -1 -> beta\n",
    "            \n",
    "        Example\n",
    "        -------\n",
    "        >>> spin_idx_to_spat_idx_and_spin(0)\n",
    "        >>> [0, 1]\n",
    "        >>> spin_idx_to_spat_idx_and_spin(3)\n",
    "        >>> [1, -1]\n",
    "        \n",
    "    \"\"\"\n",
    "    spin = 1\n",
    "    if P % 2 == 0:\n",
    "        p = P / 2\n",
    "        spin = 1\n",
    "    else:\n",
    "        p = (P-1) / 2\n",
    "        spin = -1\n",
    "    return np.array([p, spin], dtype=int)\n",
    "\n",
    "\n",
    "def map_spatial_to_spin(tei_spatial, I, J, K, L):\n",
    "    \"\"\" function to take two electron integrals in the spatial orbital basis\n",
    "        in chemist notation along with 4 indices I, J, K, L and return\n",
    "        the corresponding two electron integral in the spin orbital basis\n",
    "        in phycisit notation, <IJ||KL>\n",
    "    \n",
    "    \"\"\"\n",
    "    # Phys to Chem: <IJ||KL> -> [IK|JL] - [IL|JK]\n",
    "    i_s = spin_idx_to_spat_idx_and_spin(I)\n",
    "    k_s = spin_idx_to_spat_idx_and_spin(K)\n",
    "    j_s = spin_idx_to_spat_idx_and_spin(J)\n",
    "    l_s = spin_idx_to_spat_idx_and_spin(L)\n",
    "    \n",
    "    #print(i_s[1])\n",
    "    # (ik|jl)\n",
    "    spat_ikjl = tei_spatial[i_s[0], k_s[0], j_s[0], l_s[0]] * ( i_s[1] == k_s[1] ) *  ( j_s[1] == l_s[1] )\n",
    "    \n",
    "    # (il|jk)\n",
    "    spat_iljk = tei_spatial[i_s[0], l_s[0], j_s[0], k_s[0]] * ( i_s[1] == l_s[1] ) *  ( j_s[1] == k_s[1] )\n",
    "    \n",
    "    return spat_ikjl - spat_iljk\n",
    "\n",
    "def map_spatial_dipole_to_spin(mu, I, J, K, L):\n",
    "    \"\"\" function to take the dipole matrix (a 1-electron matrix) \n",
    "        and return the product of dipole matrix elements such that it matches\n",
    "        the <IJ||KL> convention.  \n",
    "    \n",
    "    \"\"\"\n",
    "    # Phys to Chem: <IJ||KL> -> [IK|JL] - [IL|JK]\n",
    "    i_s = spin_idx_to_spat_idx_and_spin(I)\n",
    "    k_s = spin_idx_to_spat_idx_and_spin(K)\n",
    "    j_s = spin_idx_to_spat_idx_and_spin(J)\n",
    "    l_s = spin_idx_to_spat_idx_and_spin(L)\n",
    "    \n",
    "    #print(i_s[1])\n",
    "    # (ik|jl)\n",
    "    spat_ikjl = mu[i_s[0], k_s[0]] * mu[j_s[0], l_s[0]] * ( i_s[1] == k_s[1] ) *  ( j_s[1] == l_s[1] )\n",
    "    \n",
    "    # (il|jk)\n",
    "    spat_iljk = mu[i_s[0], l_s[0]] * mu[j_s[0], k_s[0]] * ( i_s[1] == l_s[1] ) *  ( j_s[1] == k_s[1] )\n",
    "    \n",
    "    return spat_ikjl - spat_iljk"
   ]
  },
  {
   "cell_type": "code",
   "execution_count": 3,
   "id": "9bf73f1a",
   "metadata": {},
   "outputs": [],
   "source": [
    "# some test options\n",
    "neglect_mumu = False\n",
    "neglect_oe_terms = False\n",
    "\n",
    "# Check energy against psi4?\n",
    "compare_psi4 = True"
   ]
  },
  {
   "cell_type": "markdown",
   "id": "47cdafc8",
   "metadata": {},
   "source": [
    "# Run psi4 calculation and cqed-rhf calculation\n",
    "This will give us a wavefunction object and a cqed-rhf orbital basis and associated\n",
    "quantities for building the CQED-CI Hamiltonian later."
   ]
  },
  {
   "cell_type": "code",
   "execution_count": 4,
   "id": "1244efd8",
   "metadata": {},
   "outputs": [
    {
     "name": "stdout",
     "output_type": "stream",
     "text": [
      "\n",
      "Starting SCF and integral build...\n",
      "\n",
      "Start SCF iterations:\n",
      "\n",
      "Canonical RHF One-electron energy = -2.2216883593010506\n",
      "CQED-RHF One-electron energy      = -2.1941536730190530\n",
      "Nuclear repulsion energy          = 0.5291772106700000\n",
      "Dipole energy                     = 0.0000000000000000\n",
      "SCF Iteration   1: Energy = -1.0385739629033175   dE = -1.03857E+00   dRMS = 1.01113E-16\n",
      "SCF Iteration   2: Energy = -1.0385739629033175   dE =  0.00000E+00   dRMS = 1.16728E-16\n",
      "Total time for SCF iterations: 0.000 seconds \n",
      "\n",
      "QED-RHF   energy: -1.03857396 hartree\n",
      "Psi4  SCF energy: -1.06610865 hartree\n",
      "<psi4.core.RHF object at 0x7fe173fae9f0>\n"
     ]
    }
   ],
   "source": [
    "\n",
    "\n",
    "# Memory for Psi4 in GB\n",
    "# psi4.core.set_memory(int(2e9), False)\n",
    "psi4.core.set_output_file('output.dat', False)\n",
    "\n",
    "# Memory for numpy in GB\n",
    "numpy_memory = 2\n",
    "\n",
    "mol_str = \"\"\"\n",
    "H \n",
    "H 1 1.0\n",
    "symmetry c1\n",
    "\"\"\"\n",
    "\n",
    "options_dict = {'basis': 'sto-3g',\n",
    "                  'scf_type': 'pk',\n",
    "                  'e_convergence': 1e-8,\n",
    "                  'd_convergence': 1e-8\n",
    "                  }\n",
    "\n",
    "\n",
    "\n",
    "# photon energy\n",
    "omega_val = 4.75 / psi4.constants.Hartree_energy_in_eV\n",
    "\n",
    "# define the lambda vector\n",
    "lambda_vector = np.array([0.1, 0.1, 0.1])\n",
    "\n",
    "mol = psi4.geometry(mol_str)\n",
    "\n",
    "\n",
    "psi4.set_options(options_dict)\n",
    "\n",
    "print('\\nStarting SCF and integral build...')\n",
    "t = time.time()\n",
    "\n",
    "# First compute SCF energy using Psi4\n",
    "scf_e, wfn = psi4.energy('SCF', return_wfn=True)\n",
    "\n",
    "# now compute cqed-rhf to get transformation vectors with cavity\n",
    "cqed_rhf_dict = cqed_rhf(lambda_vector, mol_str, options_dict)\n",
    "\n",
    "p4_wfn = cqed_rhf_dict[\"PSI4 WFN\"]\n",
    "ndocc = p4_wfn.doccpi()[0]\n",
    "print(p4_wfn)\n"
   ]
  },
  {
   "cell_type": "markdown",
   "id": "b38d59de",
   "metadata": {},
   "source": [
    "# Parse quantities from CQED-RHF calculation\n",
    "Quantities such as the CQED-RHF energy, orbital transformation matrix, and density\n",
    "matrix are returned as dictionary entries from the CQED-RHF calculation.  This block parses \n",
    "those quantities and updates attributes of the wavefunction object with them."
   ]
  },
  {
   "cell_type": "code",
   "execution_count": 5,
   "id": "7effb890",
   "metadata": {},
   "outputs": [
    {
     "name": "stdout",
     "output_type": "stream",
     "text": [
      "\n",
      "Size of the Hamiltonian Matrix will be 0.00 GB.\n"
     ]
    },
    {
     "name": "stderr",
     "output_type": "stream",
     "text": [
      "/home/namvu/anaconda3/envs/p4dev/lib/python3.8/site-packages/scipy/__init__.py:146: UserWarning: A NumPy version >=1.16.5 and <1.23.0 is required for this version of SciPy (detected version 1.23.5\n",
      "  warnings.warn(f\"A NumPy version >={np_minversion} and <{np_maxversion}\"\n"
     ]
    }
   ],
   "source": [
    "# grab necessary quantities from cqed_rhf_dict\n",
    "scf_e = cqed_rhf_dict[\"RHF ENERGY\"]\n",
    "cqed_scf_e = cqed_rhf_dict[\"CQED-RHF ENERGY\"]\n",
    "wfn = cqed_rhf_dict[\"PSI4 WFN\"]\n",
    "C = cqed_rhf_dict[\"CQED-RHF C\"]\n",
    "D = cqed_rhf_dict[\"CQED-RHF DENSITY MATRIX\"]\n",
    "eps = cqed_rhf_dict[\"CQED-RHF EPS\"]\n",
    "dc = cqed_rhf_dict[\"DIPOLE ENERGY\"]\n",
    "\n",
    "# collect rhf wfn object as dictionary\n",
    "wfn_dict = psi4.core.Wavefunction.to_file(wfn)\n",
    "\n",
    "# update wfn_dict with orbitals from CQED-RHF\n",
    "wfn_dict[\"matrix\"][\"Ca\"] = C\n",
    "wfn_dict[\"matrix\"][\"Cb\"] = C\n",
    "# update wfn object\n",
    "wfn = psi4.core.Wavefunction.from_file(wfn_dict)\n",
    "\n",
    "# Grab data from wavfunction class\n",
    "Ca = wfn.Ca()\n",
    "ndocc = wfn.doccpi()[0]\n",
    "nmo = wfn.nmo()\n",
    "\n",
    "# Compute size of Hamiltonian in GB\n",
    "from scipy.special import comb\n",
    "nDet = comb(nmo, ndocc)**2\n",
    "H_Size = nDet**2 * 8e-9\n",
    "print('\\nSize of the Hamiltonian Matrix will be %4.2f GB.' % H_Size)\n",
    "if H_Size > numpy_memory:\n",
    "    #clean()\n",
    "    raise Exception(\"Estimated memory utilization (%4.2f GB) exceeds numpy_memory \\\n",
    "                    limit of %4.2f GB.\" % (H_Size, numpy_memory))\n",
    "\n",
    "# Integral generation from Psi4's MintsHelper\n",
    "t = time.time()\n",
    "mints = psi4.core.MintsHelper(wfn.basisset())\n"
   ]
  },
  {
   "cell_type": "markdown",
   "id": "c9da9277",
   "metadata": {},
   "source": [
    "# Get integral arrays\n",
    "This will get the various 1- and 2-electron integrals needed to compute the PF-CI Hamiltonian matrix elements.\n",
    "We will get most of these in the ao basis and transform them using the MO coefficients (C-vectors) obtained from our\n",
    "CQED-RHF calculation.  The last block also updated the C-vector attribute of psi4's wavefunction object, so we can\n",
    "use some of the built-in transformation methods as well (e.g. `mints.mo_spin_eri(Ca, Ca)`)"
   ]
  },
  {
   "cell_type": "code",
   "execution_count": 6,
   "id": "f68014b1",
   "metadata": {},
   "outputs": [],
   "source": [
    "# dipole arrays in AO basis\n",
    "mu_ao_x = np.asarray(mints.ao_dipole()[0])\n",
    "mu_ao_y = np.asarray(mints.ao_dipole()[1])\n",
    "mu_ao_z = np.asarray(mints.ao_dipole()[2])\n",
    "\n",
    "# transform dipole array to HF-PF basis\n",
    "mu_cmo_x = np.dot(C.T, mu_ao_x).dot(C)\n",
    "mu_cmo_y = np.dot(C.T, mu_ao_y).dot(C)\n",
    "mu_cmo_z = np.dot(C.T, mu_ao_z).dot(C)\n",
    "\n",
    "# electronic dipole expectation value with CQED-RHF density\n",
    "mu_exp_x = np.einsum(\"pq,pq->\", 2 * mu_ao_x, D)\n",
    "mu_exp_y = np.einsum(\"pq,pq->\", 2 * mu_ao_y, D)\n",
    "mu_exp_z = np.einsum(\"pq,pq->\", 2 * mu_ao_z, D)\n",
    "\n",
    "# get electronic dipole expectation value\n",
    "mu_exp_el = np.array([mu_exp_x, mu_exp_y, mu_exp_z])\n",
    "\n",
    "# \\lambda \\cdot < \\mu > where < \\mu > contains only electronic terms \n",
    "l_dot_mu_exp = np.dot(lambda_vector, mu_exp_el)\n",
    "\n",
    "# \\lambda \\cdot \\mu_{el} in ao basis\n",
    "l_dot_mu_el = lambda_vector[0] * mu_ao_x\n",
    "l_dot_mu_el += lambda_vector[1] * mu_ao_y\n",
    "l_dot_mu_el += lambda_vector[2] * mu_ao_z\n",
    "\n",
    "# \\lambda \\cdot \\mu_{el} in PF basis basis\n",
    "l_dot_mu_el_cmo = lambda_vector[0] * mu_cmo_x\n",
    "l_dot_mu_el_cmo += lambda_vector[1] * mu_cmo_y\n",
    "l_dot_mu_el_cmo += lambda_vector[2] * mu_cmo_z\n",
    "\n",
    "# get \\lambda * <\\mu>_e \\lambda * \\hat{\\mu} term\n",
    "d_PF = -l_dot_mu_exp * l_dot_mu_el\n",
    "\n",
    "# quadrupole arrays\n",
    "Q_ao_xx = np.asarray(mints.ao_quadrupole()[0])\n",
    "Q_ao_xy = np.asarray(mints.ao_quadrupole()[1])\n",
    "Q_ao_xz = np.asarray(mints.ao_quadrupole()[2])\n",
    "Q_ao_yy = np.asarray(mints.ao_quadrupole()[3])\n",
    "Q_ao_yz = np.asarray(mints.ao_quadrupole()[4])\n",
    "Q_ao_zz = np.asarray(mints.ao_quadrupole()[5])\n",
    "\n",
    "\n",
    "# Pauli-Fierz 1-e quadrupole terms, Line 2 of Eq. (9) in [McTague:2021:ChemRxiv]\n",
    "Q_PF = -0.5 * lambda_vector[0] * lambda_vector[0] * Q_ao_xx\n",
    "Q_PF -= 0.5 * lambda_vector[1] * lambda_vector[1] * Q_ao_yy\n",
    "Q_PF -= 0.5 * lambda_vector[2] * lambda_vector[2] * Q_ao_zz\n",
    "\n",
    "# accounting for the fact that Q_ij = Q_ji\n",
    "# by weighting Q_ij x 2 which cancels factor of 1/2\n",
    "Q_PF -= lambda_vector[0] * lambda_vector[1] * Q_ao_xy\n",
    "Q_PF -= lambda_vector[0] * lambda_vector[2] * Q_ao_xz\n",
    "Q_PF -= lambda_vector[1] * lambda_vector[2] * Q_ao_yz\n",
    "\n"
   ]
  },
  {
   "cell_type": "markdown",
   "id": "25c3542e",
   "metadata": {},
   "source": [
    "Here we will build both the matrix of 1e integrals ($\\langle p|\\hat{O}_1|q \\rangle$, where \n",
    "$\\hat{O}_1$ contains electronic kinetic, nuclear-electron attraction, scaled quadrupole, and scaled dipole) in the AO basis so that they are (nao x nao) arrays, and we will build the $\\langle pq||rs\\rangle$ integrals augmented\n",
    "by 2-electron scaled dipole integrals in the spin orbital \n",
    "basis which are (nso x nso x nso x nso) = (2 * nao x 2 * nao x 2 * nao x 2 * nao)."
   ]
  },
  {
   "cell_type": "code",
   "execution_count": 7,
   "id": "e7f36a5b",
   "metadata": {},
   "outputs": [
    {
     "name": "stdout",
     "output_type": "stream",
     "text": [
      "\n",
      "Total time taken for ERI integrals: 0.012 seconds.\n",
      "\n",
      "Starting AO -> spin-orbital MO transformation...\n",
      "Printing 1-e H matrix\n",
      "[[-0.96529 -0.67647]\n",
      " [-0.67647 -0.96529]]\n",
      "The dimensions of the 1-e H matrix is (2, 2)\n",
      "The dimesions of the 2-e integral arrays in the spin orbital basis is (4, 4, 4, 4)\n"
     ]
    }
   ],
   "source": [
    "# H will contain the 1e- integrals\n",
    "H = np.asarray(mints.ao_kinetic()) + np.asarray(mints.ao_potential()) + Q_PF + d_PF\n",
    "\n",
    "\n",
    "\n",
    "print('\\nTotal time taken for ERI integrals: %.3f seconds.\\n' % (time.time() - t))\n",
    "\n",
    "#Make spin-orbital MO which will contain the 2e- integrals\n",
    "print('Starting AO -> spin-orbital MO transformation...')\n",
    "t = time.time()\n",
    "# ERIs in spin-orbital basis in physicist convention\n",
    "MO = np.asarray(mints.mo_spin_eri(Ca, Ca))\n",
    "\n",
    "nso = 2 * nmo\n",
    "TDI_spin = np.zeros((nso, nso, nso, nso))\n",
    "# get the dipole-dipole integrals in the spin-orbital basis with physicist convention\n",
    "for i in range(nso):\n",
    "    for j in range(nso):\n",
    "        for k in range(nso):\n",
    "            for l in range(nso):\n",
    "                TDI_spin[i, j, k, l] = map_spatial_dipole_to_spin(l_dot_mu_el_cmo, i, j, k, l)\n",
    "                \n",
    "# add dipole-dipole integrals to ERIs\n",
    "MO += TDI_spin\n",
    "    \n",
    "print(\"Printing 1-e H matrix\")   \n",
    "print(H)\n",
    "print(F'The dimensions of the 1-e H matrix is {H.shape}')\n",
    "print(F'The dimesions of the 2-e integral arrays in the spin orbital basis is {MO.shape}')"
   ]
  },
  {
   "cell_type": "markdown",
   "id": "c91abe48",
   "metadata": {},
   "source": [
    "Now we are going to transform 1-e integrals into the CQED-RHF basis"
   ]
  },
  {
   "cell_type": "code",
   "execution_count": 8,
   "id": "973e74eb",
   "metadata": {},
   "outputs": [
    {
     "name": "stdout",
     "output_type": "stream",
     "text": [
      "[[-1.09708  0.     ]\n",
      " [ 0.      -0.57361]]\n",
      "[[-0.       0.03216]\n",
      " [ 0.03216  0.     ]]\n"
     ]
    }
   ],
   "source": [
    "\n",
    "# Update H, transform to MO basis and tile for alpha/beta spin\n",
    "H = np.einsum('uj,vi,uv', Ca, Ca, H)\n",
    "\n",
    "\n",
    "# prepare the g matrix by transforming the l_dot_mu_el matrix * sqrt(\\omega / 2)\n",
    "g_mat = np.einsum('uj,vi,uv', Ca, Ca, -np.sqrt(omega_val / 2) * l_dot_mu_el)\n",
    "\n",
    "print(H)\n",
    "print(g_mat)\n",
    "\n",
    "\n"
   ]
  },
  {
   "cell_type": "markdown",
   "id": "24297856",
   "metadata": {},
   "source": [
    "Now we are going to put the 1-e arrays into the spin-orbital basis, so that each in the resulting\n",
    "arrays is of the form $H_{pq} = \\langle \\chi_p | \\hat{O}_1 | \\chi_q \\rangle$.  This array will be \n",
    "organized into spin blocks as follows:\n",
    "\n",
    "\\begin{equation}\n",
    "\\begin{bmatrix}\n",
    "\\langle p | \\hat{O}_1 |q\\rangle  & \\langle p | \\hat{O}_1| \\overline{q}\\rangle \\\\\n",
    "\\langle \\overline{p} | \\hat{O}_1|q\\rangle  & \\langle \\overline{p}| \\hat{O}_1| \\overline{q}\\rangle\n",
    "\\end{bmatrix}\n",
    "\\end{equation}"
   ]
  },
  {
   "cell_type": "code",
   "execution_count": 9,
   "id": "2036f2ea",
   "metadata": {},
   "outputs": [
    {
     "name": "stdout",
     "output_type": "stream",
     "text": [
      "printing H after 1st repeat\n",
      "[[-1.09708  0.     ]\n",
      " [-1.09708  0.     ]\n",
      " [ 0.      -0.57361]\n",
      " [ 0.      -0.57361]]\n",
      "printing H after 2nd repeat\n",
      "[[-1.09708 -1.09708  0.       0.     ]\n",
      " [-1.09708 -1.09708  0.       0.     ]\n",
      " [ 0.       0.      -0.57361 -0.57361]\n",
      " [ 0.       0.      -0.57361 -0.57361]]\n",
      "printing g_mat after 2nd repeate\n",
      "[[-0.      -0.       0.03216  0.03216]\n",
      " [-0.      -0.       0.03216  0.03216]\n",
      " [ 0.03216  0.03216  0.       0.     ]\n",
      " [ 0.03216  0.03216  0.       0.     ]]\n",
      "after spin blocking\n",
      "[[-1.09708 -0.       0.       0.     ]\n",
      " [-0.      -1.09708  0.       0.     ]\n",
      " [ 0.       0.      -0.57361 -0.     ]\n",
      " [ 0.       0.      -0.      -0.57361]]\n",
      "[[-0.      -0.       0.03216  0.     ]\n",
      " [-0.      -0.       0.       0.03216]\n",
      " [ 0.03216  0.       0.       0.     ]\n",
      " [ 0.       0.03216  0.       0.     ]]\n",
      "..finished transformation in 0.014 seconds.\n",
      "\n"
     ]
    },
    {
     "name": "stderr",
     "output_type": "stream",
     "text": [
      "<ipython-input-9-050354007e26>:14: DeprecationWarning: `np.int` is a deprecated alias for the builtin `int`. To silence this warning, use `int` by itself. Doing this will not modify any behavior and is safe. When replacing `np.int`, you may wish to use e.g. `np.int64` or `np.int32` to specify the precision. If you wish to review your current use, check the release note link for additional information.\n",
      "Deprecated in NumPy 1.20; for more details and guidance: https://numpy.org/devdocs/release/1.20.0-notes.html#deprecations\n",
      "  spin_ind = np.arange(H.shape[0], dtype=np.int) % 2\n"
     ]
    }
   ],
   "source": [
    "H = np.repeat(H, 2, axis=0)\n",
    "print(\"printing H after 1st repeat\")\n",
    "print(H)\n",
    "H = np.repeat(H, 2, axis=1)\n",
    "print(\"printing H after 2nd repeat\")\n",
    "print(H)\n",
    "g_mat = np.repeat(g_mat, 2, axis=0)\n",
    "g_mat = np.repeat(g_mat, 2, axis=1)\n",
    "print(\"printing g_mat after 2nd repeate\")\n",
    "print(g_mat)\n",
    "\n",
    "\n",
    "# Make H block diagonal\n",
    "spin_ind = np.arange(H.shape[0], dtype=np.int) % 2\n",
    "H *= (spin_ind.reshape(-1, 1) == spin_ind)\n",
    "g_mat *= (spin_ind.reshape(-1, 1) == spin_ind)\n",
    "\n",
    "print(\"after spin blocking\")\n",
    "print(H)\n",
    "print(g_mat)\n",
    "\n",
    "print('..finished transformation in %.3f seconds.\\n' % (time.time() - t))"
   ]
  },
  {
   "cell_type": "markdown",
   "id": "c153fc7b",
   "metadata": {},
   "source": []
  },
  {
   "cell_type": "markdown",
   "id": "3d4d477f",
   "metadata": {},
   "source": [
    "Here we are going to generate the set of all singly-excited determinants $|\\Phi_i^a\\rangle$\n",
    "that we will call `singlesDets` and the reference determinant $|\\Phi_0\\rangle$ \n",
    "that we will calle `refDet`.\n",
    "\n",
    "In principle we can use this loop to build a list of determinants for any CI method, including CASCI.\n",
    "Right now it is actually generating all excitations (FCI) and then only computing those for which the total excitation rank is <= 1, which is equivalent to CIS.  "
   ]
  },
  {
   "cell_type": "code",
   "execution_count": 10,
   "id": "196f4e7a",
   "metadata": {},
   "outputs": [
    {
     "name": "stdout",
     "output_type": "stream",
     "text": [
      "Generating singly-excited determinants\n",
      " adding alpha: (0,) and beta: (0,)\n",
      "\n",
      " adding alpha: (0,) and beta: (1,)\n",
      "\n",
      " adding alpha: (1,) and beta: (0,)\n",
      "\n",
      "..finished generating singly-excited determinants in 0.000 seconds.\n",
      "\n",
      "..there are 3 determinants \n",
      "\n",
      "|[0][0]>\n",
      "|[0][1]>\n",
      "|[1][0]>\n",
      "Generating reference determinant\n",
      "|[0][0]>\n"
     ]
    }
   ],
   "source": [
    "\n",
    "print('Generating singly-excited determinants')\n",
    "t = time.time()\n",
    "singlesDets = []\n",
    "for alpha in combinations(range(nmo), ndocc): #<== this generates all combinations of alpha electrons in alpha orbitals\n",
    "    alpha_ex_level = compute_excitation_level(alpha, ndocc) #<== this computes the excitation rank\n",
    "    for beta in combinations(range(nmo), ndocc): #<== this generates all combinations of beta electronsi in betal orbitals\n",
    "        beta_ex_level = compute_excitation_level(beta, ndocc) #<== this computes the excitation rank\n",
    "        if alpha_ex_level + beta_ex_level <= 1: #<== this only proceeds if excitation rank is S or 0\n",
    "            print(F' adding alpha: {alpha} and beta: {beta}\\n') \n",
    "            singlesDets.append(Determinant(alphaObtList=alpha, betaObtList=beta))\n",
    "\n",
    "print('..finished generating singly-excited determinants in %.3f seconds.\\n' % (time.time() - t))\n",
    "print(F'..there are {len(singlesDets)} determinants \\n')\n",
    "for i in range(len(singlesDets)):\n",
    "    print(singlesDets[i])\n",
    "    \n",
    "print('Generating reference determinant')\n",
    "\n",
    "occList = [i for i in range(ndocc)]\n",
    "refDet = Determinant(alphaObtList=occList, betaObtList=occList)\n",
    "print(refDet)\n"
   ]
  },
  {
   "cell_type": "code",
   "execution_count": 11,
   "id": "2226477b",
   "metadata": {},
   "outputs": [
    {
     "name": "stdout",
     "output_type": "stream",
     "text": [
      "\n",
      "Start SCF iterations:\n",
      "\n",
      "Canonical RHF One-electron energy = -2.2216883593010506\n",
      "CQED-RHF One-electron energy      = -2.1941536730190530\n",
      "Nuclear repulsion energy          = 0.5291772106700000\n",
      "Dipole energy                     = 0.0000000000000000\n",
      "SCF Iteration   1: Energy = -1.0385739629033175   dE = -1.03857E+00   dRMS = 1.01113E-16\n",
      "SCF Iteration   2: Energy = -1.0385739629033175   dE =  0.00000E+00   dRMS = 1.16728E-16\n",
      "Total time for SCF iterations: 0.000 seconds \n",
      "\n",
      "QED-RHF   energy: -1.03857396 hartree\n",
      "Psi4  SCF energy: -1.06610865 hartree\n",
      "RAN CQED-RHF!\n",
      "-1.0661086491853156\n"
     ]
    }
   ],
   "source": [
    "Np = 1\n",
    "PF_Hamiltonian_Matrix = PFHamiltonianGenerator(Np, mol_str, options_dict , lambda_vector, omega_val)"
   ]
  },
  {
   "cell_type": "code",
   "execution_count": 12,
   "id": "99d6ad4b",
   "metadata": {},
   "outputs": [
    {
     "name": "stdout",
     "output_type": "stream",
     "text": [
      "DiffIn1Phot -> s:0, i:0, si:0, t:1, j:0, tj:3\n",
      "DiffIn1Phot -> s:0, i:0, si:0, t:1, j:1, tj:4\n",
      "DiffIn1Phot -> s:0, i:0, si:0, t:1, j:2, tj:5\n",
      "DiffIn1Phot -> s:0, i:1, si:1, t:1, j:0, tj:3\n",
      "DiffIn1Phot -> s:0, i:1, si:1, t:1, j:1, tj:4\n",
      "DiffIn1Phot -> s:0, i:1, si:1, t:1, j:2, tj:5\n",
      "DiffIn1Phot -> s:0, i:2, si:2, t:1, j:0, tj:3\n",
      "DiffIn1Phot -> s:0, i:2, si:2, t:1, j:1, tj:4\n",
      "DiffIn1Phot -> s:0, i:2, si:2, t:1, j:2, tj:5\n",
      "DiffIn1Phot -> s:1, i:0, si:3, t:0, j:0, tj:0\n",
      "DiffIn1Phot -> s:1, i:0, si:3, t:0, j:1, tj:1\n",
      "DiffIn1Phot -> s:1, i:0, si:3, t:0, j:2, tj:2\n",
      "DiffIn1Phot -> s:1, i:1, si:4, t:0, j:0, tj:0\n",
      "DiffIn1Phot -> s:1, i:1, si:4, t:0, j:1, tj:1\n",
      "DiffIn1Phot -> s:1, i:1, si:4, t:0, j:2, tj:2\n",
      "DiffIn1Phot -> s:1, i:2, si:5, t:0, j:0, tj:0\n",
      "DiffIn1Phot -> s:1, i:2, si:5, t:0, j:1, tj:1\n",
      "DiffIn1Phot -> s:1, i:2, si:5, t:0, j:2, tj:2\n"
     ]
    }
   ],
   "source": [
    "PF_H = PF_Hamiltonian_Matrix.generatePFMatrix(singlesDets)"
   ]
  },
  {
   "cell_type": "code",
   "execution_count": 13,
   "id": "ef241111",
   "metadata": {},
   "outputs": [
    {
     "name": "stdout",
     "output_type": "stream",
     "text": [
      "[[-1.56775 -0.      -0.      -0.       0.03216  0.03216]\n",
      " [-0.      -1.04898  0.20864  0.03216  0.       0.     ]\n",
      " [-0.       0.20864 -1.04898  0.03216  0.       0.     ]\n",
      " [-0.       0.03216  0.03216 -1.39319 -0.      -0.     ]\n",
      " [ 0.03216  0.       0.      -0.      -0.87442  0.20864]\n",
      " [ 0.03216  0.       0.      -0.       0.20864 -0.87442]]\n"
     ]
    }
   ],
   "source": [
    "# DiffIn1el1Phot -> s:0, i:1, si:1, t:1, j:2, tj:5\n",
    "# DiffIn1el1Phot -> s:0, i:2, si:2, t:1, j:1, tj:4                    \n",
    "print(PF_H)"
   ]
  },
  {
   "cell_type": "code",
   "execution_count": 14,
   "id": "9f1f912f",
   "metadata": {},
   "outputs": [
    {
     "name": "stdout",
     "output_type": "stream",
     "text": [
      "-2.287196326906e-03\n",
      "1.708432671266e-01\n",
      "3.101337811026e-01\n",
      "4.846930628867e-01\n",
      "7.311273851026e-01\n",
      "9.042578485561e-01\n"
     ]
    }
   ],
   "source": [
    "e_fci, wavefunctions = np.linalg.eigh(PF_H)\n",
    "E_0 = -1.5677511735733174\n",
    "for i in range(len(e_fci)):\n",
    "    ex_e = e_fci[i]-E_0\n",
    "    print(F'{ex_e:.12e}')"
   ]
  },
  {
   "cell_type": "code",
   "execution_count": null,
   "id": "666de5c9",
   "metadata": {},
   "outputs": [],
   "source": []
  },
  {
   "cell_type": "code",
   "execution_count": null,
   "id": "ec87a9cd",
   "metadata": {},
   "outputs": [],
   "source": []
  }
 ],
 "metadata": {
  "kernelspec": {
   "display_name": "Python 3",
   "language": "python",
   "name": "python3"
  },
  "language_info": {
   "codemirror_mode": {
    "name": "ipython",
    "version": 3
   },
   "file_extension": ".py",
   "mimetype": "text/x-python",
   "name": "python",
   "nbconvert_exporter": "python",
   "pygments_lexer": "ipython3",
   "version": "3.8.16"
  },
  "vscode": {
   "interpreter": {
    "hash": "2463cbcb379b8a49ed799784d6e0033fd634b3823d327a76d1d60741708bab10"
   }
  }
 },
 "nbformat": 4,
 "nbformat_minor": 5
}
