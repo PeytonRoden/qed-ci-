{
 "cells": [
  {
   "cell_type": "code",
   "execution_count": 1,
   "id": "57746595",
   "metadata": {},
   "outputs": [],
   "source": [
    "import numpy as np\n",
    "import sys\n",
    "#np.set_printoptions(precision=5, linewidth=200, suppress=True)\n",
    "import psi4\n",
    "from helper_PFCI import PFHamiltonianGenerator\n",
    "from helper_cqed_rhf import cqed_rhf\n",
    "np.set_printoptions(threshold=sys.maxsize)"
   ]
  },
  {
   "cell_type": "code",
   "execution_count": 2,
   "id": "43dbae27",
   "metadata": {},
   "outputs": [],
   "source": [
    "mol_str = \"\"\"\n",
    "0 1\n",
    "o\n",
    "h 1 1.0\n",
    "h 1 1.0 2 104.0\n",
    "symmetry c1\n",
    "\"\"\"\n",
    "\n",
    "options_dict = {'basis': '6-31g',\n",
    "                  'scf_type': 'pk',\n",
    "                  'e_convergence': 1e-10,\n",
    "                  'd_convergence': 1e-10\n",
    "                  }\n",
    "\n",
    "mol = psi4.geometry(mol_str)\n",
    "\n",
    "\n",
    "psi4.set_options(options_dict)\n",
    "psi4.core.set_output_file('output.dat', False)"
   ]
  },
  {
   "cell_type": "code",
   "execution_count": 3,
   "id": "c45f3eac",
   "metadata": {},
   "outputs": [
    {
     "name": "stdout",
     "output_type": "stream",
     "text": [
      "0\n",
      "\n",
      "Start SCF iterations:\n",
      "\n",
      "Canonical RHF One-electron energy = -122.2743570184695727\n",
      "CQED-RHF One-electron energy      = -122.2743570184695727\n",
      "Nuclear repulsion energy          = 8.8026031303907679\n",
      "Dipole energy                     = 0.0000000000000000\n",
      "SCF Iteration   1: Energy = -75.9800163449004344   dE = -7.59800E+01   dRMS = 5.74391E-13\n",
      "SCF Iteration   2: Energy = -75.9800163449003350   dE =  9.94760E-14   dRMS = 1.52547E-13\n",
      "Total time for SCF iterations: 0.001 seconds \n",
      "\n",
      "QED-RHF   energy: -75.98001634 hartree\n",
      "Psi4  SCF energy: -75.98001634 hartree\n"
     ]
    }
   ],
   "source": [
    "# photon energy\n",
    "#omega_val = 2.0 / psi4.constants.Hartree_energy_in_eV\n",
    "omega_val = 0\n",
    "\n",
    "print(omega_val)\n",
    "\n",
    "# lambda vector\n",
    "lambda_vector = np.array([0., 0., 0.0])\n",
    "#lambda_vector = np.array([0.5, 0.5, 0.5])\n",
    "\n",
    "n_act_orb=5\n",
    "#number of active electrons\n",
    "n_act_el=4\n",
    "# Build PF Hamiltonian matrix \n",
    "H2_PF = PFHamiltonianGenerator(1, mol_str, options_dict, lambda_vector,omega_val, n_act_el,n_act_orb,ignore_coupling=True, cas=False)\n"
   ]
  },
  {
   "cell_type": "code",
   "execution_count": 4,
   "id": "1aa8d0f9",
   "metadata": {},
   "outputs": [],
   "source": [
    "# diagonalize the Hamiltonian matrix\n",
    "e_fci, wavefunctions = np.linalg.eigh(H2_PF.H_PF)\n"
   ]
  },
  {
   "cell_type": "code",
   "execution_count": 5,
   "id": "e59ff2d2",
   "metadata": {},
   "outputs": [
    {
     "name": "stdout",
     "output_type": "stream",
     "text": [
      "9.000000000000007\n",
      "1.0000000000000007\n",
      "10.000000000000007\n"
     ]
    }
   ],
   "source": [
    "H2_PF.calc1RDMfromCIS(wavefunctions[:,14])\n",
    "print(np.trace(H2_PF.Dij))\n",
    "print(np.trace(H2_PF.Dab))\n",
    "print(np.trace(H2_PF.D1))\n",
    "\n",
    "\n",
    "\n",
    "e1_test_rdm = np.einsum(\"pq,pq->\", H2_PF.Hspin, H2_PF.D1)\n",
    "\n",
    "temp=np.einsum(\"pq,q->p\", H2_PF.H_1E,wavefunctions[:,14])\n",
    "e1_test_wfn = np.dot(wavefunctions[:,14].T,temp)\n",
    "\n",
    "\n"
   ]
  },
  {
   "cell_type": "code",
   "execution_count": 6,
   "id": "b74078b0",
   "metadata": {},
   "outputs": [
    {
     "name": "stdout",
     "output_type": "stream",
     "text": [
      "-119.48756194249603\n",
      "-119.48756194249606\n",
      "3.197442310920451e-14\n"
     ]
    }
   ],
   "source": [
    "print(e1_test_rdm)\n",
    "print(e1_test_wfn-H2_PF.Enuc)\n",
    "print(e1_test_rdm-e1_test_wfn+H2_PF.Enuc)"
   ]
  },
  {
   "cell_type": "code",
   "execution_count": null,
   "id": "edea711d",
   "metadata": {},
   "outputs": [],
   "source": []
  }
 ],
 "metadata": {
  "kernelspec": {
   "display_name": "Python 3 (ipykernel)",
   "language": "python",
   "name": "python3"
  },
  "language_info": {
   "codemirror_mode": {
    "name": "ipython",
    "version": 3
   },
   "file_extension": ".py",
   "mimetype": "text/x-python",
   "name": "python",
   "nbconvert_exporter": "python",
   "pygments_lexer": "ipython3",
   "version": "3.9.13"
  }
 },
 "nbformat": 4,
 "nbformat_minor": 5
}
