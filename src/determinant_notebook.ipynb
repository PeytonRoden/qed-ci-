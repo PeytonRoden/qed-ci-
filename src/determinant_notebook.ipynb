{
 "cells": [
  {
   "cell_type": "code",
   "execution_count": 1,
   "id": "57746595",
   "metadata": {},
   "outputs": [],
   "source": [
    "import numpy as np\n",
    "np.set_printoptions(precision=5, linewidth=200, suppress=True)\n",
    "import psi4\n",
    "# import Determinant class and PFHamiltonianGenerator class\n",
    "from helper_PFCI import PFHamiltonianGenerator, Determinant"
   ]
  },
  {
   "cell_type": "markdown",
   "id": "77e37264",
   "metadata": {},
   "source": [
    "Set up molecule and psi4 options"
   ]
  },
  {
   "cell_type": "code",
   "execution_count": 2,
   "id": "43dbae27",
   "metadata": {},
   "outputs": [],
   "source": [
    "# water\n",
    "#mol_str = \"\"\"\n",
    "#O\n",
    "#H 1 1.1\n",
    "#H 1 1.1 2 104\n",
    "#symmetry c1\n",
    "#\"\"\"\n",
    "\n",
    "# suppress printing of psi4 output\n",
    "psi4.core.set_output_file('output.dat', False)\n",
    "\n",
    "# LiH\n",
    "mol_str = \"\"\"\n",
    "H\n",
    "H 1 1.0\n",
    "symmetry c1\n",
    "\"\"\"\n",
    "options_dict = {'basis': 'sto-3g',\n",
    "                  'scf_type': 'pk',\n",
    "                  'e_convergence': 1e-10,\n",
    "                  'd_convergence': 1e-10,\n",
    "                  }\n"
   ]
  },
  {
   "cell_type": "markdown",
   "id": "bbc0f561",
   "metadata": {},
   "source": [
    "Set up the PF parameters and build the PFHamiltonian matrix. \n",
    "Note that there is now an optional keyword 'ci_level' which can be either 'cis' or 'fci'."
   ]
  },
  {
   "cell_type": "code",
   "execution_count": 13,
   "id": "c45f3eac",
   "metadata": {},
   "outputs": [
    {
     "name": "stdout",
     "output_type": "stream",
     "text": [
      "\n",
      "Start SCF iterations:\n",
      "\n",
      "Canonical RHF One-electron energy = -2.2216883593010519\n",
      "CQED-RHF One-electron energy      = -2.2216883593010519\n",
      "Nuclear repulsion energy          = 0.5291772106700000\n",
      "Dipole energy                     = 0.0000000000000000\n",
      "SCF Iteration   1: Energy = -1.0661086491853156   dE = -1.06611E+00   dRMS = 9.76522E-17\n",
      "SCF Iteration   2: Energy = -1.0661086491853151   dE =  4.44089E-16   dRMS = 8.65516E-17\n",
      "Total time for SCF iterations: 0.000 seconds \n",
      "\n",
      "QED-RHF   energy: -1.06610865 hartree\n",
      "Psi4  SCF energy: -1.06610865 hartree\n",
      "\n",
      "Start SCF iterations:\n",
      "\n",
      "Canonical RHF One-electron energy = -2.2216883593010519\n",
      "CQED-RHF One-electron energy      = -2.2216883593010519\n",
      "Nuclear repulsion energy          = 0.5291772106700000\n",
      "Dipole energy                     = 0.0000000000000000\n",
      "SCF Iteration   1: Energy = -1.0661086491853156   dE = -1.06611E+00   dRMS = 9.76522E-17\n",
      "SCF Iteration   2: Energy = -1.0661086491853151   dE =  4.44089E-16   dRMS = 8.65516E-17\n",
      "Total time for SCF iterations: 0.000 seconds \n",
      "\n",
      "QED-RHF   energy: -1.06610865 hartree\n",
      "Psi4  SCF energy: -1.06610865 hartree\n",
      " Printing 1RDM\n",
      "[[0. 0.]\n",
      " [0. 1.]]\n",
      " TRACE OF 1RDM IS  1.0\n",
      " Printing 1RDM b\n",
      "[[1. 0.]\n",
      " [0. 0.]]\n",
      " TRACE OF 1RDMb is  1.0\n",
      "Generated 3 Determinats for cis\n",
      "|[0][0]>\n",
      "|[1][0]>\n",
      "|[0][1]>\n",
      "just got occupation list of determinants\n",
      "[0] [0]\n"
     ]
    }
   ],
   "source": [
    "# photon energy\n",
    "#omega_val = 2.0 / psi4.constants.Hartree_energy_in_eV\n",
    "omega_val = 0.0\n",
    "\n",
    "# lambda vector\n",
    "lambda_vector = np.array([.0, .0, .0])\n",
    "#lambda_vector = np.array([0, 0, 0.0])\n",
    "\n",
    "# Build PF Hamiltonian matrix \n",
    "H2_PF = PFHamiltonianGenerator(1, mol_str, options_dict, lambda_vector,omega_val, ignore_coupling=False, ci_level=\"cis\")\n",
    "\n",
    "# uncomment to print\n",
    "\n",
    "#print(H2_PF.H_PF)\n"
   ]
  },
  {
   "cell_type": "markdown",
   "id": "c620f347",
   "metadata": {},
   "source": [
    "We will diagonalize the Hamiltonian and grab the \n",
    "CIS vector for the first singlet excited state of LiH, which turns out to be the\n",
    "5th root of the CIS Hamiltonian."
   ]
  },
  {
   "cell_type": "code",
   "execution_count": 14,
   "id": "392c849c",
   "metadata": {},
   "outputs": [
    {
     "name": "stdout",
     "output_type": "stream",
     "text": [
      "E_5         : -0.3522906262607207\n",
      "<E> with c_5: -0.3522906262607207\n",
      "c_5 . c_5   : 0.9999999999999994\n"
     ]
    }
   ],
   "source": [
    "e_fci, wavefunctions = np.linalg.eigh(H2_PF.H_PF)\n",
    "\n",
    "e_5 = e_fci[4]\n",
    "c_5 = wavefunctions[:,4]\n",
    "\n",
    "# check to make sure these vectors are normalized and that the expectation value of the \n",
    "# <c_5 | H_PF | c_5> = E_5\n",
    "E_exp = np.dot(c_5, np.dot( H2_PF.H_PF , c_5 ))\n",
    "\n",
    "norm = np.dot( c_5 , c_5 )\n",
    "print(\"E_5         :\", e_5)\n",
    "print(\"<E> with c_5:\", E_exp)\n",
    "print(\"c_5 . c_5   :\", norm)"
   ]
  },
  {
   "cell_type": "markdown",
   "id": "6bfeb9cf",
   "metadata": {},
   "source": [
    "Now we will print the coefficients associated with each determinant in the determinant list.\n",
    "Note that the ordering of these determinants goes as follows:\n",
    "\\begin{align}\n",
    "|R\\rangle|0\\rangle \\\\\n",
    "|S\\rangle|0\\rangle \\\\\n",
    "|R\\rangle|1\\rangle \\\\\n",
    "|S\\rangle|1\\rangle\n",
    "\\end{align}\n",
    "where $|S\\rangle$ denotes all of the singly-excited determinants.\n",
    "We will get the total number of electronic determinants ($|R\\rangle \\& |S\\rangle$),\n",
    "the total number of singly-excited determinants ($|S\\rangle$), and the total\n",
    "number of electronic-photonic determinants \n",
    "($|R\\rangle|0\\rangle \\& |S\\rangle|0\\rangle \\& |R\\rangle|1\\rangle \\& |S\\rangle|1\\rangle = 2(|R\\rangle \\& |S\\rangle)$)"
   ]
  },
  {
   "cell_type": "code",
   "execution_count": 15,
   "id": "f754f117",
   "metadata": {},
   "outputs": [
    {
     "name": "stdout",
     "output_type": "stream",
     "text": [
      "3\n"
     ]
    }
   ],
   "source": [
    "# number of electronic determinants\n",
    "n_el_dets = len(H2_PF.dets)\n",
    "# number of singly-excited electronic determinants\n",
    "n_el_sings = n_el_dets - 1\n",
    "# number of electronic-photonic determinants\n",
    "n_elp_dets = len(c_5)\n",
    "\n",
    "print(n_el_dets)\n",
    "assert n_elp_dets == 2 * n_el_dets\n",
    "assert n_el_sings == n_el_dets - 1"
   ]
  },
  {
   "cell_type": "markdown",
   "id": "6e990a7e",
   "metadata": {},
   "source": [
    "We can print each determinant along with its corresponding CIS coefficient:"
   ]
  },
  {
   "cell_type": "code",
   "execution_count": 16,
   "id": "d64f862e",
   "metadata": {},
   "outputs": [
    {
     "name": "stdout",
     "output_type": "stream",
     "text": [
      "  -0.0000e+00 : |[0][0]>|0>    0\n",
      "   7.0711e-01 : |[1][0]>|0>    1\n",
      "   7.0711e-01 : |[0][1]>|0>    2\n",
      "  -0.0000e+00 : |[0][0]>|1>     3\n",
      "  -0.0000e+00 : |[1][0]>|1>     4\n",
      "  -0.0000e+00 : |[0][1]>|1>     5\n",
      "test\n",
      "|[0][1]>\n",
      "[0]\n",
      "[1]\n"
     ]
    }
   ],
   "source": [
    "cnt = 0\n",
    "for i in range(n_el_dets):\n",
    "    print(F\" {c_5[i]:12.4e} : {H2_PF.dets[i]}|0>    {cnt}\")\n",
    "    cnt += 1\n",
    "    \n",
    "    \n",
    "for i in range(n_el_dets):\n",
    "    print(F\" {c_5[i+n_el_dets]:12.4e} : {H2_PF.dets[i]}|1>     {cnt}\")\n",
    "    cnt += 1\n",
    "\n",
    "    \n",
    "print(\"test\")\n",
    "print(H2_PF.dets[2])\n",
    "a, b = H2_PF.dets[2].getOrbitalIndexLists()\n",
    "print(a)\n",
    "print(b)\n",
    "\n"
   ]
  },
  {
   "cell_type": "code",
   "execution_count": 12,
   "id": "9bff930b",
   "metadata": {},
   "outputs": [
    {
     "name": "stdout",
     "output_type": "stream",
     "text": [
      "|[0][1]>\n",
      "|[][1]>\n"
     ]
    }
   ],
   "source": [
    "q = 0\n",
    "print(H2_PF.dets[2])\n",
    "if (q in a):\n",
    "    H2_PF.dets[2].removeAlphaOrbital(q)\n",
    "#H2_PF.dets[2].removeBetaOrbital(0)\n",
    "print(H2_PF.dets[2])\n"
   ]
  },
  {
   "cell_type": "markdown",
   "id": "cef97e69",
   "metadata": {},
   "source": [
    "It is more helpful to associate the excitation indices with each determinant so that the \n",
    "corresponding CIS coefficient can be associated with its orbital labels.  \n",
    "For example:\n",
    "\n",
    "\\begin{align}\n",
    "-6.3453e-03 &: |1, 2,\\overline{0},\\overline{1}\\rangle|0\\rangle \\rightarrow c^0_{0,2} \\\\\n",
    "-6.3453e-03 &: |0, 1,\\overline{1},\\overline{2}\\rangle|0\\rangle \\rightarrow c^0_{\\overline{0},\\overline{2}} \\\\\n",
    "0.0000e+00  &: |0, 5,\\overline{0},\\overline{1}\\rangle|1\\rangle \\rightarrow c^1_{1,5}\n",
    "\\end{align}\n",
    "\n",
    "The following block will use the methods of the Determinant class to make this correspondence.\n",
    "We will form 4 different arrays each with size $nmo x nmo$.  \n",
    "\n",
    "`c0_alpha[i,a]` : $c^0_{i,a}$\n",
    "\n",
    "`c0_beta[i,a]` : $c^0_{\\overline{i},\\overline{a}}$\n",
    "\n",
    "`c1_alpha[i,a]` : $c^1_{i,a}$\n",
    "\n",
    "`c1_beta[i,a]` : $c^1_{\\overline{i},\\overline{a}}$\n",
    "\n",
    "to hold these coefficients.\n"
   ]
  },
  {
   "cell_type": "code",
   "execution_count": null,
   "id": "679bfc9a",
   "metadata": {},
   "outputs": [],
   "source": [
    "# initialize the 4 arrays that will store the coefficients\n",
    "nmo = H2_PF.nmo\n",
    "c0_alpha = np.zeros((nmo,nmo))\n",
    "c1_alpha = np.zeros_like(c0_alpha)\n",
    "c0_beta = np.zeros_like(c0_alpha)\n",
    "c1_beta = np.zeros_like(c0_alpha)\n",
    "\n",
    "\n",
    "# get the occupation string to use for the reference\n",
    "occList = [i for i in range(H2_PF.ndocc)]\n",
    "\n",
    "print(\"Reference occupation string is\", occList)\n",
    "\n",
    "# generate the reference determinant using this occupation string\n",
    "# for both alpha and beta spin orbitals\n",
    "det_ref = Determinant(alphaObtList=occList, betaObtList=occList)\n",
    "print(\"Reference Determinant:\", det_ref)\n",
    "\n",
    "# get a list of occupied alpha and beta spin orbitals\n",
    "alphaO, betaO = det_ref.getOrbitalIndexLists()\n",
    "print(\"Occupied Alpha Orbital List\", alphaO)\n",
    "print(\"Occupied Beta Orbital List \", betaO)\n",
    "\n",
    "# get a list of unnoccupied alpha and beta spin orbitals\n",
    "alphaU, betaU = det_ref.getUnoccupiedOrbitalsInLists(H2_PF.nmo)\n",
    "print(\"Unoccupied Alpha Orbital List\", alphaU)\n",
    "print(\"Unoccupied Beta Orbital List \", betaU)\n",
    "\n",
    "# loop through the i, a pairs for the alpha orbitals and\n",
    "# map the coefficients to nmoxnmo c arrays\n",
    "_ci = 1\n",
    "for i in alphaO:\n",
    "    for a in alphaU:\n",
    "        c0_alpha[i,a] = c_5[_ci]\n",
    "        c1_alpha[i,a] = c_5[_ci + n_el_dets]\n",
    "        _ci += 1\n",
    "        \n",
    "\n",
    "for i in betaO:\n",
    "    for a in betaU:\n",
    "        c0_beta[i, a] = c_5[_ci]\n",
    "        c1_beta[i, a] = c_5[_ci + n_el_dets]\n",
    "        _ci += 1\n",
    "\n",
    "print(c0_alpha)\n",
    "print(c0_beta)\n",
    "print(c1_alpha)\n",
    "print(c1_beta)"
   ]
  },
  {
   "cell_type": "code",
   "execution_count": null,
   "id": "aa907c90",
   "metadata": {},
   "outputs": [],
   "source": []
  },
  {
   "cell_type": "code",
   "execution_count": null,
   "id": "1aa8d0f9",
   "metadata": {},
   "outputs": [],
   "source": [
    "# diagonalize the Hamiltonian matrix\n",
    "e_fci, wavefunctions = np.linalg.eigh(H2_PF.H_PF)\n",
    "\n",
    "#print the ground-state and first excited state\n",
    "#print(\"Psi4 |G> is \",fci_e)\n",
    "print(\"|G> is \",e_fci[0])\n",
    "print(\"|LP> is \",e_fci[1])\n",
    "#|G> is  -75.01298018271805\n",
    "#|LP> is  -75.01298018271805\n",
    "assert np.isclose(e_fci[0],-74.94207989868084)"
   ]
  },
  {
   "cell_type": "code",
   "execution_count": null,
   "id": "35b57f20",
   "metadata": {},
   "outputs": [],
   "source": [
    "cqed_cis_dict = cs_cqed_cis(lambda_vector, omega_val, mol_str, options_dict)\n",
    "_c_vecs = cqed_cis_dict[\"CQED-CIS L VECTORS\"]\n",
    "\n"
   ]
  },
  {
   "cell_type": "code",
   "execution_count": null,
   "id": "616ee0b4",
   "metadata": {},
   "outputs": [],
   "source": [
    "c_0 = _c_vecs[:,0]\n",
    "c_1 = _c_vecs[:,1]\n",
    "c_2 = _c_vecs[:,2]\n",
    "c_3 = _c_vecs[:,3]\n",
    "c_4 = _c_vecs[:,4]\n",
    "\n",
    "print(c_4)"
   ]
  },
  {
   "cell_type": "code",
   "execution_count": null,
   "id": "86074a51",
   "metadata": {},
   "outputs": [],
   "source": [
    "_nmo = H2_PF.nmo\n",
    "_ndocc = H2_PF.ndocc\n",
    "_nvirt = _nmo - _ndocc\n",
    "\n",
    "# total number of states in {|R,0>, |R,1>, |S,0>, |S,1>}\n",
    "_n_ss = len(c_1)\n",
    "# total number of states in {|R,0>, |S,0>} and in {|R,1>, |S,1>}\n",
    "_n_s = int(_n_ss / 2)\n",
    "\n",
    "# right now the CI configurations are odered like the following:\n",
    "# |R,0>, |R,1>, |S1,0>, |S1,1>, |S2,0>, |S2,1>, ...\n",
    "# where |S1> denotes the first singly-excited derminant, |S2> the second, etc\n",
    "# so the configurations with 0 photon occupation have even indices and\n",
    "# the configurations with 1 photon occupation have odd indices.\n",
    "\n",
    "_pvac_idx = np.arange(0, _n_ss, 2)  # <== indices for C coeffs for |0> states\n",
    "_pone_idx = np.arange(1, _n_ss, 2)  # <== indices for C coeffs for |1> states\n",
    "\n",
    "# CIS coefficients spanning the |R,0> and |S,0> states\n",
    "c_n0 = c_1[_pvac_idx]\n",
    "# CIS coefficients spanning the |R,1> and |R,1> states\n",
    "c_n1 = c_1[_pone_idx]\n",
    "\n",
    "# now each vector spans the |R> + {|S>} basis for a given photon state.\n",
    "# for the {|S>}, let's generate a list of the excitations in the order\n",
    "# of the |S> basis\n",
    "_pi = np.zeros(_nmo)\n",
    "_xi = np.zeros(_nmo)\n",
    "\n",
    "\n",
    "excitations = []\n",
    "C0_ia = np.zeros((_nmo, _nmo))\n",
    "C1_ia = np.zeros((_nmo, _nmo))\n",
    "_idx = 1\n",
    "for _i in range(_ndocc):\n",
    "    _xi[_i] = 1\n",
    "    for _a in range(_nvirt):\n",
    "        _A = _a + _ndocc\n",
    "        _pi[_A] = 1\n",
    "        excitations.append((_i, _A))\n",
    "        C0_ia[_i, _A] = c_n0[_idx]\n",
    "        C1_ia[_i, _A] = c_n1[_idx]\n",
    "        _idx += 1\n",
    "\n",
    "print(c_n0)\n",
    "print(c_n1)\n",
    "print(np.dot(c_n0, c_n0))\n",
    "print(np.dot(c_n1, c_n1))\n",
    "\n",
    "print(_pi)"
   ]
  },
  {
   "cell_type": "code",
   "execution_count": null,
   "id": "09325b30",
   "metadata": {},
   "outputs": [],
   "source": [
    "\n",
    "\n",
    "_D1 = np.zeros((_nmo, _nmo))\n",
    "for _i in range(_ndocc):\n",
    "    _D1[_i, _i] = c_n0[0] * c_n0[0] + c_n1[0] * c_n1[0]\n",
    "\n",
    "for _p in range(_nmo):\n",
    "    for _q in range(_nmo):\n",
    "        _D1[_p, _q] += c_n0[0] * C0_ia[_p, _q] * _pi[_p] * _xi[_q]\n",
    "        _D1[_p, _q] += c_n0[0] * C0_ia[_p, _q] * _xi[_p] * _pi[_q]\n",
    "        _D1[_p, _q] += c_n1[0] * C1_ia[_p, _q] * _pi[_p] * _xi[_q]\n",
    "        _D1[_p, _q] += c_n1[0] * C1_ia[_p, _q] * _xi[_p] * _pi[_q]\n",
    "\n",
    "        for _i in range(_ndocc):\n",
    "            _D1[_p, _q] += C0_ia[_p, _i] * C0_ia[_i, _q] * _pi[_p] * _pi[_q]\n",
    "            _D1[_p, _q] += C1_ia[_p, _i] * C1_ia[_i, _q] * _pi[_p] * _pi[_q]\n",
    "\n",
    "        for _a in range(_nvirt):\n",
    "            _A = _a + _ndocc\n",
    "            _D1[_p, _q] -= C0_ia[_a, _q] * C0_ia[_p, _a] * _xi[_p] * _xi[_q]\n",
    "            _D1[_p, _q] -= C1_ia[_a, _q] * C1_ia[_p, _a] * _xi[_p] * _xi[_q]\n"
   ]
  },
  {
   "cell_type": "markdown",
   "id": "b2e6c011",
   "metadata": {},
   "source": [
    "ndocc = 5\n",
    "n_act_el = 4\n",
    "n_act_orb = 4\n",
    "\n",
    "n_in_orb=ndocc-n_act_el//2\n",
    "n_ac_el_half=n_act_el//2\n",
    "print(n_ac_el_half)\n",
    "inactive_list=list(x for x in range(n_in_orb))\n",
    "print(inactive_list)\n",
    "print('Generating all determinants in active space')\n",
    "t = time.time()\n",
    "singlesDets = []\n",
    "for alpha in combinations(range(n_act_orb), n_ac_el_half):\n",
    "    alphalist=list(alpha)\n",
    "    alphalist=[x+n_in_orb for x in alphalist]\n",
    "    alphalist[0:0]=inactive_list\n",
    "    alpha=tuple(alphalist)\n",
    "    #alpha_ex_level = compute_excitation_level(alpha, ndocc)\n",
    "    for beta in combinations(range(n_act_orb), n_ac_el_half):\n",
    "        betalist=list(beta)\n",
    "        betalist=[x+n_in_orb for x in betalist]\n",
    "        betalist[0:0]=inactive_list\n",
    "        beta=tuple(betalist)\n",
    "        #beta_ex_level = compute_excitation_level(beta, ndocc)\n",
    "        #if alpha_ex_level + beta_ex_level == 1:\n",
    "        print(F' adding alpha: {alpha} and beta: {beta}\\n') \n",
    "        singlesDets.append(Determinant(alphaObtList=alpha, betaObtList=beta))"
   ]
  }
 ],
 "metadata": {
  "kernelspec": {
   "display_name": "Python 3 (ipykernel)",
   "language": "python",
   "name": "python3"
  },
  "language_info": {
   "codemirror_mode": {
    "name": "ipython",
    "version": 3
   },
   "file_extension": ".py",
   "mimetype": "text/x-python",
   "name": "python",
   "nbconvert_exporter": "python",
   "pygments_lexer": "ipython3",
   "version": "3.9.13"
  }
 },
 "nbformat": 4,
 "nbformat_minor": 5
}
