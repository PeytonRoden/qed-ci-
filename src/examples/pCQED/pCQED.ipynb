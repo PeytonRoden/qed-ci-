{
 "cells": [
  {
   "cell_type": "code",
   "execution_count": 4,
   "id": "57746595",
   "metadata": {},
   "outputs": [],
   "source": [
    "import numpy as np\n",
    "import sys\n",
    "#np.set_printoptions(precision=5, linewidth=200, suppress=True)\n",
    "import psi4\n",
    "from helper_PFCI import PFHamiltonianGenerator\n",
    "from helper_PFCI import Determinant\n",
    "from helper_cqed_rhf import cqed_rhf\n",
    "np.set_printoptions(threshold=sys.maxsize)\n",
    "psi4.core.set_output_file('output.dat', False)\n",
    "from psi4.driver.procrouting.response.scf_response import tdscf_excitations"
   ]
  },
  {
   "cell_type": "code",
   "execution_count": 5,
   "id": "43dbae27",
   "metadata": {},
   "outputs": [
    {
     "name": "stdout",
     "output_type": "stream",
     "text": [
      "-199.86395910419137\n",
      "-199.69011028328705\n"
     ]
    }
   ],
   "source": [
    "# options for mgf\n",
    "mol_str = \"\"\"\n",
    "Mg\n",
    "H 1 2.2\n",
    "symmetry c1\n",
    "1 1\n",
    "\"\"\"\n",
    "\n",
    "options_dict = {\n",
    "    \"basis\": \"cc-pVDZ\",\n",
    "    \"scf_type\": \"pk\",\n",
    "    \"e_convergence\": 1e-10,\n",
    "    \"d_convergence\": 1e-10,\n",
    "    \"save_jk\" : True\n",
    "}\n",
    "\n",
    "\n",
    "psi4.set_options(options_dict)\n",
    "mol = psi4.geometry(mol_str)\n",
    "\n",
    "\n",
    "rhf_energy, wfn = psi4.energy(\"scf/cc-pVDZ\", molecule=mol, return_wfn=True)\n",
    "    \n",
    "# calculate the excited-state energies and save them to a dictionary called 'res'\n",
    "res = tdscf_excitations(wfn, states=5, triplets = \"NONE\", tda=True)\n",
    "\n",
    "\n",
    "# parse res for excitation energies\n",
    "psi4_excitation_e = [r[\"EXCITATION ENERGY\"] for r in res]\n",
    "\n",
    "psi4_tdm = [r[\"ELECTRIC DIPOLE TRANSITION MOMENT (LEN)\"] for r in res]\n",
    "\n",
    "\n",
    "print(rhf_energy)\n",
    "print(rhf_energy + psi4_excitation_e[0])"
   ]
  },
  {
   "cell_type": "code",
   "execution_count": 6,
   "id": "4b60609e",
   "metadata": {},
   "outputs": [
    {
     "name": "stdout",
     "output_type": "stream",
     "text": [
      "[-6.93218490e-16 -1.77990759e-15  2.33258251e+00]\n"
     ]
    }
   ],
   "source": [
    "print(psi4_tdm[0])"
   ]
  },
  {
   "cell_type": "code",
   "execution_count": 11,
   "id": "fab14536",
   "metadata": {},
   "outputs": [
    {
     "name": "stdout",
     "output_type": "stream",
     "text": [
      "\n",
      "Start SCF iterations:\n",
      "\n",
      "Canonical RHF One-electron energy = -281.6658725092592590\n",
      "CQED-RHF One-electron energy      = -281.6658725092592590\n",
      "Nuclear repulsion energy          = 2.8864211491090908\n",
      "Dipole energy                     = 0.0000000000000000\n",
      "SCF Iteration   1: Energy = -199.8639591041915651   dE = -1.99864E+02   dRMS = 1.51684E-12\n",
      "SCF Iteration   2: Energy = -199.8639591041911103   dE =  4.54747E-13   dRMS = 2.67192E-13\n",
      "Total time for SCF iterations: 0.002 seconds \n",
      "\n",
      "QED-RHF   energy: -199.86395910 hartree\n",
      "Psi4  SCF energy: -199.86395910 hartree\n",
      " Completed QED-RHF in 0.7523939609527588 seconds\n",
      " Completed 1HSO Build in 0.0002620220184326172 seconds\n",
      " Completed ERI Build in 0.501763105392456 seconds \n",
      " Completed 2D build in 0.040303707122802734 seconds\n",
      " Completed 1G build in 8.606910705566406e-05 seconds\n",
      " Completed the Dipole Matrix Build in 0.0008351802825927734 seconds\n",
      " Completed determinant list in 0.006983041763305664 seconds \n",
      " Completed constant offset matrix in 0.0001609325408935547 seconds\n",
      " Completed Hamiltonian build in 0.9307551383972168 seconds\n"
     ]
    }
   ],
   "source": [
    "mol_str = \"\"\"\n",
    "Mg\n",
    "H 1 2.2\n",
    "symmetry c1\n",
    "1 1\n",
    "\"\"\"\n",
    "\n",
    "options_dict = {\n",
    "    \"basis\": \"cc-pVDZ\",\n",
    "    \"scf_type\": \"pk\",\n",
    "    \"e_convergence\": 1e-10,\n",
    "    \"d_convergence\": 1e-10,\n",
    "}\n",
    "\n",
    "cavity_dict = {\n",
    "    'omega_value' : 0.0,\n",
    "    'lambda_vector' : np.array([0, 0, 0]),\n",
    "    'ci_level' : 'cis',\n",
    "    'full_diagonalization' : True,\n",
    "    'no_cavity' : True\n",
    "}\n",
    "\n",
    "mol = psi4.geometry(mol_str)\n",
    "\n",
    "psi4.set_options(options_dict)\n",
    "\n",
    "test_pf = PFHamiltonianGenerator(\n",
    "    mol_str,\n",
    "    options_dict,\n",
    "    cavity_dict\n",
    ")\n",
    "\n"
   ]
  },
  {
   "cell_type": "code",
   "execution_count": 12,
   "id": "959b09f2",
   "metadata": {},
   "outputs": [],
   "source": [
    "#test_pf.cis_c = np.copy(test_pf.CIvecs)\n",
    "#test_pf.cis_e = np.copy(test_pf.CIeigs)\n",
    "#test_pf.CISnumDets = len(test_pf.CIeigs) // 2\n",
    "_CI_No_Cav = test_pf.ApDmatrix + test_pf.Enuc_so + test_pf.dc_so\n",
    "test_pf.cis_e, test_pf.cis_c = np.linalg.eigh(_CI_No_Cav)\n",
    "\n",
    "_numDets = len(test_pf.cis_e)\n",
    "\n",
    "test_pf.CIvecs = np.copy(test_pf.cis_c)\n",
    "test_pf.CIeigs = np.copy(test_pf.cis_e)\n",
    "test_pf.MU_X = np.copy(test_pf.MU_X[:_numDets, :_numDets])\n",
    "test_pf.MU_Y = np.copy(test_pf.MU_Y[:_numDets, :_numDets])\n",
    "test_pf.MU_Z = np.copy(test_pf.MU_Z[:_numDets, :_numDets])\n"
   ]
  },
  {
   "cell_type": "code",
   "execution_count": 97,
   "id": "c3487d0a",
   "metadata": {},
   "outputs": [
    {
     "name": "stdout",
     "output_type": "stream",
     "text": [
      "[0, 2]\n",
      "[-199.8639591  -199.69011028]\n",
      "[[[ 4.32586196e-15 -1.08762579e-15 -1.50279429e+00]\n",
      "  [ 4.15864794e-13 -8.54989970e-14 -2.33258235e+00]]\n",
      "\n",
      " [[ 4.15864794e-13 -8.54989970e-14 -2.33258235e+00]\n",
      "  [-6.62427709e-13  1.50558858e-13  2.07947966e+00]]]\n"
     ]
    }
   ],
   "source": [
    "N_el = 2\n",
    "N_ph = 3\n",
    "_singlets = [0]\n",
    "\n",
    "mu_r_sing = np.zeros((N_el,N_el,3))\n",
    "zero_vec = np.array([0., 0., 0.])\n",
    "# we want to find the first 20 states that are coupled to the ground state through a dipole transition\n",
    "_num_kets = 0\n",
    "_ket_idx = 1\n",
    "_sing_idx = 1\n",
    "while _num_kets < N_el - 1:\n",
    "    _tmp_mu = test_pf.compute_dipole_moment(0, _ket_idx)\n",
    "    if np.allclose(zero_vec, _tmp_mu):\n",
    "        _ket_idx += 1\n",
    "    else:\n",
    "        mu_r_sing[0, _sing_idx, :] = _tmp_mu\n",
    "        _singlets.append(_ket_idx)\n",
    "        _ket_idx += 1\n",
    "        _num_kets += 1\n",
    "        _sing_idx += 1\n",
    "        \n",
    "print(_singlets)\n",
    "    \n",
    "E_R_sing = test_pf.cis_e[_singlets]\n",
    "print(E_R_sing)\n",
    "\n",
    "# now get all dipole moments\n",
    "for i in range(0, len(_singlets)):\n",
    "    a = _singlets[i]\n",
    "    for j in range(0, len(_singlets)):\n",
    "        b = _singlets[j]\n",
    "        mu_r_sing[i, j, :] = test_pf.compute_dipole_moment(a, b) + test_pf.mu_nuc * (a==b)\n",
    "        \n",
    "print(mu_r_sing)"
   ]
  },
  {
   "cell_type": "markdown",
   "id": "47aec2ff",
   "metadata": {},
   "source": [
    "\\begin{equation}\n",
    "\\hat{H}_{\\alpha n, \\beta m} = \\left( E_{\\alpha}(R) + n \\omega \\right) \\delta_{\\alpha \\beta} \\delta_{nm} + \\sqrt{\\frac{\\omega}{2}} \\lambda \\cdot \\mu_{\\alpha \\beta}(R) \\left(\\sqrt{n} \\delta_{n,m-1} + \\sqrt{n+1} \\delta_{n,m+1} \\right)  \\\\\n",
    "+\\frac{1}{2} \\sum_{\\gamma = 1}^N \\lambda \\cdot \\mu_{\\alpha, \\gamma}(R) \\lambda \\cdot \\mu_{\\gamma, \\beta} \\delta_{nm}\n",
    "\\end{equation}\n"
   ]
  },
  {
   "cell_type": "code",
   "execution_count": 98,
   "id": "ca8b9959",
   "metadata": {},
   "outputs": [],
   "source": [
    "def build_pf_hamiltonian(n_el, n_ph, E_R, omega, lamvec, mu):\n",
    "    \"\"\"\n",
    "    Given an array of n_el E_R values and an n_ph states with fundamental energy omega\n",
    "    build the PF Hamiltonian\n",
    "    \n",
    "    n_el : int\n",
    "        the number of electronic states (n_el = 1 means only ground-state)\n",
    "    \n",
    "    n_ph : int\n",
    "        the number of photon occupation states (n_ph = 1 means only the |0> state)\n",
    "    \n",
    "    E_R : np.array of floats\n",
    "        the electronic energies\n",
    "        \n",
    "    omega : float\n",
    "        the energy of the photonic mode\n",
    "        \n",
    "    lamvec : np.array of floats\n",
    "        the lambda vector\n",
    "        \n",
    "    mu : (n_el x n_el x 3) np.array of floats \n",
    "        mu[i, j, k] is the kth cartesian component of the dipole moment expectation value between \n",
    "        state i and state j\n",
    "    \n",
    "    \"\"\"\n",
    "    H_PF = np.zeros((n_el * n_ph, n_el * n_ph))\n",
    "    \n",
    "    # take care of the diagonals first\n",
    "    # bare electronic and photonic energy\n",
    "    for n in range(n_ph):\n",
    "        for a in range(n_el):\n",
    "            na = n * n_el + a\n",
    "            H_PF[na,na] = E_R[a] + n * omega\n",
    "        \n",
    "    # diagonal dipole self energy\n",
    "    for n in range(n_ph):\n",
    "        for a in range(n_el):\n",
    "            na = n * n_el + a\n",
    "            for g in range(n_el):\n",
    "                H_PF[na,na] += 0.5 * np.dot(lamvec, mu[a,g,:]) * np.dot(lamvec, mu[g,a,:])\n",
    "            \n",
    "    # off-diagonal dipole self energy\n",
    "    for n in range(n_ph):\n",
    "        for a in range(n_el):\n",
    "            na = n * n_el + a\n",
    "            for b in range(n_el):\n",
    "                nb = n * n_el + b\n",
    "                for g in range(n_el):\n",
    "                    H_PF[na, nb] += 0.5 * np.dot(lamvec, mu[a,g,:]) * np.dot(lamvec, mu[g, b, :])\n",
    "                \n",
    "    # off-diagonal bilinear coupling\n",
    "    for n in range(n_ph):\n",
    "        for a in range(n_el):\n",
    "            na = n * n_el + a\n",
    "            for m in range(n_ph):\n",
    "                for b in range(n_el):\n",
    "                    nb = m * n_el + b\n",
    "                    H_PF[na,nb] += np.sqrt(omega / 2) * np.dot(lamvec, mu[a,b,:]) * (np.sqrt(n) * n == (m-1) + np.sqrt(n+1) * n == (m+1))\n",
    "    \n",
    "    return H_PF\n",
    "                \n",
    "            \n",
    "    \n",
    "        \n",
    "    \n",
    "    "
   ]
  },
  {
   "cell_type": "code",
   "execution_count": 99,
   "id": "7117b419",
   "metadata": {},
   "outputs": [],
   "source": [
    "omega_cav = 4.75 / psi4.constants.Hartree_energy_in_eV\n",
    "lambda_vector = np.array([0, 0, 0.00125])"
   ]
  },
  {
   "cell_type": "code",
   "execution_count": 100,
   "id": "365d22eb",
   "metadata": {},
   "outputs": [],
   "source": [
    "_HPF = build_pf_hamiltonian(N_el, N_ph, E_R_sing, omega_cav, lambda_vector, mu_r_sing)"
   ]
  },
  {
   "cell_type": "code",
   "execution_count": 101,
   "id": "c34ef6fb",
   "metadata": {},
   "outputs": [
    {
     "name": "stdout",
     "output_type": "stream",
     "text": [
      "[[-1.99863947e+02 -1.05091103e-06  0.00000000e+00  0.00000000e+00\n",
      "   0.00000000e+00  0.00000000e+00]\n",
      " [-1.05091103e-06 -1.99690095e+02  0.00000000e+00  0.00000000e+00\n",
      "   0.00000000e+00  0.00000000e+00]\n",
      " [ 0.00000000e+00  0.00000000e+00 -1.99689388e+02 -1.05091103e-06\n",
      "   0.00000000e+00  0.00000000e+00]\n",
      " [ 0.00000000e+00  0.00000000e+00 -1.05091103e-06 -1.99515536e+02\n",
      "   0.00000000e+00  0.00000000e+00]\n",
      " [ 0.00000000e+00  0.00000000e+00  0.00000000e+00  0.00000000e+00\n",
      "  -1.99514829e+02 -1.05091103e-06]\n",
      " [ 0.00000000e+00  0.00000000e+00  0.00000000e+00  0.00000000e+00\n",
      "  -1.05091103e-06 -1.99340976e+02]]\n"
     ]
    }
   ],
   "source": [
    "print(_HPF)"
   ]
  },
  {
   "cell_type": "code",
   "execution_count": 96,
   "id": "76cd7ded",
   "metadata": {},
   "outputs": [
    {
     "name": "stdout",
     "output_type": "stream",
     "text": [
      "[-199.86394707 -199.69009503 -199.68938779 -199.51553574]\n"
     ]
    }
   ],
   "source": [
    "pf_e, pf_c = np.linalg.eigh(_HPF)\n",
    "print(pf_e)"
   ]
  },
  {
   "cell_type": "code",
   "execution_count": 86,
   "id": "1a4b9581",
   "metadata": {},
   "outputs": [
    {
     "name": "stdout",
     "output_type": "stream",
     "text": [
      "0.1745592817840702\n",
      "0.1745592817840596\n"
     ]
    }
   ],
   "source": [
    "print(pf_e[2]-pf_e[0])\n",
    "#print(pf_e[3])\n",
    "print(omega_cav)\n",
    "#print(pf_e[1]-pf_e[0])\n",
    "#print(pf_e[2]-pf_e[1])"
   ]
  },
  {
   "cell_type": "code",
   "execution_count": 55,
   "id": "a8076b4a",
   "metadata": {},
   "outputs": [
    {
     "name": "stdout",
     "output_type": "stream",
     "text": [
      "0.16582166929899245\n",
      "0.01709584697499622\n"
     ]
    }
   ],
   "source": [
    "expected_mghp_g_e = -199.86358254419457\n",
    "expected_mghp_lp_e = -199.69776087489558\n",
    "expected_mghp_up_e = -199.68066502792058\n",
    "\n",
    "print(expected_mghp_lp_e-expected_mghp_g_e)\n",
    "print(expected_mghp_up_e-expected_mghp_lp_e)"
   ]
  },
  {
   "cell_type": "code",
   "execution_count": null,
   "id": "714c7337",
   "metadata": {},
   "outputs": [],
   "source": []
  }
 ],
 "metadata": {
  "kernelspec": {
   "display_name": "Python 3 (ipykernel)",
   "language": "python",
   "name": "python3"
  },
  "language_info": {
   "codemirror_mode": {
    "name": "ipython",
    "version": 3
   },
   "file_extension": ".py",
   "mimetype": "text/x-python",
   "name": "python",
   "nbconvert_exporter": "python",
   "pygments_lexer": "ipython3",
   "version": "3.9.16"
  }
 },
 "nbformat": 4,
 "nbformat_minor": 5
}
