{
 "cells": [
  {
   "cell_type": "code",
   "execution_count": null,
   "id": "57746595",
   "metadata": {},
   "outputs": [],
   "source": [
    "import numpy as np\n",
    "import sys\n",
    "#np.set_printoptions(precision=5, linewidth=200, suppress=True)\n",
    "import psi4\n",
    "from helper_PFCI import PFHamiltonianGenerator\n",
    "from helper_PFCI import Determinant\n",
    "from helper_cqed_rhf import cqed_rhf\n",
    "np.set_printoptions(threshold=sys.maxsize)"
   ]
  },
  {
   "cell_type": "code",
   "execution_count": null,
   "id": "edea711d",
   "metadata": {},
   "outputs": [],
   "source": [
    "mol_tmpl = \"\"\"\n",
    "0 1\n",
    "O\n",
    "H 1 **R**\n",
    "H 1 **R** 2 104.5\n",
    "symmetry c1\n",
    "\"\"\"\n",
    "\n",
    "#mol_str = \"\"\"\n",
    "#0 1\n",
    "#O\n",
    "#H 1 1.6\n",
    "#H 1 1.6 2 104.5  \n",
    "#symmetry c1\n",
    "#\"\"\"\n",
    "r_array = np.linspace(0.6, 2.0, 15)\n",
    "E_array = []\n",
    "print(r_array)\n",
    "\n",
    "options_dict = {'basis': 'sto-3g',\n",
    "                  'scf_type': 'pk',\n",
    "                  'e_convergence': 1e-10,\n",
    "                  'd_convergence': 1e-10\n",
    "                  }\n",
    "\n",
    "#mol = psi4.geometry(mol_str)\n",
    "\n",
    "cavity_options = {\n",
    "    'omega_value' : 0.0,\n",
    "    'lambda_vector' : np.array([0, 0, 0.0]),\n",
    "    'ci_level' : 'cas',\n",
    "    'ignore_coupling' : False,\n",
    "    'number_of_photons' : 1,\n",
    "    'natural_orbitals' : True,\n",
    "    'davidson_roots' : 6,\n",
    "    'davidson_maxdim':10,\n",
    "    'nact_orbs' : 4,\n",
    "    'nact_els' : 4,\n",
    "    'full_diagonalization' : True,\n",
    "    'rdm_weights' : np.array([1, 1, 1, 1, 1, 1, 1, 1])\n",
    "    \n",
    "}\n",
    "\n",
    "#psi4.set_options(options_dict)\n",
    "#psi4.core.set_output_file('h2o_0.6.out', False)\n",
    "\n",
    "for r in r_array:\n",
    "    mol_str = mol_tmpl.replace(\"**R**\", str(r))\n",
    "    H2_PF = PFHamiltonianGenerator(mol_str, options_dict, cavity_options)\n",
    "    E_array.append(H2_PF.CIeigs[0])\n",
    "    print(r, H2_PF.CIeigs[0])\n",
    "\n",
    "\n",
    "## First compute SCF energy using Psi4\n",
    "#scf_e, wfn = psi4.energy('SCF', return_wfn=True)\n",
    "\n",
    "#psi4.set_options({'restricted_docc': [3],'active': [4],'num_roots':2})\n",
    "#fci_energy = psi4.energy('fci',ref_wfn=wfn)\n",
    "#print(np.allclose(H2_PF.cis_e[0],fci_energy,1e-8,1e-8))\n",
    "\n"
   ]
  },
  {
   "cell_type": "code",
   "execution_count": null,
   "id": "a0bc3031",
   "metadata": {},
   "outputs": [],
   "source": [
    "from matplotlib import pyplot as plt\n",
    "plt.plot(r_array, E_array)"
   ]
  },
  {
   "cell_type": "markdown",
   "id": "4ba8f632",
   "metadata": {},
   "source": [
    "cnt = 0\n",
    "for j in range(0,2):\n",
    "    for i in range(H2_PF.CISnumDets):\n",
    "        print(cnt, H2_PF.CISdets[i], j)\n",
    "        cnt += 1\n",
    "#numDets = H2_PF.CISnumDets \n",
    "#halfDets = numDets // 2\n",
    "#print(halfDets)"
   ]
  },
  {
   "cell_type": "code",
   "execution_count": null,
   "id": "68991bb2",
   "metadata": {},
   "outputs": [],
   "source": [
    "print(1.6, H2_PF.cis_e[0])"
   ]
  },
  {
   "cell_type": "code",
   "execution_count": null,
   "id": "7ffd8048",
   "metadata": {},
   "outputs": [],
   "source": []
  }
 ],
 "metadata": {
  "kernelspec": {
   "display_name": "Python 3 (ipykernel)",
   "language": "python",
   "name": "python3"
  },
  "language_info": {
   "codemirror_mode": {
    "name": "ipython",
    "version": 3
   },
   "file_extension": ".py",
   "mimetype": "text/x-python",
   "name": "python",
   "nbconvert_exporter": "python",
   "pygments_lexer": "ipython3",
   "version": "3.9.13"
  }
 },
 "nbformat": 4,
 "nbformat_minor": 5
}
