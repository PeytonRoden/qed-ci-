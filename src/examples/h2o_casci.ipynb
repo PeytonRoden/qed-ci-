{
 "cells": [
  {
   "cell_type": "code",
   "execution_count": null,
   "id": "57746595",
   "metadata": {},
   "outputs": [],
   "source": [
    "import numpy as np\n",
    "import sys\n",
    "#np.set_printoptions(precision=5, linewidth=200, suppress=True)\n",
    "import psi4\n",
    "from helper_PFCI import PFHamiltonianGenerator\n",
    "from helper_PFCI import Determinant\n",
    "from helper_cqed_rhf import cqed_rhf\n",
    "np.set_printoptions(threshold=sys.maxsize)"
   ]
  },
  {
   "cell_type": "code",
   "execution_count": null,
   "id": "edea711d",
   "metadata": {},
   "outputs": [],
   "source": [
    "mol_str = \"\"\"\n",
    "0 1\n",
    "O\n",
    "H 1 1.4\n",
    "H 1 1.4 2 104.5  \n",
    "symmetry c1\n",
    "\"\"\"\n",
    "\n",
    "options_dict = {'basis': 'sto-3g',\n",
    "                  'scf_type': 'pk',\n",
    "                  'e_convergence': 1e-10,\n",
    "                  'd_convergence': 1e-10\n",
    "                  }\n",
    "\n",
    "mol = psi4.geometry(mol_str)\n",
    "\n",
    "cavity_options = {\n",
    "    'omega_value' : 0.0,\n",
    "    'lambda_vector' : np.array([0, 0, 0.0]),\n",
    "    'ci_level' : 'cas',\n",
    "    'ignore_coupling' : False,\n",
    "    'number_of_photons' : 1,\n",
    "    'natural_orbitals' : True,\n",
    "    'davidson_roots' : 6,\n",
    "    'davidson_maxdim':10,\n",
    "    'nact_orbs' : 4,\n",
    "    'nact_els' : 4\n",
    "}\n",
    "\n",
    "psi4.set_options(options_dict)\n",
    "psi4.core.set_output_file('h2o_0.6.out', False)\n",
    "\n",
    "H2_PF = PFHamiltonianGenerator(mol_str, options_dict, cavity_options)\n",
    "\n",
    "\n",
    "## First compute SCF energy using Psi4\n",
    "#scf_e, wfn = psi4.energy('SCF', return_wfn=True)\n",
    "\n",
    "#psi4.set_options({'restricted_docc': [3],'active': [4],'num_roots':2})\n",
    "#fci_energy = psi4.energy('fci',ref_wfn=wfn)\n",
    "#print(np.allclose(H2_PF.cis_e[0],fci_energy,1e-8,1e-8))\n",
    "\n"
   ]
  },
  {
   "cell_type": "code",
   "execution_count": null,
   "id": "a0bc3031",
   "metadata": {},
   "outputs": [],
   "source": [
    "print(1.4, H2_PF.cis_e[0])"
   ]
  },
  {
   "cell_type": "code",
   "execution_count": null,
   "id": "cdb08293",
   "metadata": {},
   "outputs": [],
   "source": []
  }
 ],
 "metadata": {
  "kernelspec": {
   "display_name": "Python 3 (ipykernel)",
   "language": "python",
   "name": "python3"
  },
  "language_info": {
   "codemirror_mode": {
    "name": "ipython",
    "version": 3
   },
   "file_extension": ".py",
   "mimetype": "text/x-python",
   "name": "python",
   "nbconvert_exporter": "python",
   "pygments_lexer": "ipython3",
   "version": "3.9.13"
  }
 },
 "nbformat": 4,
 "nbformat_minor": 5
}
