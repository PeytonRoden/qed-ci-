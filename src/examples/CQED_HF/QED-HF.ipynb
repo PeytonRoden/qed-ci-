{
 "cells": [
  {
   "cell_type": "code",
   "execution_count": 1,
   "id": "c306cce1",
   "metadata": {},
   "outputs": [],
   "source": [
    "import numpy as np\n",
    "import sys\n",
    "#np.set_printoptions(precision=5, linewidth=200, suppress=True)\n",
    "import psi4\n",
    "from helper_cqed_rhf import cqed_rhf\n",
    "from helper_koch_cqed_hf import koch_cqed_rhf\n",
    "\n",
    "np.set_printoptions(threshold=sys.maxsize)\n",
    "psi4.core.set_output_file('output.dat', False)"
   ]
  },
  {
   "cell_type": "code",
   "execution_count": 12,
   "id": "fbef7d0e",
   "metadata": {},
   "outputs": [
    {
     "name": "stdout",
     "output_type": "stream",
     "text": [
      "\n",
      "Start SCF iterations:\n",
      "\n",
      "Canonical RHF One-electron energy = -122.3892248063374808\n",
      "CQED-RHF One-electron energy      = -122.3888910579988192\n",
      "Nuclear repulsion energy          = 8.8026031303907679\n",
      "Dipole energy                     = 0.0000023861086645\n",
      "SCF Iteration   1: Energy = -76.0583030147930828   dE = -7.60583E+01   dRMS = 1.34103E-06\n",
      "SCF Iteration   2: Energy = -76.0583030337100325   dE = -1.89169E-08   dRMS = 6.70674E-07\n",
      "SCF Iteration   3: Energy = -76.0583030357317256   dE = -2.02169E-09   dRMS = 3.74125E-07\n",
      "SCF Iteration   4: Energy = -76.0583030362317629   dE = -5.00037E-10   dRMS = 2.55415E-07\n",
      "SCF Iteration   5: Energy = -76.0583030364054338   dE = -1.73671E-10   dRMS = 1.66155E-07\n",
      "SCF Iteration   6: Energy = -76.0583030364742427   dE = -6.88090E-11   dRMS = 1.12504E-07\n",
      "SCF Iteration   7: Energy = -76.0583030365032471   dE = -2.90044E-11   dRMS = 7.47923E-08\n",
      "SCF Iteration   8: Energy = -76.0583030365154116   dE = -1.21645E-11   dRMS = 5.04551E-08\n",
      "SCF Iteration   9: Energy = -76.0583030365215933   dE = -6.18172E-12   dRMS = 3.37436E-08\n",
      "SCF Iteration  10: Energy = -76.0583030365239523   dE = -2.35900E-12   dRMS = 2.27223E-08\n",
      "SCF Iteration  11: Energy = -76.0583030365254729   dE = -1.52056E-12   dRMS = 1.52313E-08\n",
      "SCF Iteration  12: Energy = -76.0583030365254302   dE =  4.26326E-14   dRMS = 1.02457E-08\n",
      "SCF Iteration  13: Energy = -76.0583030365255581   dE = -1.27898E-13   dRMS = 6.87519E-09\n",
      "SCF Iteration  14: Energy = -76.0583030365257997   dE = -2.41585E-13   dRMS = 4.62195E-09\n",
      "SCF Iteration  15: Energy = -76.0583030365261976   dE = -3.97904E-13   dRMS = 3.10311E-09\n",
      "SCF Iteration  16: Energy = -76.0583030365257997   dE =  3.97904E-13   dRMS = 2.08540E-09\n",
      "SCF Iteration  17: Energy = -76.0583030365257855   dE =  1.42109E-14   dRMS = 1.40048E-09\n",
      "SCF Iteration  18: Energy = -76.0583030365262402   dE = -4.54747E-13   dRMS = 9.41002E-10\n",
      "SCF Iteration  19: Energy = -76.0583030365257002   dE =  5.40012E-13   dRMS = 6.32037E-10\n",
      "SCF Iteration  20: Energy = -76.0583030365255439   dE =  1.56319E-13   dRMS = 4.24631E-10\n",
      "SCF Iteration  21: Energy = -76.0583030365256292   dE = -8.52651E-14   dRMS = 2.85231E-10\n",
      "SCF Iteration  22: Energy = -76.0583030365256576   dE = -2.84217E-14   dRMS = 1.91621E-10\n",
      "SCF Iteration  23: Energy = -76.0583030365255013   dE =  1.56319E-13   dRMS = 1.28718E-10\n",
      "SCF Iteration  24: Energy = -76.0583030365254160   dE =  8.52651E-14   dRMS = 8.64749E-11\n",
      "SCF Iteration  25: Energy = -76.0583030365259702   dE = -5.54223E-13   dRMS = 5.80905E-11\n",
      "SCF Iteration  26: Energy = -76.0583030365255297   dE =  4.40536E-13   dRMS = 3.90253E-11\n",
      "SCF Iteration  27: Energy = -76.0583030365259987   dE = -4.68958E-13   dRMS = 2.62125E-11\n",
      "SCF Iteration  28: Energy = -76.0583030365256008   dE =  3.97904E-13   dRMS = 1.76130E-11\n",
      "SCF Iteration  29: Energy = -76.0583030365258281   dE = -2.27374E-13   dRMS = 1.18289E-11\n",
      "SCF Iteration  30: Energy = -76.0583030365252881   dE =  5.40012E-13   dRMS = 7.94565E-12\n",
      "Total time for SCF iterations: 19.990 seconds \n",
      "\n",
      "QED-RHF   energy: -76.05830304 hartree\n",
      "Psi4  SCF energy: -76.05851830 hartree\n",
      "\n",
      "Start SCF iterations:\n",
      "\n",
      "Canonical RHF One-electron energy = -122.3892248063374808\n",
      "CQED-RHF One-electron energy      = -122.3892295785551738\n",
      "Nuclear repulsion energy          = 8.8026031303907679\n",
      "Dipole energy                     = 0.0000023861086645\n",
      "SCF Iteration   1: Energy = -76.0585206860051670   dE = -7.60585E+01   dRMS = 6.67244E-13\n",
      "SCF Iteration   2: Energy = -76.0585206860055223   dE = -3.55271E-13   dRMS = 2.57668E-13\n",
      "Total time for SCF iterations: 1.483 seconds \n",
      "\n",
      "QED-RHF   energy: -76.05852069 hartree\n",
      "Psi4  SCF energy: -76.05851830 hartree\n"
     ]
    }
   ],
   "source": [
    "mol_str = \"\"\"\n",
    "0 1\n",
    "O\n",
    "H 1 1.0\n",
    "H 1 1.0 2 104.0\n",
    "symmetry c1\n",
    "\"\"\"\n",
    "\n",
    "options_dict = {\"basis\": \"cc-pVQZ\",\n",
    "                \"save_jk\": True,\n",
    "                \"scf_type\": \"pk\",\n",
    "                \"e_convergence\": 1e-11,\n",
    "                \"d_convergence\": 1e-11,\n",
    "}\n",
    "\n",
    "lambda_vec = np.array([0., 0., 0.01])\n",
    "\n",
    "qed_dict = cqed_rhf(lambda_vec, mol_str, options_dict)\n",
    "qed_rhf_e = qed_dict[\"CQED-RHF ENERGY\"]\n",
    "\n",
    "koch_qed_dict = koch_cqed_rhf(lambda_vec, mol_str, options_dict)\n",
    "koch_qed_rhf_e = koch_qed_dict[\"CQED-RHF ENERGY\"]\n"
   ]
  },
  {
   "cell_type": "code",
   "execution_count": 13,
   "id": "225ce847",
   "metadata": {},
   "outputs": [
    {
     "name": "stdout",
     "output_type": "stream",
     "text": [
      "-76.05830303652529\n",
      "-76.05852068600552\n",
      "0.0002176494802341722\n"
     ]
    }
   ],
   "source": [
    "print(qed_rhf_e)\n",
    "print(koch_qed_rhf_e)\n",
    "print(qed_rhf_e - koch_qed_rhf_e)"
   ]
  },
  {
   "cell_type": "code",
   "execution_count": null,
   "id": "3a201c7e",
   "metadata": {},
   "outputs": [],
   "source": [
    "E_ccpVDZ = 0.00020507706548755777\n",
    "E_ccpVQZ = 0.0002176494790404604\n"
   ]
  }
 ],
 "metadata": {
  "kernelspec": {
   "display_name": "Python 3 (ipykernel)",
   "language": "python",
   "name": "python3"
  },
  "language_info": {
   "codemirror_mode": {
    "name": "ipython",
    "version": 3
   },
   "file_extension": ".py",
   "mimetype": "text/x-python",
   "name": "python",
   "nbconvert_exporter": "python",
   "pygments_lexer": "ipython3",
   "version": "3.9.13"
  }
 },
 "nbformat": 4,
 "nbformat_minor": 5
}
