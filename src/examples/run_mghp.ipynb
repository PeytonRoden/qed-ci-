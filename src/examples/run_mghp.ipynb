{
 "cells": [
  {
   "cell_type": "code",
   "execution_count": null,
   "id": "57746595",
   "metadata": {},
   "outputs": [],
   "source": [
    "import numpy as np\n",
    "import sys\n",
    "#np.set_printoptions(precision=5, linewidth=200, suppress=True)\n",
    "import psi4\n",
    "from helper_PFCI import PFHamiltonianGenerator\n",
    "from helper_PFCI import Determinant\n",
    "from helper_cqed_rhf import cqed_rhf\n",
    "np.set_printoptions(threshold=sys.maxsize)\n",
    "psi4.core.set_output_file('output.dat', False)"
   ]
  },
  {
   "cell_type": "code",
   "execution_count": null,
   "id": "43dbae27",
   "metadata": {},
   "outputs": [],
   "source": [
    "# options for mgf\n",
    "mol_str = \"\"\"\n",
    "Mg\n",
    "H 1 2.2\n",
    "symmetry c1\n",
    "1 1\n",
    "\"\"\"\n",
    "\n",
    "options_dict = {\n",
    "    \"basis\": \"cc-pVDZ\",\n",
    "    \"scf_type\": \"pk\",\n",
    "    \"e_convergence\": 1e-10,\n",
    "    \"d_convergence\": 1e-10,\n",
    "}\n",
    "\n",
    "cavity_dict = {\n",
    "    'omega_value' : 0.0 / psi4.constants.Hartree_energy_in_eV,\n",
    "    'lambda_vector' : np.array([0, 0, 0.0]),\n",
    "    'ci_level' : 'cis',\n",
    "    'ignore_coupling' : False,\n",
    "    'number_of_photons' : 1,\n",
    "    'natural_orbitals' : False,\n",
    "    'nact_orbs' : 0,\n",
    "    'nact_els' : 0,\n",
    "    'full_diagonalization' : True\n",
    "}\n",
    "\n",
    "mol = psi4.geometry(mol_str)\n",
    "\n",
    "psi4.set_options(options_dict)\n",
    "\n",
    "#energy from psi4numpy\n",
    "expected_mghp_eg = -199.8639591041915\n",
    "expected_mghp_e1 = -199.6901102832973\n",
    "\n",
    "test_pf = PFHamiltonianGenerator(\n",
    "    mol_str,\n",
    "    options_dict,\n",
    "    cavity_dict\n",
    ")\n",
    "\n",
    "e_fci, wavefunctions = np.linalg.eigh(test_pf.H_PF)\n",
    "\n",
    "print(e_fci[1]-e_fci[0])\n",
    "\n",
    "#assert psi4.compare_values(e_fci[0], expected_mghp_eg)\n",
    "#assert psi4.compare_values(e_fci[1], expected_mghp_e1)"
   ]
  },
  {
   "cell_type": "code",
   "execution_count": null,
   "id": "196bf37e",
   "metadata": {},
   "outputs": [],
   "source": [
    "qed_rhf_e = -199.8633317129295790\n",
    "gs_e = qed_rhf_e + -0.000250831265\n",
    "LP_e = qed_rhf_e + 0.165570838034\n",
    "UP_e = qed_rhf_e + 0.182666685009\n",
    "\n",
    "print(gs_e)\n",
    "print(LP_e)\n",
    "print(UP_e)\n",
    "\n",
    "print(e_fci[0]-qed_rhf_e)\n",
    "print(e_fci[1]-qed_rhf_e)\n",
    "print(e_fci[2]-qed_rhf_e)\n",
    "print(e_fci[3]-qed_rhf_e)\n",
    "print(e_fci[4]-qed_rhf_e)\n",
    "print(e_fci[5]-qed_rhf_e)\n"
   ]
  },
  {
   "cell_type": "code",
   "execution_count": null,
   "id": "c45f3eac",
   "metadata": {},
   "outputs": [],
   "source": [
    "# photon energy\n",
    "#omega_val = 2.0 / psi4.constants.Hartree_energy_in_eV\n",
    "omega_val = 0\n",
    "\n",
    "print(omega_val)\n",
    "\n",
    "# lambda vector\n",
    "lambda_vector = np.array([0., 0., 0.0])\n",
    "#lambda_vector = np.array([0.5, 0.5, 0.5])\n",
    "\n",
    "n_act_orb=5\n",
    "#number of active electrons\n",
    "n_act_el=4\n",
    "# Build PF Hamiltonian matrix \n",
    "H2_PF = PFHamiltonianGenerator(mol_str, options_dict, cavity_options)\n"
   ]
  },
  {
   "cell_type": "code",
   "execution_count": null,
   "id": "1aa8d0f9",
   "metadata": {},
   "outputs": [],
   "source": [
    "# diagonalize the Hamiltonian matrix\n",
    "e_fci, wavefunctions = np.linalg.eigh(H2_PF.H_PF)\n",
    "\n",
    "# davidson eigenvalues and eigenvectors are stored in attributes\n",
    "# H2_PF.cis_e and H2_PF.cis_c for now!\n"
   ]
  },
  {
   "cell_type": "code",
   "execution_count": null,
   "id": "7ea9288e",
   "metadata": {},
   "outputs": [],
   "source": [
    "print(\"checking to see if the Davidson Roots Agree!\")\n",
    "print(e_fci[:14])\n",
    "print(H2_PF.cis_e[:14] )\n",
    "print(np.allclose(e_fci[:14] , H2_PF.cis_e[:14]))\n"
   ]
  },
  {
   "cell_type": "code",
   "execution_count": null,
   "id": "e59ff2d2",
   "metadata": {},
   "outputs": [],
   "source": [
    "\n",
    "H2_PF.calc1RDMfromCIS(wavefunctions[:,14])\n",
    "print(np.trace(H2_PF.Dij))\n",
    "print(np.trace(H2_PF.Dab))\n",
    "print(np.trace(H2_PF.D1))\n",
    "\n",
    "\n",
    "\n",
    "e1_test_rdm = np.einsum(\"pq,pq->\", H2_PF.Hspin, H2_PF.D1)\n",
    "\n",
    "temp=np.einsum(\"pq,q->p\", H2_PF.H_1E,wavefunctions[:,14])\n",
    "e1_test_wfn = np.dot(wavefunctions[:,14].T,temp)\n",
    "\n",
    "\n"
   ]
  },
  {
   "cell_type": "code",
   "execution_count": null,
   "id": "b74078b0",
   "metadata": {},
   "outputs": [],
   "source": [
    "print(e1_test_rdm)\n",
    "print(e1_test_wfn-H2_PF.Enuc)\n",
    "print(e1_test_rdm-e1_test_wfn+H2_PF.Enuc)"
   ]
  },
  {
   "cell_type": "code",
   "execution_count": null,
   "id": "edea711d",
   "metadata": {},
   "outputs": [],
   "source": []
  }
 ],
 "metadata": {
  "kernelspec": {
   "display_name": "Python 3 (ipykernel)",
   "language": "python",
   "name": "python3"
  },
  "language_info": {
   "codemirror_mode": {
    "name": "ipython",
    "version": 3
   },
   "file_extension": ".py",
   "mimetype": "text/x-python",
   "name": "python",
   "nbconvert_exporter": "python",
   "pygments_lexer": "ipython3",
   "version": "3.9.13"
  }
 },
 "nbformat": 4,
 "nbformat_minor": 5
}
