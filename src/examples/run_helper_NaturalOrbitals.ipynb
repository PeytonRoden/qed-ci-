{
 "cells": [
  {
   "cell_type": "code",
   "execution_count": 2,
   "id": "57746595",
   "metadata": {},
   "outputs": [],
   "source": [
    "import numpy as np\n",
    "import sys\n",
    "#np.set_printoptions(precision=5, linewidth=200, suppress=True)\n",
    "import psi4\n",
    "from helper_PFCI import PFHamiltonianGenerator\n",
    "from helper_PFCI import Determinant\n",
    "from helper_cqed_rhf import cqed_rhf\n",
    "np.set_printoptions(threshold=sys.maxsize)"
   ]
  },
  {
   "cell_type": "code",
   "execution_count": 7,
   "id": "a278578a",
   "metadata": {},
   "outputs": [
    {
     "name": "stdout",
     "output_type": "stream",
     "text": [
      "13\n",
      "1.0\n"
     ]
    }
   ],
   "source": [
    "weights = np.array([1, 3, 1, 6, 1, 1])\n",
    "norm = np.sum(weights)\n",
    "norm_weights = weights / norm\n",
    "print(norm)\n",
    "print(np.sum(norm_weights))"
   ]
  },
  {
   "cell_type": "code",
   "execution_count": null,
   "id": "edea711d",
   "metadata": {},
   "outputs": [],
   "source": [
    "mol_str = \"\"\"\n",
    "0 1\n",
    "O\n",
    "H 1 1.0\n",
    "H 1 1.0 2 104.0\n",
    "symmetry c1\n",
    "\"\"\"\n",
    "\n",
    "options_dict = {\n",
    "    \"basis\": \"sto-3g\",\n",
    "    \"scf_type\": \"pk\",\n",
    "    \"e_convergence\": 1e-10,\n",
    "    \"d_convergence\": 1e-10,\n",
    "}\n",
    "\n",
    "cavity_dict = {\n",
    "    'omega_value' : 0.0,\n",
    "    'lambda_vector' : np.array([0, 0, 0]),\n",
    "    'ci_level' : 'cis',\n",
    "    'ignore_coupling' : False,\n",
    "    'number_of_photons' : 1,\n",
    "    'natural_orbitals' : False,\n",
    "    'nact_orbs' : 0,\n",
    "    'nact_els' : 0\n",
    "}\n",
    "\n",
    "mol = psi4.geometry(mol_str)\n",
    "\n",
    "psi4.set_options(options_dict)\n",
    "psi4.core.set_output_file(\"output.dat\", False)\n",
    "\n",
    "\n",
    "test_pf = PFHamiltonianGenerator(\n",
    "    mol_str,\n",
    "    options_dict,\n",
    "    cavity_dict\n",
    ")\n",
    "\n",
    "e_fci, wavefunctions = np.linalg.eigh(test_pf.H_PF)\n",
    "\n",
    "test_pf.calc1RDMfromCIS(wavefunctions[:, 14])\n",
    "\n",
    "# test traces of different blocks\n",
    "expected_trace_Dij = 9.0\n",
    "expected_trace_Dab = 1.0\n",
    "expected_trace_D1 = 10.0\n",
    "expected_trace_D1_spatial = 10.0\n",
    "\n",
    "trace_Dij = np.trace(test_pf.Dij)\n",
    "trace_Dab = np.trace(test_pf.Dab)\n",
    "trace_D1 = np.trace(test_pf.D1)\n",
    "trace_D1_spatial = np.trace(test_pf.D1_spatial)\n",
    "\n",
    "assert np.isclose(expected_trace_D1, trace_D1)\n",
    "assert np.isclose(expected_trace_D1_spatial, trace_D1_spatial)\n",
    "assert np.isclose(expected_trace_Dab, trace_Dab)\n",
    "assert np.isclose(expected_trace_Dij, trace_Dij)\n",
    "\n",
    "# test trace of K1 D1 against <C|1H|C>\n",
    "e1_test_rdm = np.einsum(\"pq,pq->\", test_pf.Hspin, test_pf.D1)\n",
    "\n",
    "# 1H @ C\n",
    "temp = np.einsum(\"pq,q->p\", test_pf.H_1E, wavefunctions[:, 14])\n",
    "e1_test_wfn = np.dot(wavefunctions[:, 14].T, temp)\n",
    "\n",
    "expected_1e_energy = e1_test_wfn - test_pf.Enuc\n",
    "\n",
    "assert np.isclose(e1_test_rdm, expected_1e_energy)\n",
    "\n"
   ]
  },
  {
   "cell_type": "code",
   "execution_count": null,
   "id": "7c2b5ed8",
   "metadata": {},
   "outputs": [],
   "source": [
    "eig, vec = np.linalg.eigh(test_pf.D1_spatial)\n",
    "idx = eig.argsort()[::-1]   \n",
    "eigenValues = eig[idx]\n",
    "eigenVectors = vec[:,idx]"
   ]
  },
  {
   "cell_type": "code",
   "execution_count": null,
   "id": "d721e08e",
   "metadata": {},
   "outputs": [],
   "source": [
    "print(eigenValues)"
   ]
  },
  {
   "cell_type": "code",
   "execution_count": null,
   "id": "baa2f49d",
   "metadata": {},
   "outputs": [],
   "source": [
    "print(eigenVectors)"
   ]
  },
  {
   "cell_type": "code",
   "execution_count": null,
   "id": "cdb08293",
   "metadata": {},
   "outputs": [],
   "source": []
  }
 ],
 "metadata": {
  "kernelspec": {
   "display_name": "Python 3 (ipykernel)",
   "language": "python",
   "name": "python3"
  },
  "language_info": {
   "codemirror_mode": {
    "name": "ipython",
    "version": 3
   },
   "file_extension": ".py",
   "mimetype": "text/x-python",
   "name": "python",
   "nbconvert_exporter": "python",
   "pygments_lexer": "ipython3",
   "version": "3.9.13"
  }
 },
 "nbformat": 4,
 "nbformat_minor": 5
}
