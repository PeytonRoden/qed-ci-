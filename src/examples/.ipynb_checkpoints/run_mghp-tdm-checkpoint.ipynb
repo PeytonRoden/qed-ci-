{
 "cells": [
  {
   "cell_type": "code",
   "execution_count": 1,
   "id": "57746595",
   "metadata": {},
   "outputs": [],
   "source": [
    "import numpy as np\n",
    "import sys\n",
    "#np.set_printoptions(precision=5, linewidth=200, suppress=True)\n",
    "import psi4\n",
    "from helper_PFCI import PFHamiltonianGenerator\n",
    "from helper_PFCI import Determinant\n",
    "from helper_cqed_rhf import cqed_rhf\n",
    "np.set_printoptions(threshold=sys.maxsize)\n",
    "psi4.core.set_output_file('output.dat', False)\n",
    "from psi4.driver.procrouting.response.scf_response import tdscf_excitations"
   ]
  },
  {
   "cell_type": "code",
   "execution_count": 2,
   "id": "43dbae27",
   "metadata": {},
   "outputs": [
    {
     "name": "stdout",
     "output_type": "stream",
     "text": [
      "-199.86395910419174\n",
      "-199.69011028319522\n"
     ]
    }
   ],
   "source": [
    "# options for mgf\n",
    "mol_str = \"\"\"\n",
    "Mg\n",
    "H 1 2.2\n",
    "symmetry c1\n",
    "1 1\n",
    "\"\"\"\n",
    "\n",
    "options_dict = {\n",
    "    \"basis\": \"cc-pVDZ\",\n",
    "    \"scf_type\": \"pk\",\n",
    "    \"e_convergence\": 1e-10,\n",
    "    \"d_convergence\": 1e-10,\n",
    "    \"save_jk\" : True\n",
    "}\n",
    "\n",
    "\n",
    "psi4.set_options(options_dict)\n",
    "mol = psi4.geometry(mol_str)\n",
    "\n",
    "\n",
    "rhf_energy, wfn = psi4.energy(\"scf/cc-pVDZ\", molecule=mol, return_wfn=True)\n",
    "    \n",
    "# calculate the excited-state energies and save them to a dictionary called 'res'\n",
    "res = tdscf_excitations(wfn, states=5, triplets = \"NONE\", tda=True)\n",
    "\n",
    "\n",
    "# parse res for excitation energies\n",
    "psi4_excitation_e = [r[\"EXCITATION ENERGY\"] for r in res]\n",
    "\n",
    "psi4_tdm = [r[\"ELECTRIC DIPOLE TRANSITION MOMENT (LEN)\"] for r in res]\n",
    "\n",
    "\n",
    "print(rhf_energy)\n",
    "print(rhf_energy + psi4_excitation_e[0])"
   ]
  },
  {
   "cell_type": "code",
   "execution_count": 3,
   "id": "4b60609e",
   "metadata": {},
   "outputs": [
    {
     "name": "stdout",
     "output_type": "stream",
     "text": [
      "[ 3.86364469e-15 -7.38800135e-16  2.33258251e+00]\n"
     ]
    }
   ],
   "source": [
    "print(psi4_tdm[0])"
   ]
  },
  {
   "cell_type": "code",
   "execution_count": 4,
   "id": "fab14536",
   "metadata": {},
   "outputs": [
    {
     "name": "stdout",
     "output_type": "stream",
     "text": [
      "\n",
      "Start SCF iterations:\n",
      "\n",
      "Canonical RHF One-electron energy = -281.6658725094007423\n",
      "CQED-RHF One-electron energy      = -281.6658725094007423\n",
      "Nuclear repulsion energy          = 2.8864211491090908\n",
      "Dipole energy                     = 0.0000000000000000\n",
      "SCF Iteration   1: Energy = -199.8639591041916503   dE = -1.99864E+02   dRMS = 1.97238E-12\n",
      "SCF Iteration   2: Energy = -199.8639591041917924   dE = -1.42109E-13   dRMS = 4.97618E-13\n",
      "Total time for SCF iterations: 0.004 seconds \n",
      "\n",
      "QED-RHF   energy: -199.86395910 hartree\n",
      "Psi4  SCF energy: -199.86395910 hartree\n",
      " Completed QED-RHF in 1.0143852233886719 seconds\n",
      " Completed 1HSO Build in 0.0003268718719482422 seconds\n",
      " Completed ERI Build in 0.6788420677185059 seconds \n",
      " Completed 2D build in 0.06930899620056152 seconds\n",
      " Completed 1G build in 0.00024700164794921875 seconds\n",
      " Completed the Dipole Matrix Build in 0.001180887222290039 seconds\n",
      " Completed determinant list in 0.018925189971923828 seconds \n",
      " Completed constant offset matrix in 0.0005660057067871094 seconds\n",
      " Completed Hamiltonian build in 3.9065239429473877 seconds\n",
      "-199.8639591041918\n",
      "-199.69011028329626\n",
      "[0. 0. 0.]\n"
     ]
    }
   ],
   "source": [
    "mol_str = \"\"\"\n",
    "Mg\n",
    "H 1 2.2\n",
    "symmetry c1\n",
    "1 1\n",
    "\"\"\"\n",
    "\n",
    "options_dict = {\n",
    "    \"basis\": \"cc-pVDZ\",\n",
    "    \"scf_type\": \"pk\",\n",
    "    \"e_convergence\": 1e-10,\n",
    "    \"d_convergence\": 1e-10,\n",
    "}\n",
    "\n",
    "cavity_dict = {\n",
    "    'omega_value' : 0.0,\n",
    "    'lambda_vector' : np.array([0, 0, 0]),\n",
    "    'ci_level' : 'cis',\n",
    "    'davidson_roots' : 8,\n",
    "    'davidson_threshold' : 1e-8,\n",
    "    'full_diagonalization' : True,\n",
    "}\n",
    "\n",
    "mol = psi4.geometry(mol_str)\n",
    "\n",
    "psi4.set_options(options_dict)\n",
    "\n",
    "expected_e4 = -199.69011028328705\n",
    "\n",
    "#energy from psi4numpy\n",
    "expected_mu_04 = np.array([-6.93218490e-16, -1.77990759e-15,  2.33258251e+00])\n",
    "\n",
    "\n",
    "test_pf = PFHamiltonianGenerator(\n",
    "    mol_str,\n",
    "    options_dict,\n",
    "    cavity_dict\n",
    ")\n",
    "\n",
    "actual_e0 = test_pf.CIeigs[0]\n",
    "actual_e4 = test_pf.CIeigs[4]\n",
    "print(actual_e0)\n",
    "print(actual_e4)\n",
    "\n",
    "actual_mu_04 = test_pf.compute_dipole_moment(0, 3)\n",
    "print(actual_mu_04)\n",
    "#assert np.isclose(actual_e4, expected_e4)\n",
    "#assert np.allclose(actual_mu_04, expected_mu_04)"
   ]
  },
  {
   "cell_type": "code",
   "execution_count": 6,
   "id": "114b5675",
   "metadata": {},
   "outputs": [
    {
     "name": "stdout",
     "output_type": "stream",
     "text": [
      "[ 1.63888678e-15  3.40787274e-16 -3.48080671e+00]\n"
     ]
    }
   ],
   "source": [
    "actual_mu_06 = test_pf.compute_dipole_moment(0, 4)\n",
    "print(actual_mu_06)"
   ]
  },
  {
   "cell_type": "code",
   "execution_count": null,
   "id": "bfafb2ad",
   "metadata": {},
   "outputs": [],
   "source": []
  }
 ],
 "metadata": {
  "kernelspec": {
   "display_name": "Python 3 (ipykernel)",
   "language": "python",
   "name": "python3"
  },
  "language_info": {
   "codemirror_mode": {
    "name": "ipython",
    "version": 3
   },
   "file_extension": ".py",
   "mimetype": "text/x-python",
   "name": "python",
   "nbconvert_exporter": "python",
   "pygments_lexer": "ipython3",
   "version": "3.9.7"
  }
 },
 "nbformat": 4,
 "nbformat_minor": 5
}
