{
 "cells": [
  {
   "cell_type": "code",
   "execution_count": 1,
   "id": "57746595",
   "metadata": {},
   "outputs": [],
   "source": [
    "import numpy as np\n",
    "import sys\n",
    "#np.set_printoptions(precision=5, linewidth=200, suppress=True)\n",
    "import psi4\n",
    "from helper_PFCI import PFHamiltonianGenerator\n",
    "from helper_PFCI import Determinant\n",
    "from helper_cqed_rhf import cqed_rhf\n",
    "np.set_printoptions(threshold=sys.maxsize)\n",
    "psi4.core.set_output_file('output.dat', False)"
   ]
  },
  {
   "cell_type": "code",
   "execution_count": 26,
   "id": "fab14536",
   "metadata": {},
   "outputs": [
    {
     "name": "stdout",
     "output_type": "stream",
     "text": [
      "\n",
      "Start SCF iterations:\n",
      "\n",
      "Canonical RHF One-electron energy = -12.2161423092107739\n",
      "CQED-RHF One-electron energy      = -12.2161423092107739\n",
      "Nuclear repulsion energy          = 0.8819620177833333\n",
      "Dipole energy                     = 0.0000000000000000\n",
      "SCF Iteration   1: Energy = -7.9821109353952977   dE = -7.98211E+00   dRMS = 9.23805E-12\n",
      "SCF Iteration   2: Energy = -7.9821109353952941   dE =  3.55271E-15   dRMS = 2.92946E-12\n",
      "Total time for SCF iterations: 0.003 seconds \n",
      "\n",
      "QED-RHF   energy: -7.98211094 hartree\n",
      "Psi4  SCF energy: -7.98211094 hartree\n",
      " Completed QED-RHF in 0.16221404075622559 seconds\n",
      " Completed 1HSO Build in 0.0012159347534179688 seconds\n",
      " Completed ERI Build in 0.027899980545043945 seconds \n",
      " Completed 2D build in 0.024544954299926758 seconds\n",
      " Completed 1G build in 8.606910705566406e-05 seconds\n",
      " Completed the Dipole Matrix Build in 0.0008749961853027344 seconds\n",
      "Generating all determinants in active space\n",
      " Completed determinant list in 0.0017542839050292969 seconds \n",
      " Completed constant offset matrix in 0.0001647472381591797 seconds\n",
      " Completed Hamiltonian build in 0.35378313064575195 seconds\n",
      "24\n",
      "-7.983210430915704\n"
     ]
    }
   ],
   "source": [
    "mol_str = \"\"\"\n",
    "Li\n",
    "H 1 1.8\n",
    "symmetry c1\n",
    "\"\"\"\n",
    "\n",
    "options_dict = {\n",
    "    \"basis\": \"6-311G**\",\n",
    "    \"scf_type\": \"pk\",\n",
    "    \"e_convergence\": 1e-10,\n",
    "    \"d_convergence\": 1e-10,\n",
    "}\n",
    "\n",
    "cavity_dict = {\n",
    "    'omega_value' : 0.0,\n",
    "    'lambda_vector' : np.array([0, 0, 0]),\n",
    "    'ci_level' : 'cas',\n",
    "    'full_diagonalization' : True,\n",
    "    'number_of_photons' : 0, \n",
    "    'nact_els' : 4,\n",
    "    'nact_orbs' : 6\n",
    "}\n",
    "\n",
    "mol = psi4.geometry(mol_str)\n",
    "\n",
    "psi4.set_options(options_dict)\n",
    "\n",
    "test_pf = PFHamiltonianGenerator(\n",
    "    mol_str,\n",
    "    options_dict,\n",
    "    cavity_dict\n",
    ")\n",
    "mol = psi4.geometry(mol_str)\n",
    "scf_e, wfn = psi4.energy('SCF', return_wfn=True)\n",
    "\n",
    "\n",
    "print(test_pf.nmo)\n",
    "#fci_energy = psi4.energy('fci',ref_wfn=wfn)\n",
    "\n",
    "#assert np.isclose(fci_energy, test_pf.CIeigs[0], 1e-9)\n",
    "#print(fci_energy)\n",
    "print(test_pf.CIeigs[0])"
   ]
  },
  {
   "cell_type": "code",
   "execution_count": 27,
   "id": "fce66668",
   "metadata": {},
   "outputs": [],
   "source": [
    "n_act = [4,5,6,7,8,9,10]\n",
    "en = [-7.978452515572831,-7.9785743078660225,-7.981111350958631,-7.981346440563342,-7.981636784399326,\n",
    "     -7.981920181264183,-7.988070377253409]\n",
    "\n",
    "end = [-7.981935045207551,-7.981974014664961,-7.982881432325026,-7.982948679601316,-7.983243847852737,-7.983529760769239,-7.986551079054769]\n",
    "\n",
    "n_actdd = [4,5,6]\n",
    "endd = [-7.982256711468253, -7.982296786429204, -7.983210430915704]"
   ]
  },
  {
   "cell_type": "code",
   "execution_count": 29,
   "id": "91db99e7",
   "metadata": {},
   "outputs": [
    {
     "data": {
      "text/plain": [
       "[<matplotlib.lines.Line2D at 0x137eb9490>]"
      ]
     },
     "execution_count": 29,
     "metadata": {},
     "output_type": "execute_result"
    },
    {
     "data": {
      "image/png": "[encoded data removed]",
      "text/plain": [
       "<Figure size 640x480 with 1 Axes>"
      ]
     },
     "metadata": {},
     "output_type": "display_data"
    }
   ],
   "source": [
    "from matplotlib import pyplot as plt\n",
    "plt.plot(n_act, en, 'ro')\n",
    "plt.plot(n_act, end, 'bo')\n",
    "plt.plot(n_actdd, endd, 'go')"
   ]
  },
  {
   "cell_type": "code",
   "execution_count": 4,
   "id": "3ec4f2c6",
   "metadata": {},
   "outputs": [
    {
     "name": "stdout",
     "output_type": "stream",
     "text": [
      "\n",
      "Start SCF iterations:\n",
      "\n",
      "Canonical RHF One-electron energy = -12.2113302892017845\n",
      "CQED-RHF One-electron energy      = -12.2113302892017845\n",
      "Nuclear repulsion energy          = 0.8819620177833333\n",
      "Dipole energy                     = 0.0000000000000000\n",
      "SCF Iteration   1: Energy = -7.9781479594674565   dE = -7.97815E+00   dRMS = 3.10983E-13\n",
      "SCF Iteration   2: Energy = -7.9781479594674778   dE = -2.13163E-14   dRMS = 8.41325E-14\n",
      "Total time for SCF iterations: 0.001 seconds \n",
      "\n",
      "QED-RHF   energy: -7.97814796 hartree\n",
      "Psi4  SCF energy: -7.97814796 hartree\n",
      " Completed QED-RHF in 0.14539694786071777 seconds\n",
      " Completed 1HSO Build in 0.00018405914306640625 seconds\n",
      " Completed ERI Build in 0.008723020553588867 seconds \n",
      " Completed 2D build in 0.006048917770385742 seconds\n",
      " Completed 1G build in 8.296966552734375e-05 seconds\n",
      " Completed the Dipole Matrix Build in 0.00030684471130371094 seconds\n",
      "Generating all determinants in active space\n",
      " Completed determinant list in 0.00658416748046875 seconds \n",
      " Completed constant offset matrix in 0.0021567344665527344 seconds\n",
      " Completed Hamiltonian build in 4.098373174667358 seconds\n",
      "\n",
      "Start SCF iterations:\n",
      "\n",
      "Canonical RHF One-electron energy = -12.2022692269950017\n",
      "CQED-RHF One-electron energy      = -12.2022692269950017\n",
      "Nuclear repulsion energy          = 0.8819620177833333\n",
      "Dipole energy                     = 0.0000000000000000\n",
      "SCF Iteration   1: Energy = -7.9769655524522314   dE = -7.97697E+00   dRMS = 2.04832E-13\n",
      "SCF Iteration   2: Energy = -7.9769655524522314   dE =  0.00000E+00   dRMS = 6.95194E-14\n",
      "Total time for SCF iterations: 0.000 seconds \n",
      "\n",
      "QED-RHF   energy: -7.97696555 hartree\n",
      "Psi4  SCF energy: -7.97696555 hartree\n",
      " Completed QED-RHF in 0.1074521541595459 seconds\n",
      " Completed 1HSO Build in 4.887580871582031e-05 seconds\n",
      " Completed ERI Build in 0.004743099212646484 seconds \n",
      " Completed 2D build in 0.0010688304901123047 seconds\n",
      " Completed 1G build in 7.319450378417969e-05 seconds\n",
      " Completed the Dipole Matrix Build in 0.00021386146545410156 seconds\n",
      "Generating all determinants in active space\n",
      " Completed determinant list in 0.00632023811340332 seconds \n",
      " Completed constant offset matrix in 0.0018696784973144531 seconds\n",
      " Completed Hamiltonian build in 4.083439111709595 seconds\n",
      "\n",
      "Start SCF iterations:\n",
      "\n",
      "Canonical RHF One-electron energy = -12.2195250859902877\n",
      "CQED-RHF One-electron energy      = -12.2195250859902877\n",
      "Nuclear repulsion energy          = 0.8819620177833333\n",
      "Dipole energy                     = 0.0000000000000000\n",
      "SCF Iteration   1: Energy = -7.8500186970978607   dE = -7.85002E+00   dRMS = 5.11250E-15\n",
      "SCF Iteration   2: Energy = -7.8500186970978696   dE = -8.88178E-15   dRMS = 1.30165E-15\n",
      "Total time for SCF iterations: 0.000 seconds \n",
      "\n",
      "QED-RHF   energy: -7.85001870 hartree\n",
      "Psi4  SCF energy: -7.85001870 hartree\n",
      " Completed QED-RHF in 0.09161496162414551 seconds\n",
      " Completed 1HSO Build in 2.8371810913085938e-05 seconds\n",
      " Completed ERI Build in 0.001123666763305664 seconds \n",
      " Completed 2D build in 8.0108642578125e-05 seconds\n",
      " Completed 1G build in 1.5020370483398438e-05 seconds\n",
      " Completed the Dipole Matrix Build in 3.910064697265625e-05 seconds\n",
      "Generating all determinants in active space\n",
      " Completed determinant list in 0.006486177444458008 seconds \n",
      " Completed constant offset matrix in 0.0019719600677490234 seconds\n"
     ]
    },
    {
     "ename": "IndexError",
     "evalue": "index 13 is out of bounds for axis 0 with size 12",
     "output_type": "error",
     "traceback": [
      "\u001b[0;31m---------------------------------------------------------------------------\u001b[0m",
      "\u001b[0;31mIndexError\u001b[0m                                Traceback (most recent call last)",
      "Cell \u001b[0;32mIn [4], line 17\u001b[0m\n\u001b[1;32m      9\u001b[0m lih_631g \u001b[38;5;241m=\u001b[39m test_pf \u001b[38;5;241m=\u001b[39m PFHamiltonianGenerator(\n\u001b[1;32m     10\u001b[0m     mol_str,\n\u001b[1;32m     11\u001b[0m     options_dict,\n\u001b[1;32m     12\u001b[0m     cavity_dict\n\u001b[1;32m     13\u001b[0m )\n\u001b[1;32m     15\u001b[0m options_dict[\u001b[38;5;124m\"\u001b[39m\u001b[38;5;124mbasis\u001b[39m\u001b[38;5;124m\"\u001b[39m] \u001b[38;5;241m=\u001b[39m \u001b[38;5;124m\"\u001b[39m\u001b[38;5;124msto-3g\u001b[39m\u001b[38;5;124m\"\u001b[39m\n\u001b[0;32m---> 17\u001b[0m lih_sto3g \u001b[38;5;241m=\u001b[39m test_pf \u001b[38;5;241m=\u001b[39m \u001b[43mPFHamiltonianGenerator\u001b[49m\u001b[43m(\u001b[49m\n\u001b[1;32m     18\u001b[0m \u001b[43m    \u001b[49m\u001b[43mmol_str\u001b[49m\u001b[43m,\u001b[49m\n\u001b[1;32m     19\u001b[0m \u001b[43m    \u001b[49m\u001b[43moptions_dict\u001b[49m\u001b[43m,\u001b[49m\n\u001b[1;32m     20\u001b[0m \u001b[43m    \u001b[49m\u001b[43mcavity_dict\u001b[49m\n\u001b[1;32m     21\u001b[0m \u001b[43m)\u001b[49m\n",
      "File \u001b[0;32m~/Code/qed-ci/src/helper_PFCI.py:610\u001b[0m, in \u001b[0;36mPFHamiltonianGenerator.__init__\u001b[0;34m(self, molecule_string, psi4_options_dict, cavity_options)\u001b[0m\n\u001b[1;32m    607\u001b[0m \u001b[38;5;28mprint\u001b[39m(\u001b[38;5;124mF\u001b[39m\u001b[38;5;124m'\u001b[39m\u001b[38;5;124m Completed constant offset matrix in \u001b[39m\u001b[38;5;132;01m{\u001b[39;00mt_const_end \u001b[38;5;241m-\u001b[39m t_det_end\u001b[38;5;132;01m}\u001b[39;00m\u001b[38;5;124m seconds\u001b[39m\u001b[38;5;124m'\u001b[39m)\n\u001b[1;32m    609\u001b[0m \u001b[38;5;66;03m# Build Matrix\u001b[39;00m\n\u001b[0;32m--> 610\u001b[0m \u001b[38;5;28;43mself\u001b[39;49m\u001b[38;5;241;43m.\u001b[39;49m\u001b[43mgeneratePFHMatrix\u001b[49m\u001b[43m(\u001b[49m\u001b[38;5;28;43mself\u001b[39;49m\u001b[38;5;241;43m.\u001b[39;49m\u001b[43mci_level\u001b[49m\u001b[43m)\u001b[49m\n\u001b[1;32m    611\u001b[0m t_H_build \u001b[38;5;241m=\u001b[39m time\u001b[38;5;241m.\u001b[39mtime()\n\u001b[1;32m    612\u001b[0m \u001b[38;5;28mprint\u001b[39m(\u001b[38;5;124mF\u001b[39m\u001b[38;5;124m'\u001b[39m\u001b[38;5;124m Completed Hamiltonian build in \u001b[39m\u001b[38;5;132;01m{\u001b[39;00mt_H_build \u001b[38;5;241m-\u001b[39m t_const_end\u001b[38;5;132;01m}\u001b[39;00m\u001b[38;5;124m seconds\u001b[39m\u001b[38;5;124m'\u001b[39m)\n",
      "File \u001b[0;32m~/Code/qed-ci/src/helper_PFCI.py:1025\u001b[0m, in \u001b[0;36mPFHamiltonianGenerator.generatePFHMatrix\u001b[0;34m(self, ci_level)\u001b[0m\n\u001b[1;32m   1023\u001b[0m \u001b[38;5;28;01mfor\u001b[39;00m i \u001b[38;5;129;01min\u001b[39;00m \u001b[38;5;28mrange\u001b[39m(_numDets):\n\u001b[1;32m   1024\u001b[0m     \u001b[38;5;28;01mfor\u001b[39;00m j \u001b[38;5;129;01min\u001b[39;00m \u001b[38;5;28mrange\u001b[39m(i \u001b[38;5;241m+\u001b[39m \u001b[38;5;241m1\u001b[39m):\n\u001b[0;32m-> 1025\u001b[0m         \u001b[38;5;28mself\u001b[39m\u001b[38;5;241m.\u001b[39mApDmatrix[i, j] \u001b[38;5;241m=\u001b[39m \u001b[38;5;28;43mself\u001b[39;49m\u001b[38;5;241;43m.\u001b[39;49m\u001b[43mcalcApDMatrixElement\u001b[49m\u001b[43m(\u001b[49m\u001b[43m_dets\u001b[49m\u001b[43m[\u001b[49m\u001b[43mi\u001b[49m\u001b[43m]\u001b[49m\u001b[43m,\u001b[49m\u001b[43m \u001b[49m\u001b[43m_dets\u001b[49m\u001b[43m[\u001b[49m\u001b[43mj\u001b[49m\u001b[43m]\u001b[49m\u001b[43m)\u001b[49m\n\u001b[1;32m   1026\u001b[0m         \u001b[38;5;28mself\u001b[39m\u001b[38;5;241m.\u001b[39mapdmatrix[i, j] \u001b[38;5;241m=\u001b[39m \u001b[38;5;28mself\u001b[39m\u001b[38;5;241m.\u001b[39mcalcApDMatrixElement(\n\u001b[1;32m   1027\u001b[0m             _dets[i], _dets[j], OneEpTwoE\u001b[38;5;241m=\u001b[39m\u001b[38;5;28;01mFalse\u001b[39;00m\n\u001b[1;32m   1028\u001b[0m         )\n\u001b[1;32m   1029\u001b[0m         \u001b[38;5;28mself\u001b[39m\u001b[38;5;241m.\u001b[39mApDmatrix[j, i] \u001b[38;5;241m=\u001b[39m \u001b[38;5;28mself\u001b[39m\u001b[38;5;241m.\u001b[39mApDmatrix[i, j]\n",
      "File \u001b[0;32m~/Code/qed-ci/src/helper_PFCI.py:1158\u001b[0m, in \u001b[0;36mPFHamiltonianGenerator.calcApDMatrixElement\u001b[0;34m(self, det1, det2, OneEpTwoE)\u001b[0m\n\u001b[1;32m   1156\u001b[0m     \u001b[38;5;28;01mreturn\u001b[39;00m \u001b[38;5;28mself\u001b[39m\u001b[38;5;241m.\u001b[39mcalcMatrixElementDiffIn2(det1, det2)\n\u001b[1;32m   1157\u001b[0m \u001b[38;5;28;01melif\u001b[39;00m numUniqueOrbitals \u001b[38;5;241m==\u001b[39m \u001b[38;5;241m1\u001b[39m:\n\u001b[0;32m-> 1158\u001b[0m     \u001b[38;5;28;01mreturn\u001b[39;00m \u001b[38;5;28;43mself\u001b[39;49m\u001b[38;5;241;43m.\u001b[39;49m\u001b[43mcalcMatrixElementDiffIn1\u001b[49m\u001b[43m(\u001b[49m\u001b[43mdet1\u001b[49m\u001b[43m,\u001b[49m\u001b[43m \u001b[49m\u001b[43mdet2\u001b[49m\u001b[43m)\u001b[49m\n\u001b[1;32m   1159\u001b[0m \u001b[38;5;28;01melse\u001b[39;00m:\n\u001b[1;32m   1160\u001b[0m     \u001b[38;5;66;03m#\u001b[39;00m\n\u001b[1;32m   1161\u001b[0m     \u001b[38;5;28;01mreturn\u001b[39;00m \u001b[38;5;241m0.0\u001b[39m\n",
      "File \u001b[0;32m~/Code/qed-ci/src/helper_PFCI.py:1228\u001b[0m, in \u001b[0;36mPFHamiltonianGenerator.calcMatrixElementDiffIn1\u001b[0;34m(self, det1, det2, omit2E)\u001b[0m\n\u001b[1;32m   1226\u001b[0m m \u001b[38;5;241m=\u001b[39m unique1[\u001b[38;5;241m0\u001b[39m]\n\u001b[1;32m   1227\u001b[0m p \u001b[38;5;241m=\u001b[39m unique2[\u001b[38;5;241m0\u001b[39m]\n\u001b[0;32m-> 1228\u001b[0m Helem \u001b[38;5;241m=\u001b[39m \u001b[38;5;28;43mself\u001b[39;49m\u001b[38;5;241;43m.\u001b[39;49m\u001b[43mHspin\u001b[49m\u001b[43m[\u001b[49m\u001b[43mm\u001b[49m\u001b[43m,\u001b[49m\u001b[43m \u001b[49m\u001b[43mp\u001b[49m\u001b[43m]\u001b[49m\n\u001b[1;32m   1229\u001b[0m common \u001b[38;5;241m=\u001b[39m det1\u001b[38;5;241m.\u001b[39mgetCommonOrbitalsInMixedSpinIndexList(det2)\n\u001b[1;32m   1231\u001b[0m \u001b[38;5;28;01mif\u001b[39;00m omit2E \u001b[38;5;241m==\u001b[39m \u001b[38;5;28;01mFalse\u001b[39;00m:\n",
      "\u001b[0;31mIndexError\u001b[0m: index 13 is out of bounds for axis 0 with size 12"
     ]
    }
   ],
   "source": [
    "lih_631gs = test_pf = PFHamiltonianGenerator(\n",
    "    mol_str,\n",
    "    options_dict,\n",
    "    cavity_dict\n",
    ")\n",
    "\n",
    "options_dict[\"basis\"] = \"6-31G\"\n",
    "\n",
    "lih_631g = test_pf = PFHamiltonianGenerator(\n",
    "    mol_str,\n",
    "    options_dict,\n",
    "    cavity_dict\n",
    ")\n"
   ]
  },
  {
   "cell_type": "code",
   "execution_count": 8,
   "id": "3603a504",
   "metadata": {},
   "outputs": [
    {
     "name": "stdout",
     "output_type": "stream",
     "text": [
      "[ 0.00092382  0.00165969  0.00139725  0.00170569  0.00201259  0.00582429\n",
      "  0.00626855 -0.00766678 -0.00870199 -0.00728817 -0.00672652 -0.00569446\n",
      " -0.00137056 -0.00452657 -0.00149124 -0.00871205 -0.00149707 -0.00612422\n",
      " -0.00341278  0.00077997]\n"
     ]
    }
   ],
   "source": [
    "lih_631gs_singlets = lih_631gs.sort_dipole_allowed_states(20)\n",
    "lih_631g_singlets = lih_631g.sort_dipole_allowed_states(20)\n",
    "\n",
    "\n",
    "\n",
    "print(lih_631g.CIeigs[lih_631gs_singlets]-lih_631gs.CIeigs[lih_631g_singlets])"
   ]
  },
  {
   "cell_type": "code",
   "execution_count": null,
   "id": "d790101c",
   "metadata": {},
   "outputs": [],
   "source": [
    "#fci_energy = psi4.energy('fci',ref_wfn=wfn)\n",
    "\n",
    "#assert np.isclose(fci_energy, test_pf.CIeigs[0], 1e-9)\n",
    "#assert np.isclose(fci_energy, test_pf.CIeigs[0], 1e-7)\n",
    "print(test_pf.CIeigs[:8])\n",
    "\n",
    "print(test_pf.nmo)"
   ]
  },
  {
   "cell_type": "code",
   "execution_count": null,
   "id": "14ad5bb0",
   "metadata": {},
   "outputs": [],
   "source": [
    "\n",
    "\n",
    "mol_str = \"\"\"\n",
    "Li\n",
    "H 1 1.8\n",
    "symmetry c1\n",
    "\"\"\"\n",
    "\n",
    "N_R = 50\n",
    "N_el = 50\n",
    "#r_array = np.linspace(1.4, 2.2, N_R)\n",
    "\n",
    "E_array = np.zeros(N_el)\n",
    "Mu_array = np.zeros((N_el, N_el, 3))\n",
    "psi4.set_options(options_dict)\n",
    "\n",
    "\n",
    "print(mol_str)\n",
    "mol = psi4.geometry(mol_str)\n",
    "scf_e, wfn = psi4.energy('SCF', return_wfn=True)\n",
    "fci_energy = psi4.energy('fci',ref_wfn=wfn)\n",
    "\n",
    "LiH = PFHamiltonianGenerator(mol_str, options_dict, cavity_dict)\n",
    "assert np.isclose(fci_energy, LiH.CIeigs[0], 1e-7)\n",
    "# sort out states with dipole-allowed transition from ground state\n",
    "singlet_states = LiH.sort_dipole_allowed_states(N_el)\n",
    "E_array = LiH.CIeigs[singlet_states]\n",
    "Mu_array[:, :, :] = LiH.compute_dipole_moments(singlet_states)\n",
    "    \n",
    "\n",
    "\n"
   ]
  },
  {
   "cell_type": "code",
   "execution_count": null,
   "id": "19472c57",
   "metadata": {},
   "outputs": [],
   "source": [
    "print(Mu_array[:, :, :])"
   ]
  },
  {
   "cell_type": "code",
   "execution_count": null,
   "id": "ce8c52f4",
   "metadata": {},
   "outputs": [],
   "source": [
    "from matplotlib import pyplot as plt\n"
   ]
  },
  {
   "cell_type": "markdown",
   "id": "47aec2ff",
   "metadata": {},
   "source": [
    "\\begin{equation}\n",
    "\\hat{H}_{\\alpha n, \\beta m} = \\left( E_{\\alpha}(R) + n \\omega \\right) \\delta_{\\alpha \\beta} \\delta_{nm} + \\sqrt{\\frac{\\omega}{2}} \\lambda \\cdot \\mu_{\\alpha \\beta}(R) \\left(\\sqrt{n} \\delta_{n,m-1} + \\sqrt{n+1} \\delta_{n,m+1} \\right)  \\\\\n",
    "+\\frac{1}{2} \\sum_{\\gamma = 1}^N \\lambda \\cdot \\mu_{\\alpha, \\gamma}(R) \\lambda \\cdot \\mu_{\\gamma, \\beta} \\delta_{nm}\n",
    "\\end{equation}\n"
   ]
  },
  {
   "cell_type": "code",
   "execution_count": null,
   "id": "ca8b9959",
   "metadata": {},
   "outputs": [],
   "source": [
    "def build_pf_hamiltonian(n_el, n_ph, E_R, omega, lamvec, mu):\n",
    "    \"\"\"\n",
    "    Given an array of n_el E_R values and an n_ph states with fundamental energy omega\n",
    "    build the PF Hamiltonian\n",
    "    \n",
    "    n_el : int\n",
    "        the number of electronic states (n_el = 1 means only ground-state)\n",
    "    \n",
    "    n_ph : int\n",
    "        the number of photon occupation states (n_ph = 1 means only the |0> state)\n",
    "    \n",
    "    E_R : np.array of floats\n",
    "        the electronic energies\n",
    "        \n",
    "    omega : float\n",
    "        the energy of the photonic mode\n",
    "        \n",
    "    lamvec : np.array of floats\n",
    "        the lambda vector\n",
    "        \n",
    "    mu : (n_el x n_el x 3) np.array of floats \n",
    "        mu[i, j, k] is the kth cartesian component of the dipole moment expectation value between \n",
    "        state i and state j\n",
    "    \n",
    "    \"\"\"\n",
    "    H_PF = np.zeros((n_el * n_ph, n_el * n_ph))\n",
    "    \n",
    "    # take care of the diagonals first\n",
    "    # bare electronic and photonic energy\n",
    "    for n in range(n_ph):\n",
    "        for a in range(n_el):\n",
    "            na = n * n_el + a\n",
    "            H_PF[na,na] = E_R[a] + n * omega\n",
    "        \n",
    "    # diagonal dipole self energy\n",
    "    for n in range(n_ph):\n",
    "        for a in range(n_el):\n",
    "            na = n * n_el + a\n",
    "            for g in range(n_el):\n",
    "                H_PF[na,na] += 0.5 * np.dot(lamvec, mu[a,g,:]) * np.dot(lamvec, mu[g,a,:])\n",
    "            \n",
    "    # off-diagonal dipole self energy\n",
    "    for n in range(n_ph):\n",
    "        for a in range(n_el):\n",
    "            na = n * n_el + a\n",
    "            for b in range(n_el):\n",
    "                nb = n * n_el + b\n",
    "                for g in range(n_el):\n",
    "                    if a != b:\n",
    "                        H_PF[na, nb] += 0.5 * np.dot(lamvec, mu[a,g,:]) * np.dot(lamvec, mu[g, b, :])\n",
    "                \n",
    "    # off-diagonal bilinear coupling\n",
    "    for n in range(n_ph):\n",
    "        for a in range(n_el):\n",
    "            na = n * n_el + a\n",
    "            \n",
    "            for m in range(n_ph):\n",
    "                for b in range(n_el):\n",
    "                    mb = m * n_el + b\n",
    "                    \n",
    "                    if n == (m-1) and a != b:\n",
    "                        #print(n, a, na, m, b, mb)\n",
    "                        H_PF[na,mb] = -np.sqrt(omega / 2) * np.dot(lamvec, mu[a,b,:]) * np.sqrt(m) \n",
    "                        H_PF[mb, na] = -np.sqrt(omega / 2) * np.dot(lamvec, mu[a,b,:]) * np.sqrt(m) \n",
    "                        \n",
    "                    elif n == (m+1) and a != b:\n",
    "                        #print(n, a, na, m, b, mb)\n",
    "                        H_PF[na, mb] = -np.sqrt(omega / 2) * np.dot(lamvec, mu[a,b,:]) * np.sqrt(m+1) \n",
    "                        H_PF[mb, na] = -np.sqrt(omega / 2) * np.dot(lamvec, mu[a,b,:]) * np.sqrt(m+1)\n",
    "                        \n",
    "    \n",
    "    return H_PF\n",
    "                \n",
    "            \n",
    "    \n",
    "        \n",
    "    \n",
    "    "
   ]
  },
  {
   "cell_type": "markdown",
   "id": "33aa978e",
   "metadata": {},
   "source": [
    "\\begin{equation}\n",
    "\\hat{H}_{\\alpha n, \\beta m} = \\left( E_{\\alpha}(R) + n \\omega \\right) \\delta_{\\alpha \\beta} \\delta_{nm} + \\sqrt{\\frac{\\omega}{2}} \\lambda \\cdot \\mu_{\\alpha \\beta}(R) \\left(\\sqrt{n} \\delta_{n,m-1} + \\sqrt{n+1} \\delta_{n,m+1} \\right)  \\\\\n",
    "+\\frac{1}{2} \\sum_{\\gamma = 1}^N \\lambda \\cdot \\mu_{\\alpha, \\gamma}(R) \\lambda \\cdot \\mu_{\\gamma, \\beta} \\delta_{nm}\n",
    "\\end{equation}\n"
   ]
  },
  {
   "cell_type": "code",
   "execution_count": null,
   "id": "7117b419",
   "metadata": {},
   "outputs": [],
   "source": [
    "np.set_printoptions(precision=6, linewidth=200, suppress=True)\n",
    "omega_cav = E_array[1]-E_array[0]\n",
    "lambda_vector = np.array([0, 0.0, 0.05])\n",
    "print(omega_cav)"
   ]
  },
  {
   "cell_type": "code",
   "execution_count": null,
   "id": "70f7bcf1",
   "metadata": {},
   "outputs": [],
   "source": [
    "N_el = 3\n",
    "N_ph = 3\n",
    "\n",
    "_HPF = build_pf_hamiltonian(N_el, N_ph, E_array, omega_cav, lambda_vector, Mu_array[:, :, :])\n",
    "print(\"H\")\n",
    "print(_HPF)"
   ]
  },
  {
   "cell_type": "markdown",
   "id": "277bdded",
   "metadata": {},
   "source": [
    "We want to investigate the mean absolute error of a given polariton potential energy surface as a \n",
    "function of electronic and photonic truncation:\n",
    "\n",
    "$$ {\\rm MAE} = \\frac{1}{N_R} \\sum_i^{N_R} \\left| E(R_i) - E^{'}(R_i) \\right| $$\n",
    "\n",
    "where $E^{'}(R_i)$ is a value of the polaritonic PES for a truncated level of theory and $E(R_i)$ is the exact value."
   ]
  },
  {
   "cell_type": "code",
   "execution_count": null,
   "id": "7339d644",
   "metadata": {},
   "outputs": [],
   "source": [
    "def MAE(E, Ep):\n",
    "    \"\"\"\n",
    "    function to return the mean absolute error of the approximate PES stored in Ep relative to \n",
    "    the exact PES stored in E\n",
    "    \"\"\"\n",
    "    # get length\n",
    "    _NR = len(E)\n",
    "    \n",
    "    # take element-by-element difference\n",
    "    _diff = E - Ep\n",
    "    \n",
    "    # compute absolute value of differences\n",
    "    _absdiff = np.abs(_diff)\n",
    "    \n",
    "    # return sum divided by _NR\n",
    "    return np.sum(_absdiff) / _NR\n",
    "\n",
    "    "
   ]
  },
  {
   "cell_type": "code",
   "execution_count": null,
   "id": "03f135cd",
   "metadata": {},
   "outputs": [],
   "source": [
    "lam_z = np.linspace(0, 1, 50)\n",
    "pol_v_l = np.zeros((50,3))\n",
    "print(lam_z)"
   ]
  },
  {
   "cell_type": "code",
   "execution_count": null,
   "id": "7661d999",
   "metadata": {},
   "outputs": [],
   "source": [
    "N_el = 40\n",
    "N_ph = 40\n",
    "for i in range(50):\n",
    "    lambda_vector[2] = lam_z[i]           \n",
    "    _HPF = build_pf_hamiltonian(N_el, N_ph, E_array, omega_cav, lambda_vector, Mu_array[:, :, :])\n",
    "    pf_e, pf_c = np.linalg.eigh(_HPF)\n",
    "    pol_v_l[i,:] = pf_e[:3]\n",
    "    print(lam_z[i], pf_e[0], pf_e[1], pf_e[2])"
   ]
  },
  {
   "cell_type": "code",
   "execution_count": null,
   "id": "f1f39d55",
   "metadata": {},
   "outputs": [],
   "source": [
    "plt.plot(lam_z, pol_v_l[:,0], label='g')\n",
    "plt.plot(lam_z, trunc_pol_v_l[:,0], label='tg')\n",
    "plt.plot(lam_z, pol_v_l[:,1], label='LP')\n",
    "plt.plot(lam_z, trunc_pol_v_l[:,1], label='tlp')\n",
    "plt.plot(lam_z, pol_v_l[:,2], label='UP')\n",
    "plt.plot(lam_z, trunc_pol_v_l[:,2], label='tup')\n",
    "\n",
    "plt.legend()\n",
    "plt.show()"
   ]
  },
  {
   "cell_type": "code",
   "execution_count": null,
   "id": "1d3c8558",
   "metadata": {},
   "outputs": [],
   "source": []
  }
 ],
 "metadata": {
  "kernelspec": {
   "display_name": "Python 3 (ipykernel)",
   "language": "python",
   "name": "python3"
  },
  "language_info": {
   "codemirror_mode": {
    "name": "ipython",
    "version": 3
   },
   "file_extension": ".py",
   "mimetype": "text/x-python",
   "name": "python",
   "nbconvert_exporter": "python",
   "pygments_lexer": "ipython3",
   "version": "3.9.13"
  }
 },
 "nbformat": 4,
 "nbformat_minor": 5
}
