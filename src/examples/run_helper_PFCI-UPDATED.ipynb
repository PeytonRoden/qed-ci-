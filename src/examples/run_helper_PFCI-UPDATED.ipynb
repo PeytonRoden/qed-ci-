{
 "cells": [
  {
   "cell_type": "code",
   "execution_count": 1,
   "id": "57746595",
   "metadata": {},
   "outputs": [],
   "source": [
    "import numpy as np\n",
    "import sys\n",
    "#np.set_printoptions(precision=5, linewidth=200, suppress=True)\n",
    "import psi4\n",
    "from helper_PFCI import PFHamiltonianGenerator\n",
    "from helper_PFCI import Determinant\n",
    "from helper_cqed_rhf import cqed_rhf\n",
    "np.set_printoptions(threshold=sys.maxsize)"
   ]
  },
  {
   "cell_type": "code",
   "execution_count": 2,
   "id": "43dbae27",
   "metadata": {},
   "outputs": [],
   "source": [
    "mol_str = \"\"\"\n",
    "0 1\n",
    "O\n",
    "H 1 1.0\n",
    "H 1 1.0 2 104.0\n",
    "symmetry c1\n",
    "\"\"\"\n",
    "\n",
    "options_dict = {'basis': 'sto-3g',\n",
    "                  'scf_type': 'pk',\n",
    "                  'e_convergence': 1e-10,\n",
    "                  'd_convergence': 1e-10\n",
    "                  }\n",
    "\n",
    "mol = psi4.geometry(mol_str)\n",
    "\n",
    "cavity_options = {\n",
    "    'omega_value' : 0.0,\n",
    "    'lambda_vector' : np.array([0, 0, 0.1]),\n",
    "    'ci_level' : 'cis',\n",
    "    'ignore_coupling' : False,\n",
    "    'number_of_photons' : 1,\n",
    "    'natural_orbitals' : False,\n",
    "    'davidson_roots' : 1,\n",
    "    'nact_orbs' : 0,\n",
    "    'nact_els' : 0\n",
    "}\n",
    "\n",
    "psi4.set_options(options_dict)\n",
    "psi4.core.set_output_file('output.dat', False)"
   ]
  },
  {
   "cell_type": "code",
   "execution_count": 3,
   "id": "c45f3eac",
   "metadata": {},
   "outputs": [
    {
     "name": "stdout",
     "output_type": "stream",
     "text": [
      "0\n",
      "\n",
      "Start SCF iterations:\n",
      "\n",
      "Canonical RHF One-electron energy = -121.6753455400171902\n",
      "CQED-RHF One-electron energy      = -121.6446277554181279\n",
      "Nuclear repulsion energy          = 8.8026031303907679\n",
      "Dipole energy                     = 0.0006736422568380\n",
      "SCF Iteration   1: Energy = -74.9465252640783604   dE = -7.49465E+01   dRMS = 6.02250E-04\n",
      "SCF Iteration   2: Energy = -74.9465445632316403   dE = -1.92992E-05   dRMS = 2.01092E-04\n",
      "SCF Iteration   3: Energy = -74.9465467044282008   dE = -2.14120E-06   dRMS = 7.67758E-05\n",
      "SCF Iteration   4: Energy = -74.9465470766861586   dE = -3.72258E-07   dRMS = 3.34663E-05\n",
      "SCF Iteration   5: Energy = -74.9465471483387091   dE = -7.16526E-08   dRMS = 1.48018E-05\n",
      "SCF Iteration   6: Energy = -74.9465471625286881   dE = -1.41900E-08   dRMS = 6.60930E-06\n",
      "SCF Iteration   7: Energy = -74.9465471653629578   dE = -2.83427E-09   dRMS = 2.95662E-06\n",
      "SCF Iteration   8: Energy = -74.9465471659306246   dE = -5.67667E-10   dRMS = 1.32357E-06\n",
      "SCF Iteration   9: Energy = -74.9465471660443683   dE = -1.13744E-10   dRMS = 5.92605E-07\n",
      "SCF Iteration  10: Energy = -74.9465471660671767   dE = -2.28084E-11   dRMS = 2.65341E-07\n",
      "SCF Iteration  11: Energy = -74.9465471660717526   dE = -4.57590E-12   dRMS = 1.18808E-07\n",
      "SCF Iteration  12: Energy = -74.9465471660726337   dE = -8.81073E-13   dRMS = 5.31968E-08\n",
      "SCF Iteration  13: Energy = -74.9465471660728468   dE = -2.13163E-13   dRMS = 2.38191E-08\n",
      "SCF Iteration  14: Energy = -74.9465471660729179   dE = -7.10543E-14   dRMS = 1.06651E-08\n",
      "SCF Iteration  15: Energy = -74.9465471660728895   dE =  2.84217E-14   dRMS = 4.77533E-09\n",
      "SCF Iteration  16: Energy = -74.9465471660728895   dE =  0.00000E+00   dRMS = 2.13817E-09\n",
      "SCF Iteration  17: Energy = -74.9465471660729179   dE = -2.84217E-14   dRMS = 9.57371E-10\n",
      "SCF Iteration  18: Energy = -74.9465471660729321   dE = -1.42109E-14   dRMS = 4.28665E-10\n",
      "SCF Iteration  19: Energy = -74.9465471660728895   dE =  4.26326E-14   dRMS = 1.91936E-10\n",
      "SCF Iteration  20: Energy = -74.9465471660728753   dE =  1.42109E-14   dRMS = 8.59403E-11\n",
      "Total time for SCF iterations: 0.008 seconds \n",
      "\n",
      "QED-RHF   energy: -74.94654717 hartree\n",
      "Psi4  SCF energy: -74.96485910 hartree\n",
      "\n",
      "\n",
      "(42, 4)\n",
      "iteration 1 subspace dimension 4\n",
      "[]\n",
      "root residual norm Eigenvalue Convergence\n",
      "1 6.015809116991117e-10 -74.94654716607289 Y\n",
      "converged!\n"
     ]
    }
   ],
   "source": [
    "# photon energy\n",
    "#omega_val = 2.0 / psi4.constants.Hartree_energy_in_eV\n",
    "omega_val = 0\n",
    "\n",
    "print(omega_val)\n",
    "\n",
    "# lambda vector\n",
    "lambda_vector = np.array([0., 0., 0.01])\n",
    "#lambda_vector = np.array([0.5, 0.5, 0.5])\n",
    "\n",
    "n_act_orb=5\n",
    "#number of active electrons\n",
    "n_act_el=4\n",
    "# Build PF Hamiltonian matrix \n",
    "H2_PF = PFHamiltonianGenerator(mol_str, options_dict, cavity_options)\n"
   ]
  },
  {
   "cell_type": "code",
   "execution_count": null,
   "id": "a3f6481c",
   "metadata": {},
   "outputs": [],
   "source": [
    "print(H2_PF.H_1e_ao)\n"
   ]
  },
  {
   "cell_type": "code",
   "execution_count": null,
   "id": "b1649b7e",
   "metadata": {},
   "outputs": [],
   "source": [
    "_H_spin = np.einsum(\"uj,vi,uv\", H2_PF.Ca, H2_PF.Ca, H2_PF.H_1e_ao)\n",
    "print(_H_spin)"
   ]
  },
  {
   "cell_type": "code",
   "execution_count": null,
   "id": "c3a01c2d",
   "metadata": {},
   "outputs": [],
   "source": [
    "_H_spin = np.repeat(_H_spin, 2, axis=0)\n",
    "print(_H_spin)"
   ]
  },
  {
   "cell_type": "code",
   "execution_count": null,
   "id": "9072992c",
   "metadata": {},
   "outputs": [],
   "source": [
    "_H_spin = np.repeat(_H_spin, 2, axis=1)\n",
    "print(_H_spin)"
   ]
  },
  {
   "cell_type": "code",
   "execution_count": null,
   "id": "133c42cc",
   "metadata": {},
   "outputs": [],
   "source": [
    "spin_ind = np.arange(_H_spin.shape[0], dtype=int) % 2\n",
    "print(spin_ind)"
   ]
  },
  {
   "cell_type": "code",
   "execution_count": null,
   "id": "ba6f91d2",
   "metadata": {},
   "outputs": [],
   "source": [
    "Hspin = _H_spin * (spin_ind.reshape(-1, 1) == spin_ind)\n",
    "print(spin_ind.reshape(-1, 1) == spin_ind)\n",
    "print(Hspin)"
   ]
  },
  {
   "cell_type": "code",
   "execution_count": null,
   "id": "c61db63d",
   "metadata": {},
   "outputs": [],
   "source": [
    "        if self.ignore_coupling == False:\n",
    "            self.H_1e_ao += self.q_PF_ao + self.d_PF_ao\n",
    "        # build H_spin\n",
    "        # spatial part of 1-e integrals\n",
    "        _H_spin = np.einsum(\"uj,vi,uv\", self.Ca, self.Ca, self.H_1e_ao)\n",
    "        _H_spin = np.repeat(_H_spin, 2, axis=0)\n",
    "        _H_spin = np.repeat(_H_spin, 2, axis=0)\n",
    "        # spin part of 1-e integrals\n",
    "        spin_ind = np.arange(_H_spin.shape[0], dtype=int) % 2\n",
    "        # product of spatial and spin parts\n",
    "        self.Hspin = _H_spin * (spin_ind.reshape(-1, 1) == spin_ind)"
   ]
  },
  {
   "cell_type": "code",
   "execution_count": null,
   "id": "1aa8d0f9",
   "metadata": {},
   "outputs": [],
   "source": [
    "# diagonalize the Hamiltonian matrix\n",
    "e_fci, wavefunctions = np.linalg.eigh(H2_PF.H_PF)\n",
    "\n",
    "# davidson eigenvalues and eigenvectors are stored in attributes\n",
    "# H2_PF.cis_e and H2_PF.cis_c for now!\n"
   ]
  },
  {
   "cell_type": "code",
   "execution_count": null,
   "id": "7ea9288e",
   "metadata": {},
   "outputs": [],
   "source": [
    "print(\"checking to see if the Davidson Roots Agree!\")\n",
    "print(e_fci[:14])\n",
    "print(H2_PF.cis_e[:14] )\n",
    "print(np.allclose(e_fci[:14] , H2_PF.cis_e[:14]))\n"
   ]
  },
  {
   "cell_type": "code",
   "execution_count": null,
   "id": "e59ff2d2",
   "metadata": {},
   "outputs": [],
   "source": [
    "\n",
    "H2_PF.calc1RDMfromCIS(wavefunctions[:,14])\n",
    "print(np.trace(H2_PF.Dij))\n",
    "print(np.trace(H2_PF.Dab))\n",
    "print(np.trace(H2_PF.D1))\n",
    "\n",
    "\n",
    "\n",
    "e1_test_rdm = np.einsum(\"pq,pq->\", H2_PF.Hspin, H2_PF.D1)\n",
    "\n",
    "temp=np.einsum(\"pq,q->p\", H2_PF.H_1E,wavefunctions[:,14])\n",
    "e1_test_wfn = np.dot(wavefunctions[:,14].T,temp)\n",
    "\n",
    "\n"
   ]
  },
  {
   "cell_type": "code",
   "execution_count": null,
   "id": "b74078b0",
   "metadata": {},
   "outputs": [],
   "source": [
    "print(e1_test_rdm)\n",
    "print(e1_test_wfn-H2_PF.Enuc)\n",
    "print(e1_test_rdm-e1_test_wfn+H2_PF.Enuc)"
   ]
  },
  {
   "cell_type": "code",
   "execution_count": null,
   "id": "edea711d",
   "metadata": {},
   "outputs": [],
   "source": []
  }
 ],
 "metadata": {
  "kernelspec": {
   "display_name": "Python 3 (ipykernel)",
   "language": "python",
   "name": "python3"
  },
  "language_info": {
   "codemirror_mode": {
    "name": "ipython",
    "version": 3
   },
   "file_extension": ".py",
   "mimetype": "text/x-python",
   "name": "python",
   "nbconvert_exporter": "python",
   "pygments_lexer": "ipython3",
   "version": "3.9.13"
  }
 },
 "nbformat": 4,
 "nbformat_minor": 5
}
