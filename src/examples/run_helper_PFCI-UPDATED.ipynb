{
 "cells": [
  {
   "cell_type": "code",
   "execution_count": 1,
   "id": "57746595",
   "metadata": {},
   "outputs": [],
   "source": [
    "import numpy as np\n",
    "import sys\n",
    "#np.set_printoptions(precision=5, linewidth=200, suppress=True)\n",
    "import psi4\n",
    "from helper_PFCI import PFHamiltonianGenerator\n",
    "from helper_PFCI import Determinant\n",
    "from helper_cqed_rhf import cqed_rhf\n",
    "np.set_printoptions(threshold=sys.maxsize)"
   ]
  },
  {
   "cell_type": "code",
   "execution_count": 13,
   "id": "43dbae27",
   "metadata": {},
   "outputs": [],
   "source": [
    "#mol_str = \"\"\"\n",
    "#0 1\n",
    "#O\n",
    "#H 1 1.0\n",
    "#H 1 1.0 2 104.0\n",
    "#symmetry c1\n",
    "#\"\"\"\n",
    "mol_str = \"\"\"\n",
    "Li\n",
    "H 1 1.0\n",
    "symmetry c1\n",
    "\"\"\"\n",
    "\n",
    "options_dict = {'basis': 'sto-3g',\n",
    "                  'scf_type': 'pk',\n",
    "                  'e_convergence': 1e-10,\n",
    "                  'd_convergence': 1e-10\n",
    "                  }\n",
    "\n",
    "mol = psi4.geometry(mol_str)\n",
    "\n",
    "cavity_options = {\n",
    "    'omega_value' : 0.36,\n",
    "    'lambda_vector' : np.array([0, 0, 0.05]),\n",
    "    'ci_level' : 'fci',\n",
    "    'full_diagonalization' : True,\n",
    "    'nact_orbs' : 0,\n",
    "    'nact_els' : 0\n",
    "}\n",
    "\n",
    "\n",
    "psi4.set_options(options_dict)\n",
    "psi4.core.set_output_file('output.dat', False)"
   ]
  },
  {
   "cell_type": "code",
   "execution_count": 14,
   "id": "c45f3eac",
   "metadata": {},
   "outputs": [
    {
     "name": "stdout",
     "output_type": "stream",
     "text": [
      "\n",
      "Start SCF iterations:\n",
      "\n",
      "Canonical RHF One-electron energy = -13.3346745238277542\n",
      "CQED-RHF One-electron energy      = -13.3241454366046739\n",
      "Nuclear repulsion energy          = 1.5875316320100001\n",
      "Dipole energy                     = 0.0100502927109982\n",
      "SCF Iteration   1: Energy = -7.7639405850266137   dE = -7.76394E+00   dRMS = 4.20589E-04\n",
      "SCF Iteration   2: Energy = -7.7639495413056760   dE = -8.95628E-06   dRMS = 9.34521E-05\n",
      "SCF Iteration   3: Energy = -7.7639504939200652   dE = -9.52614E-07   dRMS = 4.41580E-05\n",
      "SCF Iteration   4: Energy = -7.7639507470372031   dE = -2.53117E-07   dRMS = 2.31702E-05\n",
      "SCF Iteration   5: Energy = -7.7639508179290075   dE = -7.08918E-08   dRMS = 1.22670E-05\n",
      "SCF Iteration   6: Energy = -7.7639508378255808   dE = -1.98966E-08   dRMS = 6.49909E-06\n",
      "SCF Iteration   7: Energy = -7.7639508434096260   dE = -5.58405E-09   dRMS = 3.44309E-06\n",
      "SCF Iteration   8: Energy = -7.7639508449766854   dE = -1.56706E-09   dRMS = 1.82398E-06\n",
      "SCF Iteration   9: Energy = -7.7639508454164332   dE = -4.39748E-10   dRMS = 9.66226E-07\n",
      "SCF Iteration  10: Energy = -7.7639508455398296   dE = -1.23396E-10   dRMS = 5.11837E-07\n",
      "SCF Iteration  11: Energy = -7.7639508455744526   dE = -3.46230E-11   dRMS = 2.71132E-07\n",
      "SCF Iteration  12: Energy = -7.7639508455841728   dE = -9.72022E-12   dRMS = 1.43625E-07\n",
      "SCF Iteration  13: Energy = -7.7639508455868960   dE = -2.72316E-12   dRMS = 7.60810E-08\n",
      "SCF Iteration  14: Energy = -7.7639508455876669   dE = -7.70939E-13   dRMS = 4.03017E-08\n",
      "SCF Iteration  15: Energy = -7.7639508455878801   dE = -2.13163E-13   dRMS = 2.13486E-08\n",
      "SCF Iteration  16: Energy = -7.7639508455879369   dE = -5.68434E-14   dRMS = 1.13088E-08\n",
      "SCF Iteration  17: Energy = -7.7639508455879529   dE = -1.59872E-14   dRMS = 5.99050E-09\n",
      "SCF Iteration  18: Energy = -7.7639508455879547   dE = -1.77636E-15   dRMS = 3.17329E-09\n",
      "SCF Iteration  19: Energy = -7.7639508455879582   dE = -3.55271E-15   dRMS = 1.68096E-09\n",
      "SCF Iteration  20: Energy = -7.7639508455879618   dE = -3.55271E-15   dRMS = 8.90437E-10\n",
      "SCF Iteration  21: Energy = -7.7639508455879582   dE =  3.55271E-15   dRMS = 4.71682E-10\n",
      "SCF Iteration  22: Energy = -7.7639508455879600   dE = -1.77636E-15   dRMS = 2.49860E-10\n",
      "SCF Iteration  23: Energy = -7.7639508455879618   dE = -1.77636E-15   dRMS = 1.32356E-10\n",
      "SCF Iteration  24: Energy = -7.7639508455879618   dE =  0.00000E+00   dRMS = 7.01114E-11\n",
      "Total time for SCF iterations: 0.002 seconds \n",
      "\n",
      "QED-RHF   energy: -7.76395085 hartree\n",
      "Psi4  SCF energy: -7.76736214 hartree\n",
      " Completed QED-RHF in 0.1310563087463379 seconds\n",
      " Completed 1HSO Build in 3.314018249511719e-05 seconds\n",
      " Completed ERI Build in 0.0012128353118896484 seconds \n",
      " Completed 2D build in 0.000179290771484375 seconds\n",
      " Completed 1G build in 1.6689300537109375e-05 seconds\n",
      " Completed the Dipole Matrix Build in 4.1961669921875e-05 seconds\n",
      " Completed determinant list in 0.00045800209045410156 seconds \n",
      " Completed constant offset matrix in 0.00033593177795410156 seconds\n",
      " Completed Hamiltonian build in 0.34442591667175293 seconds\n"
     ]
    }
   ],
   "source": [
    "\n",
    "# Build PF Hamiltonian matrix \n",
    "H2_PF = PFHamiltonianGenerator(mol_str, options_dict, cavity_options)\n"
   ]
  },
  {
   "cell_type": "code",
   "execution_count": 27,
   "id": "1d2689fe",
   "metadata": {},
   "outputs": [
    {
     "name": "stdout",
     "output_type": "stream",
     "text": [
      "[(0, 1), (0, 2), (0, 3), (0, 4), (0, 5), (1, 2), (1, 3), (1, 4), (1, 5)]\n"
     ]
    }
   ],
   "source": [
    "def compute_excitation_level(ket, ndocc):\n",
    "    level = 0\n",
    "    homo = ndocc - 1\n",
    "    for i in range(0, len(ket)):\n",
    "        if ket[i] > homo:\n",
    "            level += 1\n",
    "    return level\n",
    "\n",
    "\n",
    "cis_tuple = H2_PF.generateCISTuple()\n",
    "print(cis_tuple)\n",
    "\n",
    "for alpha in cis_tuple:\n",
    "    alpha_ex_level = compute_excitation_level(alpha, H2_PF.ndocc)\n",
    "\n",
    "    for beta in cis_tuple:\n",
    "        beta_ex_level = compute_excitation_level(beta, H2_PF.ndocc)\n",
    "        if alpha_ex_level + beta_ex_level <= 1:\n",
    "            e = Determinant(alphaObtList=alpha, betaObtList=beta)"
   ]
  },
  {
   "cell_type": "code",
   "execution_count": 48,
   "id": "fad5a665",
   "metadata": {},
   "outputs": [
    {
     "name": "stdout",
     "output_type": "stream",
     "text": [
      "|[0, 1, 2, 3][0, 1, 2, 3]>\n",
      "|[0, 1, 2, 4][0, 1, 2, 3]>\n",
      "1.0\n"
     ]
    }
   ],
   "source": [
    "#print(e)\n",
    "alpha1 = (0,1,2,3)\n",
    "beta1  = (0,1,2,3)\n",
    "\n",
    "alpha2 = (0,1,2,4)\n",
    "beta2 = (0,1,2,3)\n",
    "\n",
    "det1 = Determinant(alphaObtList=alpha1, betaObtList=beta1)\n",
    "det2 = Determinant(alphaObtList=alpha2, betaObtList=beta2)\n",
    "\n",
    "print(det1)\n",
    "print(det2)\n",
    "\n",
    "numUniqueOrbitals = det1.numberOfTotalDiffOrbitals(det2)\n",
    "print(numUniqueOrbitals)"
   ]
  },
  {
   "cell_type": "code",
   "execution_count": 49,
   "id": "4397f646",
   "metadata": {},
   "outputs": [
    {
     "name": "stdout",
     "output_type": "stream",
     "text": [
      "[3] []\n",
      "[4] []\n",
      "[6]\n",
      "[8]\n"
     ]
    }
   ],
   "source": [
    "((a1, b1), (a2, b2), sign, )= det1.getUniqueOrbitalsInListsPlusSign(det2)\n",
    "\n",
    "print(a1, b1)\n",
    "print(a2, b2)\n",
    "\n",
    "mdet1 = Determinant.mixIndexList(a1, b1)\n",
    "mdet2 = Determinant.mixIndexList(a2, b2)\n",
    "\n",
    "print(mdet1)\n",
    "print(mdet2)"
   ]
  },
  {
   "cell_type": "code",
   "execution_count": 6,
   "id": "024b0ed9",
   "metadata": {},
   "outputs": [
    {
     "ename": "AttributeError",
     "evalue": "'PFHamiltonianGenerator' object has no attribute 'CISdets'",
     "output_type": "error",
     "traceback": [
      "\u001b[0;31m---------------------------------------------------------------------------\u001b[0m",
      "\u001b[0;31mAttributeError\u001b[0m                            Traceback (most recent call last)",
      "Cell \u001b[0;32mIn [6], line 4\u001b[0m\n\u001b[1;32m      1\u001b[0m \u001b[38;5;66;03m#print(H2_PF.CISdets[0]) #.getUniqueOrbitalsInListsPlusSign(H2_PF.CISdets[0]))\u001b[39;00m\n\u001b[1;32m      2\u001b[0m \u001b[38;5;66;03m#for i in range(20):\u001b[39;00m\n\u001b[1;32m      3\u001b[0m \u001b[38;5;66;03m#    print(i,H2_PF.CISdets[i])\u001b[39;00m\n\u001b[0;32m----> 4\u001b[0m _bra \u001b[38;5;241m=\u001b[39m \u001b[43mH2_PF\u001b[49m\u001b[38;5;241;43m.\u001b[39;49m\u001b[43mCISdets\u001b[49m[\u001b[38;5;241m11\u001b[39m]\u001b[38;5;241m.\u001b[39mcopy()\n\u001b[1;32m      5\u001b[0m _ket \u001b[38;5;241m=\u001b[39m H2_PF\u001b[38;5;241m.\u001b[39mCISdets[\u001b[38;5;241m1\u001b[39m]\u001b[38;5;241m.\u001b[39mcopy()\n\u001b[1;32m      7\u001b[0m _bra\u001b[38;5;241m.\u001b[39mgetUniqueOrbitalsInListsPlusSign\n",
      "\u001b[0;31mAttributeError\u001b[0m: 'PFHamiltonianGenerator' object has no attribute 'CISdets'"
     ]
    }
   ],
   "source": [
    "\n",
    "\n",
    "\n",
    "#print(H2_PF.CISdets[0]) #.getUniqueOrbitalsInListsPlusSign(H2_PF.CISdets[0]))\n",
    "#for i in range(20):\n",
    "#    print(i,H2_PF.CISdets[i])\n",
    "_bra = H2_PF.CISdets[11].copy()\n",
    "_ket = H2_PF.CISdets[1].copy()\n",
    "\n",
    "_bra.getUniqueOrbitalsInListsPlusSign\n",
    "print(_bra)\n",
    "print(_ket)\n",
    "#_ket.removeBetaOrbital(1)\n",
    "#_bra.removeAlphaOrbital(1)\n",
    "#print(_ket)\n",
    "#print(_bra)\n",
    "#u1, u2, sign = _bra.getUniqueOrbitalsInListsPlusSign(_ket)\n",
    "#print(sign)"
   ]
  },
  {
   "cell_type": "code",
   "execution_count": null,
   "id": "686b1f8d",
   "metadata": {},
   "outputs": [],
   "source": [
    "def computeSplusSminusPQ(bra, ket, p, q):\n",
    "    # act on ket with S-(q)\n",
    "    # S-(q) kills q_alpha and creates q_beta\n",
    "    a, b = ket.getOrbitalIndexLists()\n",
    "    print(a, b)\n",
    "\n",
    "    # check to see if q_alpha is unnoccupied\n",
    "    if (q not in a):\n",
    "        return 0\n",
    "    else:\n",
    "        ket.removeAlphaOrbital(q)\n",
    "    if (q not in b):\n",
    "        ket.addBetaOrbital(q)\n",
    "    else:\n",
    "        return 0\n",
    "    \n",
    "    # act on updated ket with S+(p)\n",
    "    # S+(p) kills p_beta and creates p_alpha\n",
    "    \n",
    "    # get updated occupation list\n",
    "    a, b = ket.getOrbitalIndexLists()\n",
    "    print(a, b)\n",
    "    if (p not in b):\n",
    "        return 0\n",
    "    else:\n",
    "        ket.removeBetaOrbital(p)\n",
    "    if (p not in a):\n",
    "        ket.addAlphaOrbital(p)\n",
    "    else:\n",
    "        return 0\n",
    "    \n",
    "    numUniqueOrbitals = bra.numberOfTotalDiffOrbitals(ket)\n",
    "    print(\"numUnique\",numUniqueOrbitals)\n",
    "    if numUniqueOrbitals==0:\n",
    "        u1, u2, sign = bra.getUniqueOrbitalsInListsPlusSign(ket)\n",
    "        print(u1, u2, sign)\n",
    "        return sign\n",
    "    else:\n",
    "        return 0\n",
    "    \n",
    "\n",
    "    "
   ]
  },
  {
   "cell_type": "code",
   "execution_count": null,
   "id": "a3f6481c",
   "metadata": {},
   "outputs": [],
   "source": [
    "print(computeSplusSminusPQ(_bra, _ket, 5, 4))\n"
   ]
  },
  {
   "cell_type": "code",
   "execution_count": null,
   "id": "b1649b7e",
   "metadata": {},
   "outputs": [],
   "source": [
    "_H_spin = np.einsum(\"uj,vi,uv\", H2_PF.Ca, H2_PF.Ca, H2_PF.H_1e_ao)\n",
    "print(_H_spin)"
   ]
  },
  {
   "cell_type": "code",
   "execution_count": null,
   "id": "c3a01c2d",
   "metadata": {},
   "outputs": [],
   "source": [
    "_H_spin = np.repeat(_H_spin, 2, axis=0)\n",
    "print(_H_spin)"
   ]
  },
  {
   "cell_type": "code",
   "execution_count": null,
   "id": "9072992c",
   "metadata": {},
   "outputs": [],
   "source": [
    "_H_spin = np.repeat(_H_spin, 2, axis=1)\n",
    "print(_H_spin)"
   ]
  },
  {
   "cell_type": "code",
   "execution_count": null,
   "id": "133c42cc",
   "metadata": {},
   "outputs": [],
   "source": [
    "spin_ind = np.arange(_H_spin.shape[0], dtype=int) % 2\n",
    "print(spin_ind)"
   ]
  },
  {
   "cell_type": "code",
   "execution_count": null,
   "id": "ba6f91d2",
   "metadata": {},
   "outputs": [],
   "source": [
    "Hspin = _H_spin * (spin_ind.reshape(-1, 1) == spin_ind)\n",
    "print(spin_ind.reshape(-1, 1) == spin_ind)\n",
    "print(Hspin)"
   ]
  },
  {
   "cell_type": "code",
   "execution_count": null,
   "id": "c61db63d",
   "metadata": {},
   "outputs": [],
   "source": [
    "        if self.ignore_coupling == False:\n",
    "            self.H_1e_ao += self.q_PF_ao + self.d_PF_ao\n",
    "        # build H_spin\n",
    "        # spatial part of 1-e integrals\n",
    "        _H_spin = np.einsum(\"uj,vi,uv\", self.Ca, self.Ca, self.H_1e_ao)\n",
    "        _H_spin = np.repeat(_H_spin, 2, axis=0)\n",
    "        _H_spin = np.repeat(_H_spin, 2, axis=0)\n",
    "        # spin part of 1-e integrals\n",
    "        spin_ind = np.arange(_H_spin.shape[0], dtype=int) % 2\n",
    "        # product of spatial and spin parts\n",
    "        self.Hspin = _H_spin * (spin_ind.reshape(-1, 1) == spin_ind)"
   ]
  },
  {
   "cell_type": "code",
   "execution_count": null,
   "id": "1aa8d0f9",
   "metadata": {},
   "outputs": [],
   "source": [
    "# diagonalize the Hamiltonian matrix\n",
    "e_fci, wavefunctions = np.linalg.eigh(H2_PF.H_PF)\n",
    "\n",
    "# davidson eigenvalues and eigenvectors are stored in attributes\n",
    "# H2_PF.cis_e and H2_PF.cis_c for now!\n"
   ]
  },
  {
   "cell_type": "code",
   "execution_count": null,
   "id": "7ea9288e",
   "metadata": {},
   "outputs": [],
   "source": [
    "print(\"checking to see if the Davidson Roots Agree!\")\n",
    "print(e_fci[:14])\n",
    "print(H2_PF.cis_e[:14] )\n",
    "print(np.allclose(e_fci[:14] , H2_PF.cis_e[:14]))\n"
   ]
  },
  {
   "cell_type": "code",
   "execution_count": null,
   "id": "e59ff2d2",
   "metadata": {},
   "outputs": [],
   "source": [
    "\n",
    "H2_PF.calc1RDMfromCIS(wavefunctions[:,14])\n",
    "print(np.trace(H2_PF.Dij))\n",
    "print(np.trace(H2_PF.Dab))\n",
    "print(np.trace(H2_PF.D1))\n",
    "\n",
    "\n",
    "\n",
    "e1_test_rdm = np.einsum(\"pq,pq->\", H2_PF.Hspin, H2_PF.D1)\n",
    "\n",
    "temp=np.einsum(\"pq,q->p\", H2_PF.H_1E,wavefunctions[:,14])\n",
    "e1_test_wfn = np.dot(wavefunctions[:,14].T,temp)\n",
    "\n",
    "\n"
   ]
  },
  {
   "cell_type": "code",
   "execution_count": null,
   "id": "b74078b0",
   "metadata": {},
   "outputs": [],
   "source": [
    "print(e1_test_rdm)\n",
    "print(e1_test_wfn-H2_PF.Enuc)\n",
    "print(e1_test_rdm-e1_test_wfn+H2_PF.Enuc)"
   ]
  },
  {
   "cell_type": "code",
   "execution_count": null,
   "id": "edea711d",
   "metadata": {},
   "outputs": [],
   "source": []
  }
 ],
 "metadata": {
  "kernelspec": {
   "display_name": "Python 3 (ipykernel)",
   "language": "python",
   "name": "python3"
  },
  "language_info": {
   "codemirror_mode": {
    "name": "ipython",
    "version": 3
   },
   "file_extension": ".py",
   "mimetype": "text/x-python",
   "name": "python",
   "nbconvert_exporter": "python",
   "pygments_lexer": "ipython3",
   "version": "3.9.13"
  }
 },
 "nbformat": 4,
 "nbformat_minor": 5
}
