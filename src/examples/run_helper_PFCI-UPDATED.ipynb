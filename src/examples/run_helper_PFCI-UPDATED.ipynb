{
 "cells": [
  {
   "cell_type": "code",
   "execution_count": 1,
   "id": "57746595",
   "metadata": {},
   "outputs": [],
   "source": [
    "import numpy as np\n",
    "import sys\n",
    "#np.set_printoptions(precision=5, linewidth=200, suppress=True)\n",
    "import psi4\n",
    "from helper_PFCI import PFHamiltonianGenerator\n",
    "from helper_PFCI import Determinant\n",
    "from helper_cqed_rhf import cqed_rhf\n",
    "np.set_printoptions(threshold=sys.maxsize)"
   ]
  },
  {
   "cell_type": "code",
   "execution_count": 2,
   "id": "43dbae27",
   "metadata": {},
   "outputs": [],
   "source": [
    "mol_str = \"\"\"\n",
    "0 1\n",
    "o\n",
    "h 1 1.0\n",
    "h 1 1.0 2 104.0\n",
    "symmetry c1\n",
    "\"\"\"\n",
    "\n",
    "options_dict = {'basis': 'sto-3g',\n",
    "                  'scf_type': 'pk',\n",
    "                  'e_convergence': 1e-10,\n",
    "                  'd_convergence': 1e-10\n",
    "                  }\n",
    "\n",
    "mol = psi4.geometry(mol_str)\n",
    "\n",
    "cavity_options = {\n",
    "    'omega_value' : 0.0,\n",
    "    'lambda_vector' : np.array([0, 0, 0]),\n",
    "    'ci_level' : 'cis',\n",
    "    'ignore_coupling' : False,\n",
    "    'number_of_photons' : 1,\n",
    "    'natural_orbitals' : False,\n",
    "    'davidson_roots' : 20,\n",
    "    'nact_orbs' : 0,\n",
    "    'nact_els' : 0\n",
    "}\n",
    "\n",
    "psi4.set_options(options_dict)\n",
    "psi4.core.set_output_file('output.dat', False)"
   ]
  },
  {
   "cell_type": "code",
   "execution_count": 3,
   "id": "c45f3eac",
   "metadata": {},
   "outputs": [
    {
     "name": "stdout",
     "output_type": "stream",
     "text": [
      "0\n",
      "\n",
      "Start SCF iterations:\n",
      "\n",
      "Canonical RHF One-electron energy = -121.6753455400170196\n",
      "CQED-RHF One-electron energy      = -121.6753455400170196\n",
      "Nuclear repulsion energy          = 8.8026031303907679\n",
      "Dipole energy                     = 0.0000000000000000\n",
      "SCF Iteration   1: Energy = -74.9648590960667320   dE = -7.49649E+01   dRMS = 8.59412E-15\n",
      "SCF Iteration   2: Energy = -74.9648590960666610   dE =  7.10543E-14   dRMS = 2.85301E-15\n",
      "Total time for SCF iterations: 0.000 seconds \n",
      "\n",
      "QED-RHF   energy: -74.96485910 hartree\n",
      "Psi4  SCF energy: -74.96485910 hartree\n",
      "printing CIS tuples\n",
      "[(0, 1, 2, 3, 4), (0, 1, 2, 3, 5), (0, 1, 2, 3, 6), (0, 1, 2, 4, 5), (0, 1, 2, 4, 6), (0, 1, 3, 4, 5), (0, 1, 3, 4, 6), (0, 2, 3, 4, 5), (0, 2, 3, 4, 6), (1, 2, 3, 4, 5), (1, 2, 3, 4, 6)]\n",
      "subspace size is too large, try smaller size\n"
     ]
    },
    {
     "ename": "SystemExit",
     "evalue": "",
     "output_type": "error",
     "traceback": [
      "An exception has occurred, use %tb to see the full traceback.\n",
      "\u001b[0;31mSystemExit\u001b[0m\n"
     ]
    },
    {
     "name": "stderr",
     "output_type": "stream",
     "text": [
      "/opt/homebrew/Caskroom/miniforge/base/envs/psi4/lib/python3.9/site-packages/IPython/core/interactiveshell.py:3386: UserWarning: To exit: use 'exit', 'quit', or Ctrl-D.\n",
      "  warn(\"To exit: use 'exit', 'quit', or Ctrl-D.\", stacklevel=1)\n"
     ]
    }
   ],
   "source": [
    "# photon energy\n",
    "#omega_val = 2.0 / psi4.constants.Hartree_energy_in_eV\n",
    "omega_val = 0\n",
    "\n",
    "print(omega_val)\n",
    "\n",
    "# lambda vector\n",
    "lambda_vector = np.array([0., 0., 0.0])\n",
    "#lambda_vector = np.array([0.5, 0.5, 0.5])\n",
    "\n",
    "n_act_orb=5\n",
    "#number of active electrons\n",
    "n_act_el=4\n",
    "# Build PF Hamiltonian matrix \n",
    "H2_PF = PFHamiltonianGenerator(mol_str, options_dict, cavity_options)\n"
   ]
  },
  {
   "cell_type": "code",
   "execution_count": null,
   "id": "1aa8d0f9",
   "metadata": {},
   "outputs": [],
   "source": [
    "# diagonalize the Hamiltonian matrix\n",
    "e_fci, wavefunctions = np.linalg.eigh(H2_PF.H_PF)\n",
    "\n",
    "# davidson eigenvalues and eigenvectors are stored in attributes\n",
    "# H2_PF.cis_e and H2_PF.cis_c for now!\n"
   ]
  },
  {
   "cell_type": "code",
   "execution_count": null,
   "id": "7ea9288e",
   "metadata": {},
   "outputs": [],
   "source": [
    "print(\"checking to see if the Davidson Roots Agree!\")\n",
    "print(e_fci[:14])\n",
    "print(H2_PF.cis_e[:14] )\n",
    "print(np.allclose(e_fci[:14] , H2_PF.cis_e[:14]))\n"
   ]
  },
  {
   "cell_type": "code",
   "execution_count": null,
   "id": "e59ff2d2",
   "metadata": {},
   "outputs": [],
   "source": [
    "\n",
    "H2_PF.calc1RDMfromCIS(wavefunctions[:,14])\n",
    "print(np.trace(H2_PF.Dij))\n",
    "print(np.trace(H2_PF.Dab))\n",
    "print(np.trace(H2_PF.D1))\n",
    "\n",
    "\n",
    "\n",
    "e1_test_rdm = np.einsum(\"pq,pq->\", H2_PF.Hspin, H2_PF.D1)\n",
    "\n",
    "temp=np.einsum(\"pq,q->p\", H2_PF.H_1E,wavefunctions[:,14])\n",
    "e1_test_wfn = np.dot(wavefunctions[:,14].T,temp)\n",
    "\n",
    "\n"
   ]
  },
  {
   "cell_type": "code",
   "execution_count": null,
   "id": "b74078b0",
   "metadata": {},
   "outputs": [],
   "source": [
    "print(e1_test_rdm)\n",
    "print(e1_test_wfn-H2_PF.Enuc)\n",
    "print(e1_test_rdm-e1_test_wfn+H2_PF.Enuc)"
   ]
  },
  {
   "cell_type": "code",
   "execution_count": null,
   "id": "edea711d",
   "metadata": {},
   "outputs": [],
   "source": []
  }
 ],
 "metadata": {
  "kernelspec": {
   "display_name": "Python 3 (ipykernel)",
   "language": "python",
   "name": "python3"
  },
  "language_info": {
   "codemirror_mode": {
    "name": "ipython",
    "version": 3
   },
   "file_extension": ".py",
   "mimetype": "text/x-python",
   "name": "python",
   "nbconvert_exporter": "python",
   "pygments_lexer": "ipython3",
   "version": "3.9.13"
  }
 },
 "nbformat": 4,
 "nbformat_minor": 5
}
