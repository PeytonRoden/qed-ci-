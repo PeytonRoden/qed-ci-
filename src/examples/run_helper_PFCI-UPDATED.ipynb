{
 "cells": [
  {
   "cell_type": "code",
   "execution_count": 1,
   "id": "57746595",
   "metadata": {},
   "outputs": [],
   "source": [
    "import numpy as np\n",
    "import sys\n",
    "#np.set_printoptions(precision=5, linewidth=200, suppress=True)\n",
    "import psi4\n",
    "from helper_PFCI import PFHamiltonianGenerator\n",
    "from helper_PFCI import Determinant\n",
    "from helper_cqed_rhf import cqed_rhf\n",
    "np.set_printoptions(threshold=sys.maxsize)"
   ]
  },
  {
   "cell_type": "code",
   "execution_count": 3,
   "id": "43dbae27",
   "metadata": {},
   "outputs": [],
   "source": [
    "mol_str = \"\"\"\n",
    "0 1\n",
    "O\n",
    "H 1 1.0\n",
    "H 1 1.0 2 104.0\n",
    "symmetry c1\n",
    "\"\"\"\n",
    "\n",
    "options_dict = {'basis': 'sto-3g',\n",
    "                  'scf_type': 'pk',\n",
    "                  'e_convergence': 1e-10,\n",
    "                  'd_convergence': 1e-10\n",
    "                  }\n",
    "\n",
    "mol = psi4.geometry(mol_str)\n",
    "\n",
    "cavity_options = {\n",
    "    'omega_value' : 0.0,\n",
    "    'lambda_vector' : np.array([0, 0, 0.0]),\n",
    "    'ci_level' : 'cis',\n",
    "    'ignore_coupling' : False,\n",
    "    'number_of_photons' : 1,\n",
    "    'natural_orbitals' : False,\n",
    "    'davidson_roots' : 1,\n",
    "    'nact_orbs' : 0,\n",
    "    'nact_els' : 0\n",
    "}\n",
    "\n",
    "psi4.set_options(options_dict)\n",
    "psi4.core.set_output_file('output.dat', False)"
   ]
  },
  {
   "cell_type": "code",
   "execution_count": 4,
   "id": "c45f3eac",
   "metadata": {},
   "outputs": [
    {
     "name": "stdout",
     "output_type": "stream",
     "text": [
      "0\n",
      "\n",
      "Start SCF iterations:\n",
      "\n",
      "Canonical RHF One-electron energy = -121.6753455400171902\n",
      "CQED-RHF One-electron energy      = -121.6753455400171902\n",
      "Nuclear repulsion energy          = 8.8026031303907679\n",
      "Dipole energy                     = 0.0000000000000000\n",
      "SCF Iteration   1: Energy = -74.9648590960666326   dE = -7.49649E+01   dRMS = 1.76034E-14\n",
      "SCF Iteration   2: Energy = -74.9648590960666468   dE = -1.42109E-14   dRMS = 9.00412E-15\n",
      "Total time for SCF iterations: 0.001 seconds \n",
      "\n",
      "QED-RHF   energy: -74.96485910 hartree\n",
      "Psi4  SCF energy: -74.96485910 hartree\n",
      " Completed QED-RHF in 0.15550804138183594 seconds\n",
      " Completed 1HSO Build in 6.198883056640625e-05 seconds\n",
      " Completed ERI Build in 0.004128932952880859 seconds \n",
      " Completed 2D build in 0.0008540153503417969 seconds\n",
      " Completed 1G build in 7.295608520507812e-05 seconds\n",
      " Completed determinant list in 0.0006699562072753906 seconds \n",
      " Completed constant offset matrix in 4.315376281738281e-05 seconds\n",
      " Completed Hamiltonian build in 0.019107818603515625 seconds\n",
      "use unit guess\n",
      "\n",
      "\n",
      "(42, 4)\n",
      "iteration 1 subspace dimension 4\n",
      "[]\n",
      "root residual norm Eigenvalue Convergence\n",
      "1 4.401028254049373e-14 -74.96485909606662 Y\n",
      "converged!\n",
      "state 0 energy = -74.96485909606662\n",
      "        amplitude       position          most important determinants              number of photon\n",
      "      1.000000000000       000       alpha [0, 1, 2, 3, 4] beta [0, 1, 2, 3, 4]        0 photon\n",
      " Completed Davidson iterations in 0.0015671253204345703 seconds\n"
     ]
    }
   ],
   "source": [
    "# photon energy\n",
    "#omega_val = 2.0 / psi4.constants.Hartree_energy_in_eV\n",
    "omega_val = 0\n",
    "\n",
    "print(omega_val)\n",
    "\n",
    "# lambda vector\n",
    "lambda_vector = np.array([0., 0., 0.01])\n",
    "#lambda_vector = np.array([0.5, 0.5, 0.5])\n",
    "\n",
    "n_act_orb=5\n",
    "#number of active electrons\n",
    "n_act_el=4\n",
    "# Build PF Hamiltonian matrix \n",
    "H2_PF = PFHamiltonianGenerator(mol_str, options_dict, cavity_options)\n"
   ]
  },
  {
   "cell_type": "code",
   "execution_count": 46,
   "id": "024b0ed9",
   "metadata": {},
   "outputs": [
    {
     "name": "stdout",
     "output_type": "stream",
     "text": [
      "|[0, 1, 2, 3, 5][0, 1, 2, 3, 4]>\n",
      "|[0, 1, 2, 3, 4][0, 1, 2, 3, 5]>\n"
     ]
    }
   ],
   "source": [
    "#print(H2_PF.CISdets[0]) #.getUniqueOrbitalsInListsPlusSign(H2_PF.CISdets[0]))\n",
    "#for i in range(20):\n",
    "#    print(i,H2_PF.CISdets[i])\n",
    "_bra = H2_PF.CISdets[11].copy()\n",
    "_ket = H2_PF.CISdets[1].copy()\n",
    "\n",
    "_bra.getUniqueOrbitalsInListsPlusSign\n",
    "print(_bra)\n",
    "print(_ket)\n",
    "#_ket.removeBetaOrbital(1)\n",
    "#_bra.removeAlphaOrbital(1)\n",
    "#print(_ket)\n",
    "#print(_bra)\n",
    "#u1, u2, sign = _bra.getUniqueOrbitalsInListsPlusSign(_ket)\n",
    "#print(sign)"
   ]
  },
  {
   "cell_type": "code",
   "execution_count": 47,
   "id": "686b1f8d",
   "metadata": {},
   "outputs": [],
   "source": [
    "def computeSplusSminusPQ(bra, ket, p, q):\n",
    "    # act on ket with S-(q)\n",
    "    # S-(q) kills q_alpha and creates q_beta\n",
    "    a, b = ket.getOrbitalIndexLists()\n",
    "    print(a, b)\n",
    "\n",
    "    # check to see if q_alpha is unnoccupied\n",
    "    if (q not in a):\n",
    "        return 0\n",
    "    else:\n",
    "        ket.removeAlphaOrbital(q)\n",
    "    if (q not in b):\n",
    "        ket.addBetaOrbital(q)\n",
    "    else:\n",
    "        return 0\n",
    "    \n",
    "    # act on updated ket with S+(p)\n",
    "    # S+(p) kills p_beta and creates p_alpha\n",
    "    \n",
    "    # get updated occupation list\n",
    "    a, b = ket.getOrbitalIndexLists()\n",
    "    print(a, b)\n",
    "    if (p not in b):\n",
    "        return 0\n",
    "    else:\n",
    "        ket.removeBetaOrbital(p)\n",
    "    if (p not in a):\n",
    "        ket.addAlphaOrbital(p)\n",
    "    else:\n",
    "        return 0\n",
    "    \n",
    "    numUniqueOrbitals = bra.numberOfTotalDiffOrbitals(ket)\n",
    "    print(\"numUnique\",numUniqueOrbitals)\n",
    "    if numUniqueOrbitals==0:\n",
    "        u1, u2, sign = bra.getUniqueOrbitalsInListsPlusSign(ket)\n",
    "        print(u1, u2, sign)\n",
    "        return sign\n",
    "    else:\n",
    "        return 0\n",
    "    \n",
    "\n",
    "    "
   ]
  },
  {
   "cell_type": "code",
   "execution_count": 45,
   "id": "a3f6481c",
   "metadata": {},
   "outputs": [
    {
     "name": "stdout",
     "output_type": "stream",
     "text": [
      "[0, 1, 2, 3, 4] [0, 1, 2, 3, 5]\n",
      "[0, 1, 2, 3] [0, 1, 2, 3, 4, 5]\n",
      "0.0\n",
      "([], []) ([], []) 1\n",
      "1\n"
     ]
    }
   ],
   "source": [
    "print(computeSplusSminusPQ(_bra, _ket, 5, 4))\n"
   ]
  },
  {
   "cell_type": "code",
   "execution_count": null,
   "id": "b1649b7e",
   "metadata": {},
   "outputs": [],
   "source": [
    "_H_spin = np.einsum(\"uj,vi,uv\", H2_PF.Ca, H2_PF.Ca, H2_PF.H_1e_ao)\n",
    "print(_H_spin)"
   ]
  },
  {
   "cell_type": "code",
   "execution_count": null,
   "id": "c3a01c2d",
   "metadata": {},
   "outputs": [],
   "source": [
    "_H_spin = np.repeat(_H_spin, 2, axis=0)\n",
    "print(_H_spin)"
   ]
  },
  {
   "cell_type": "code",
   "execution_count": null,
   "id": "9072992c",
   "metadata": {},
   "outputs": [],
   "source": [
    "_H_spin = np.repeat(_H_spin, 2, axis=1)\n",
    "print(_H_spin)"
   ]
  },
  {
   "cell_type": "code",
   "execution_count": null,
   "id": "133c42cc",
   "metadata": {},
   "outputs": [],
   "source": [
    "spin_ind = np.arange(_H_spin.shape[0], dtype=int) % 2\n",
    "print(spin_ind)"
   ]
  },
  {
   "cell_type": "code",
   "execution_count": null,
   "id": "ba6f91d2",
   "metadata": {},
   "outputs": [],
   "source": [
    "Hspin = _H_spin * (spin_ind.reshape(-1, 1) == spin_ind)\n",
    "print(spin_ind.reshape(-1, 1) == spin_ind)\n",
    "print(Hspin)"
   ]
  },
  {
   "cell_type": "code",
   "execution_count": null,
   "id": "c61db63d",
   "metadata": {},
   "outputs": [],
   "source": [
    "        if self.ignore_coupling == False:\n",
    "            self.H_1e_ao += self.q_PF_ao + self.d_PF_ao\n",
    "        # build H_spin\n",
    "        # spatial part of 1-e integrals\n",
    "        _H_spin = np.einsum(\"uj,vi,uv\", self.Ca, self.Ca, self.H_1e_ao)\n",
    "        _H_spin = np.repeat(_H_spin, 2, axis=0)\n",
    "        _H_spin = np.repeat(_H_spin, 2, axis=0)\n",
    "        # spin part of 1-e integrals\n",
    "        spin_ind = np.arange(_H_spin.shape[0], dtype=int) % 2\n",
    "        # product of spatial and spin parts\n",
    "        self.Hspin = _H_spin * (spin_ind.reshape(-1, 1) == spin_ind)"
   ]
  },
  {
   "cell_type": "code",
   "execution_count": null,
   "id": "1aa8d0f9",
   "metadata": {},
   "outputs": [],
   "source": [
    "# diagonalize the Hamiltonian matrix\n",
    "e_fci, wavefunctions = np.linalg.eigh(H2_PF.H_PF)\n",
    "\n",
    "# davidson eigenvalues and eigenvectors are stored in attributes\n",
    "# H2_PF.cis_e and H2_PF.cis_c for now!\n"
   ]
  },
  {
   "cell_type": "code",
   "execution_count": null,
   "id": "7ea9288e",
   "metadata": {},
   "outputs": [],
   "source": [
    "print(\"checking to see if the Davidson Roots Agree!\")\n",
    "print(e_fci[:14])\n",
    "print(H2_PF.cis_e[:14] )\n",
    "print(np.allclose(e_fci[:14] , H2_PF.cis_e[:14]))\n"
   ]
  },
  {
   "cell_type": "code",
   "execution_count": null,
   "id": "e59ff2d2",
   "metadata": {},
   "outputs": [],
   "source": [
    "\n",
    "H2_PF.calc1RDMfromCIS(wavefunctions[:,14])\n",
    "print(np.trace(H2_PF.Dij))\n",
    "print(np.trace(H2_PF.Dab))\n",
    "print(np.trace(H2_PF.D1))\n",
    "\n",
    "\n",
    "\n",
    "e1_test_rdm = np.einsum(\"pq,pq->\", H2_PF.Hspin, H2_PF.D1)\n",
    "\n",
    "temp=np.einsum(\"pq,q->p\", H2_PF.H_1E,wavefunctions[:,14])\n",
    "e1_test_wfn = np.dot(wavefunctions[:,14].T,temp)\n",
    "\n",
    "\n"
   ]
  },
  {
   "cell_type": "code",
   "execution_count": null,
   "id": "b74078b0",
   "metadata": {},
   "outputs": [],
   "source": [
    "print(e1_test_rdm)\n",
    "print(e1_test_wfn-H2_PF.Enuc)\n",
    "print(e1_test_rdm-e1_test_wfn+H2_PF.Enuc)"
   ]
  },
  {
   "cell_type": "code",
   "execution_count": null,
   "id": "edea711d",
   "metadata": {},
   "outputs": [],
   "source": []
  }
 ],
 "metadata": {
  "kernelspec": {
   "display_name": "Python 3 (ipykernel)",
   "language": "python",
   "name": "python3"
  },
  "language_info": {
   "codemirror_mode": {
    "name": "ipython",
    "version": 3
   },
   "file_extension": ".py",
   "mimetype": "text/x-python",
   "name": "python",
   "nbconvert_exporter": "python",
   "pygments_lexer": "ipython3",
   "version": "3.9.7"
  }
 },
 "nbformat": 4,
 "nbformat_minor": 5
}
