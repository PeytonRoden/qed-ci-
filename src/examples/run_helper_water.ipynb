{
 "cells": [
  {
   "cell_type": "code",
   "execution_count": 3,
   "id": "57746595",
   "metadata": {},
   "outputs": [],
   "source": [
    "import numpy as np\n",
    "import sys\n",
    "#np.set_printoptions(precision=5, linewidth=200, suppress=True)\n",
    "import psi4\n",
    "from helper_PFCI import PFHamiltonianGenerator\n",
    "from helper_PFCI import Determinant\n",
    "from helper_cqed_rhf import cqed_rhf\n",
    "np.set_printoptions(threshold=sys.maxsize)"
   ]
  },
  {
   "cell_type": "code",
   "execution_count": 19,
   "id": "43dbae27",
   "metadata": {},
   "outputs": [],
   "source": [
    "mol_str = \"\"\"\n",
    "0 1\n",
    "O\n",
    "H 1 1.0\n",
    "H 1 1.0 2 104.0\n",
    "symmetry c1\n",
    "\"\"\"\n",
    "\n",
    "options_dict = {'basis': 'sto-3g',\n",
    "                  'scf_type': 'pk',\n",
    "                  'e_convergence': 1e-10,\n",
    "                  'd_convergence': 1e-10\n",
    "                  }\n",
    "\n",
    "mol = psi4.geometry(mol_str)\n",
    "\n",
    "cavity_options = {\n",
    "    'omega_value' : 0.0,\n",
    "    'lambda_vector' : np.array([0, 0, 0.01]),\n",
    "    'ci_level' : 'cis',\n",
    "    'ignore_coupling' : False,\n",
    "    'number_of_photons' : 1,\n",
    "    'natural_orbitals' : False,\n",
    "    'davidson_roots' : 4,\n",
    "    'canonical_mos' : True,\n",
    "    'full_diagonalization' : True,\n",
    "    'nact_orbs' : 4,\n",
    "    'nact_els' : 4\n",
    "}\n",
    "\n",
    "\n",
    "psi4.set_options(options_dict)\n",
    "psi4.core.set_output_file('output.dat', False)"
   ]
  },
  {
   "cell_type": "code",
   "execution_count": 20,
   "id": "c45f3eac",
   "metadata": {},
   "outputs": [
    {
     "name": "stdout",
     "output_type": "stream",
     "text": [
      "\n",
      "Start SCF iterations:\n",
      "\n",
      "Canonical RHF One-electron energy = -121.6753455400170054\n",
      "CQED-RHF One-electron energy      = -121.6753455400170054\n",
      "Nuclear repulsion energy          = 8.8026031303907679\n",
      "Dipole energy                     = 0.0000000000000000\n",
      "SCF Iteration   1: Energy = -74.9648590960666610   dE = -7.49649E+01   dRMS = 8.85632E-15\n",
      "SCF Iteration   2: Energy = -74.9648590960665757   dE =  8.52651E-14   dRMS = 4.17135E-15\n",
      "Total time for SCF iterations: 0.000 seconds \n",
      "\n",
      "QED-RHF   energy: -74.96485910 hartree\n",
      "Psi4  SCF energy: -74.96485910 hartree\n",
      " Completed RHF in 0.14253592491149902 seconds\n",
      " Completed 1HSO Build in 3.0040740966796875e-05 seconds\n",
      " Completed ERI Build in 0.001962900161743164 seconds \n",
      " Completed 2D build in 0.00017690658569335938 seconds\n",
      " Completed 1G build in 1.5020370483398438e-05 seconds\n",
      " Completed determinant list in 0.0005948543548583984 seconds \n",
      " Completed constant offset matrix in 1.9073486328125e-05 seconds\n",
      " Completed Hamiltonian build in 0.005472898483276367 seconds\n"
     ]
    }
   ],
   "source": [
    "\n",
    "# Build PF Hamiltonian matrix \n",
    "H2_PF = PFHamiltonianGenerator(mol_str, options_dict, cavity_options)\n"
   ]
  },
  {
   "cell_type": "code",
   "execution_count": 21,
   "id": "edea711d",
   "metadata": {},
   "outputs": [
    {
     "name": "stdout",
     "output_type": "stream",
     "text": [
      "[-74.9648591  -74.9648591  -74.5964947  -74.5964947  -74.52183429\n",
      " -74.52183429 -74.51839857 -74.51839857 -74.50416769 -74.50416769\n",
      " -74.45749026 -74.45749026 -74.45502626 -74.45502626 -74.38249096\n",
      " -74.38249096 -74.34940484 -74.34940484 -74.30708715 -74.30708715\n",
      " -74.28055285 -74.28055285 -74.20489357 -74.20489357 -73.94962632\n",
      " -73.94962632 -73.74014636 -73.74014636 -73.63136621 -73.63136621\n",
      " -73.54431196 -73.54431196 -73.51543935 -73.51543935 -54.94899717\n",
      " -54.94899717 -54.88954419 -54.88954419 -54.88475014 -54.88475014\n",
      " -54.84310476 -54.84310476]\n"
     ]
    }
   ],
   "source": [
    "print(H2_PF.CIeigs[:])"
   ]
  },
  {
   "cell_type": "code",
   "execution_count": null,
   "id": "01110bdc",
   "metadata": {},
   "outputs": [],
   "source": []
  }
 ],
 "metadata": {
  "kernelspec": {
   "display_name": "Python 3 (ipykernel)",
   "language": "python",
   "name": "python3"
  },
  "language_info": {
   "codemirror_mode": {
    "name": "ipython",
    "version": 3
   },
   "file_extension": ".py",
   "mimetype": "text/x-python",
   "name": "python",
   "nbconvert_exporter": "python",
   "pygments_lexer": "ipython3",
   "version": "3.9.13"
  }
 },
 "nbformat": 4,
 "nbformat_minor": 5
}
