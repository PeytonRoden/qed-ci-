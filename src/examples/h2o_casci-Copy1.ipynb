{
 "cells": [
  {
   "cell_type": "code",
   "execution_count": 1,
   "id": "57746595",
   "metadata": {},
   "outputs": [
    {
     "ename": "ModuleNotFoundError",
     "evalue": "No module named 'helper_PFCI'",
     "output_type": "error",
     "traceback": [
      "\u001b[0;31m---------------------------------------------------------------------------\u001b[0m",
      "\u001b[0;31mModuleNotFoundError\u001b[0m                       Traceback (most recent call last)",
      "Cell \u001b[0;32mIn[1], line 5\u001b[0m\n\u001b[1;32m      3\u001b[0m \u001b[38;5;66;03m#np.set_printoptions(precision=5, linewidth=200, suppress=True)\u001b[39;00m\n\u001b[1;32m      4\u001b[0m \u001b[38;5;28;01mimport\u001b[39;00m \u001b[38;5;21;01mpsi4\u001b[39;00m\n\u001b[0;32m----> 5\u001b[0m \u001b[38;5;28;01mfrom\u001b[39;00m \u001b[38;5;21;01mhelper_PFCI\u001b[39;00m \u001b[38;5;28;01mimport\u001b[39;00m PFHamiltonianGenerator\n\u001b[1;32m      6\u001b[0m np\u001b[38;5;241m.\u001b[39mset_printoptions(threshold\u001b[38;5;241m=\u001b[39msys\u001b[38;5;241m.\u001b[39mmaxsize)\n",
      "\u001b[0;31mModuleNotFoundError\u001b[0m: No module named 'helper_PFCI'"
     ]
    }
   ],
   "source": [
    "import numpy as np\n",
    "import sys\n",
    "#np.set_printoptions(precision=5, linewidth=200, suppress=True)\n",
    "import psi4\n",
    "from helper_PFCI import PFHamiltonianGenerator\n",
    "np.set_printoptions(threshold=sys.maxsize)"
   ]
  },
  {
   "cell_type": "code",
   "execution_count": null,
   "id": "edea711d",
   "metadata": {},
   "outputs": [],
   "source": [
    "# options for mgf\n",
    "mol_str = \"\"\"\n",
    "Mg\n",
    "H 1 2.2\n",
    "symmetry c1\n",
    "1 1\n",
    "\"\"\"\n",
    "\n",
    "options_dict = {\n",
    "    \"basis\": \"cc-pVDZ\",\n",
    "    \"scf_type\": \"pk\",\n",
    "    \"e_convergence\": 1e-10,\n",
    "    \"d_convergence\": 1e-10,\n",
    "}\n",
    "\n",
    "\n",
    "#mol = psi4.geometry(mol_str)\n",
    "\n",
    "cavity_options = {\n",
    "    'omega_value' : 0.0,\n",
    "    'lambda_vector' : np.array([0, 0, 0.0]),\n",
    "    'ci_level' : 'cas',\n",
    "    'ignore_coupling' : False,\n",
    "    'number_of_photons' : 1,\n",
    "    'natural_orbitals' : False,\n",
    "    'davidson_roots' : 6,\n",
    "    'davidson_maxdim':10,\n",
    "    'nact_orbs' : 8,\n",
    "    'nact_els' : 8,\n",
    "    'full_diagonalization' : False,\n",
    "    \n",
    "}\n",
    "\n",
    "H2_PF = PFHamiltonianGenerator(mol_str, options_dict, cavity_options)\n",
    "#psi4.set_options(options_dict)\n",
    "#psi4.core.set_output_file('h2o_0.6.out', False)\n",
    "\n",
    "#for r in r_array:\n",
    "#    mol_str = mol_tmpl.replace(\"**R**\", str(r))\n",
    "#    H2_PF = PFHamiltonianGenerator(mol_str, options_dict, cavity_options)\n",
    "#    E_array.append(H2_PF.CIeigs[0])\n",
    "#    print(r, H2_PF.CIeigs[0])\n",
    "\n",
    "\n",
    "## First compute SCF energy using Psi4\n",
    "#scf_e, wfn = psi4.energy('SCF', return_wfn=True)\n",
    "\n",
    "#psi4.set_options({'restricted_docc': [3],'active': [4],'num_roots':2})\n",
    "#fci_energy = psi4.energy('fci',ref_wfn=wfn)\n",
    "#print(np.allclose(H2_PF.cis_e[0],fci_energy,1e-8,1e-8))\n",
    "\n"
   ]
  },
  {
   "cell_type": "code",
   "execution_count": null,
   "id": "a0bc3031",
   "metadata": {},
   "outputs": [],
   "source": [
    "from matplotlib import pyplot as plt\n",
    "plt.plot(r_array, E_array)"
   ]
  },
  {
   "cell_type": "markdown",
   "id": "4ba8f632",
   "metadata": {},
   "source": [
    "cnt = 0\n",
    "for j in range(0,2):\n",
    "    for i in range(H2_PF.CISnumDets):\n",
    "        print(cnt, H2_PF.CISdets[i], j)\n",
    "        cnt += 1\n",
    "#numDets = H2_PF.CISnumDets \n",
    "#halfDets = numDets // 2\n",
    "#print(halfDets)"
   ]
  },
  {
   "cell_type": "code",
   "execution_count": null,
   "id": "68991bb2",
   "metadata": {},
   "outputs": [],
   "source": [
    "print(1.6, H2_PF.cis_e[0])"
   ]
  },
  {
   "cell_type": "code",
   "execution_count": null,
   "id": "7ffd8048",
   "metadata": {},
   "outputs": [],
   "source": []
  }
 ],
 "metadata": {
  "kernelspec": {
   "display_name": "Python 3 (ipykernel)",
   "language": "python",
   "name": "python3"
  },
  "language_info": {
   "codemirror_mode": {
    "name": "ipython",
    "version": 3
   },
   "file_extension": ".py",
   "mimetype": "text/x-python",
   "name": "python",
   "nbconvert_exporter": "python",
   "pygments_lexer": "ipython3",
   "version": "3.9.16"
  }
 },
 "nbformat": 4,
 "nbformat_minor": 5
}
