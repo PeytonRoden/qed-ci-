{
 "cells": [
  {
   "cell_type": "code",
   "execution_count": 1,
   "id": "57746595",
   "metadata": {},
   "outputs": [],
   "source": [
    "import numpy as np\n",
    "import sys\n",
    "#np.set_printoptions(precision=5, linewidth=200, suppress=True)\n",
    "import psi4\n",
    "from helper_PFCI import PFHamiltonianGenerator\n",
    "from helper_PFCI import Determinant\n",
    "from helper_cqed_rhf import cqed_rhf\n",
    "np.set_printoptions(threshold=sys.maxsize)\n",
    "psi4.core.set_output_file('output.dat', False)"
   ]
  },
  {
   "cell_type": "code",
   "execution_count": 2,
   "id": "43dbae27",
   "metadata": {},
   "outputs": [],
   "source": [
    "# options for mgf\n",
    "mol_str = \"\"\"\n",
    "Li\n",
    "H 1 1.5\n",
    "symmetry c1\n",
    "\"\"\"\n",
    "\n",
    "options_dict = {\n",
    "    \"basis\": \"sto-3g\",\n",
    "    \"scf_type\": \"pk\",\n",
    "    \"e_convergence\": 1e-10,\n",
    "    \"d_convergence\": 1e-10,\n",
    "    \"save_jk\" : True\n",
    "}\n",
    "\n",
    "\n",
    "psi4.set_options(options_dict)\n",
    "mol = psi4.geometry(mol_str)\n"
   ]
  },
  {
   "cell_type": "code",
   "execution_count": 3,
   "id": "fab14536",
   "metadata": {},
   "outputs": [
    {
     "name": "stdout",
     "output_type": "stream",
     "text": [
      "\n",
      "Start SCF iterations:\n",
      "\n",
      "Canonical RHF One-electron energy = -12.5626302721254959\n",
      "CQED-RHF One-electron energy      = -12.5626302721254959\n",
      "Nuclear repulsion energy          = 1.0583544213400000\n",
      "Dipole energy                     = 0.0000000000000000\n",
      "SCF Iteration   1: Energy = -7.8633576215383263   dE = -7.86336E+00   dRMS = 3.54673E-13\n",
      "SCF Iteration   2: Energy = -7.8633576215383370   dE = -1.06581E-14   dRMS = 7.99578E-14\n",
      "Total time for SCF iterations: 0.000 seconds \n",
      "\n",
      "QED-RHF   energy: -7.86335762 hartree\n",
      "Psi4  SCF energy: -7.86335762 hartree\n",
      " Completed QED-RHF in 0.25835585594177246 seconds\n",
      " Completed 1HSO Build in 3.218650817871094e-05 seconds\n",
      " Completed ERI Build in 0.0011599063873291016 seconds \n",
      " Completed 2D build in 0.00010514259338378906 seconds\n",
      " Completed 1G build in 1.3828277587890625e-05 seconds\n",
      " Completed the Dipole Matrix Build in 4.029273986816406e-05 seconds\n",
      " Completed determinant list in 0.0004601478576660156 seconds \n",
      " Completed constant offset matrix in 0.00015997886657714844 seconds\n",
      " Completed Hamiltonian build in 0.3419938087463379 seconds\n"
     ]
    }
   ],
   "source": [
    "mol_str = \"\"\"\n",
    "Li\n",
    "H 1 1.5\n",
    "symmetry c1\n",
    "\"\"\"\n",
    "\n",
    "options_dict = {\n",
    "    \"basis\": \"sto-3g\",\n",
    "    \"scf_type\": \"pk\",\n",
    "    \"e_convergence\": 1e-10,\n",
    "    \"d_convergence\": 1e-10,\n",
    "}\n",
    "\n",
    "cavity_dict = {\n",
    "    'omega_value' : 0.0,\n",
    "    'lambda_vector' : np.array([0, 0, 0]),\n",
    "    'ci_level' : 'fci',\n",
    "    'full_diagonalization' : True,\n",
    "    'no_cavity' : True\n",
    "}\n",
    "\n",
    "mol = psi4.geometry(mol_str)\n",
    "\n",
    "psi4.set_options(options_dict)\n",
    "\n",
    "test_pf = PFHamiltonianGenerator(\n",
    "    mol_str,\n",
    "    options_dict,\n",
    "    cavity_dict\n",
    ")\n",
    "\n"
   ]
  },
  {
   "cell_type": "code",
   "execution_count": 4,
   "id": "959b09f2",
   "metadata": {},
   "outputs": [],
   "source": [
    "def reduce_ci_space(instance):\n",
    "    \"\"\"\n",
    "    function to map QED-CI space to electronic subspace for when \n",
    "    there is no cavity effect\n",
    "    \"\"\"\n",
    "    # make the CI matrix in the electronic subspace only\n",
    "    _H_CI_NO_CAV = instance.ApDmatrix + instance.Enuc_so + instance.dc_so\n",
    "    \n",
    "    # diagonize only the electronic subspace CI matrix\n",
    "    eigs, vecs = np.linalg.eigh(_H_CI_NO_CAV)\n",
    "    instance.CIeigs = np.copy(eigs)\n",
    "    instance.CIvecs = np.copy(vecs)\n",
    "    \n",
    "    # get the number of determinants\n",
    "    _numDets = len(instance.CIeigs)\n",
    "    \n",
    "    # reduce the dipole arrays to the electronic subspace\n",
    "    instance.MU_X = np.copy(instance.MU_X[:_numDets, :_numDets])\n",
    "    instance.MU_Y = np.copy(instance.MU_Y[:_numDets, :_numDets])\n",
    "    instance.MU_Z = np.copy(instance.MU_Z[:_numDets, :_numDets])\n"
   ]
  },
  {
   "cell_type": "markdown",
   "id": "c2671018",
   "metadata": {},
   "source": [
    "This block will identify $N_{el}$ of the excited-states with optically-allowed transitions from the ground-state."
   ]
  },
  {
   "cell_type": "code",
   "execution_count": 5,
   "id": "c3487d0a",
   "metadata": {},
   "outputs": [],
   "source": [
    "def sort_dipole_allowed_states(instance, N_el):\n",
    "    \"\"\"\n",
    "    A function to capture the indices of states with a dipole-allowed\n",
    "    singlet transition from the ground-state\n",
    "    \"\"\"\n",
    "    \n",
    "    # we want to find the first N_el states that are coupled to the ground state through a dipole transition\n",
    "    _singlet_states = [0]\n",
    "    _num_kets = 0\n",
    "    _ket_idx = 1\n",
    "    _sing_idx = 1\n",
    "    zero_vec = np.array([0., 0., 0.])\n",
    "    while _num_kets < N_el - 1:\n",
    "        _tmp_mu = instance.compute_dipole_moment(0, _ket_idx)\n",
    "        if np.allclose(zero_vec, _tmp_mu):\n",
    "            _ket_idx += 1\n",
    "        else:\n",
    "            _singlet_states.append(_ket_idx)\n",
    "            _ket_idx += 1\n",
    "            _num_kets += 1\n",
    "            _sing_idx += 1\n",
    "            \n",
    "    return _singlet_states\n",
    "\n",
    "\n",
    "def compute_dipole_moments(instance, states):\n",
    "    \"\"\"\n",
    "    Given an array of states, compute all the dipole moments between those states\n",
    "    \"\"\"\n",
    "    _Ns = len(states)\n",
    "    _singlet_dipole_moments = np.zeros((_Ns, _Ns, 3))\n",
    "    \n",
    "    for i in range(_Ns):\n",
    "        a = states[i]\n",
    "        for j in range(_Ns):\n",
    "            b = states[j]\n",
    "            _singlet_dipole_moments[i, j, :] = instance.compute_dipole_moment(a, b) + instance.mu_nuc * (a==b)\n",
    "    \n",
    "    return _singlet_dipole_moments\n",
    "\n",
    "\n"
   ]
  },
  {
   "cell_type": "code",
   "execution_count": 6,
   "id": "d5af7727",
   "metadata": {},
   "outputs": [
    {
     "name": "stdout",
     "output_type": "stream",
     "text": [
      "[0, 2, 5, 6, 8, 14, 15, 16, 17, 21, 22, 23, 24, 26, 29, 30, 38, 40, 41, 49]\n"
     ]
    }
   ],
   "source": [
    "N_el = 20\n",
    "reduce_ci_space(test_pf)\n",
    "singlet_states = sort_dipole_allowed_states(test_pf, N_el)\n",
    "print(singlet_states)\n"
   ]
  },
  {
   "cell_type": "code",
   "execution_count": 7,
   "id": "a80ae2ff",
   "metadata": {},
   "outputs": [
    {
     "name": "stdout",
     "output_type": "stream",
     "text": [
      "[-7.88236229 -7.74429956 -7.69125644 -7.69125644 -7.30474598 -7.19907481\n",
      " -7.17982005 -7.17982005 -7.1228622  -7.02201296 -7.02201296 -6.97967681\n",
      " -6.73536251 -5.82595868 -5.75857293 -5.75857293 -5.64214847 -5.62069502\n",
      " -5.62069502 -5.56248226]\n"
     ]
    }
   ],
   "source": [
    "#print(compute_dipole_moments(test_pf, singlet_states))\n",
    "print(test_pf.CIeigs[singlet_states])"
   ]
  },
  {
   "cell_type": "code",
   "execution_count": null,
   "id": "14ad5bb0",
   "metadata": {},
   "outputs": [],
   "source": [
    "mol_tmpl = \"\"\"\n",
    "Li\n",
    "H 1 **R**\n",
    "symmetry c1\n",
    "\"\"\"\n",
    "\n",
    "mol_str = \"\"\"\n",
    "Li\n",
    "H 1 1.5\n",
    "symmetry c1\n",
    "\"\"\"\n",
    "\n",
    "N_R = 50\n",
    "N_el = 20\n",
    "r_array = np.linspace(1.4, 2.2, N_R)\n",
    "\n",
    "E_array = np.zeros((N_R, N_el))\n",
    "Mu_array = np.zeros((N_R, N_el, N_el, 3))\n",
    "psi4.set_options(options_dict)\n",
    "\n",
    "r_idx = 0\n",
    "for r in r_array:\n",
    "    mol_str = mol_tmpl.replace(\"**R**\", str(r))\n",
    "    print(mol_str)\n",
    "    mol = psi4.geometry(mol_str)\n",
    "    #psi4.set_options({'restricted_docc': [3],'active': [4],'num_roots':2})\n",
    "    scf_e, wfn = psi4.energy('SCF', return_wfn=True)\n",
    "    fci_energy = psi4.energy('fci',ref_wfn=wfn)\n",
    "    \n",
    "    LiH = PFHamiltonianGenerator(mol_str, options_dict, cavity_dict)\n",
    "    assert np.isclose(fci_energy, LiH.CIeigs[0])\n",
    "    reduce_ci_space(LiH)\n",
    "    singlet_states = sort_dipole_allowed_states(LiH,  N_el)\n",
    "    E_array[r_idx, :] = LiH.CIeigs[singlet_states]\n",
    "    Mu_array[r_idx, :, :, :] = compute_dipole_moments(LiH, singlet_states)\n",
    "    r_idx += 1\n",
    "    \n",
    "    \n",
    "    #CASCI_E_array.append(H2_PF.CIeigs[0])\n",
    "    #FCI_E_array.append(fci_energy)\n",
    "    #print(r, H2_PF.CIeigs[0])\n"
   ]
  },
  {
   "cell_type": "code",
   "execution_count": null,
   "id": "ce8c52f4",
   "metadata": {},
   "outputs": [],
   "source": [
    "from matplotlib import pyplot as plt\n"
   ]
  },
  {
   "cell_type": "code",
   "execution_count": null,
   "id": "723dfae0",
   "metadata": {},
   "outputs": [],
   "source": [
    "print(r_array)\n",
    "print(E_array[:,1]-E_array[:,0])\n",
    "\n",
    "plt.plot(r_array, E_array[:,0]+0.120000)\n",
    "plt.plot(r_array, E_array[:,1])\n",
    "plt.plot(r_array, E_array[:,2])\n",
    "\n",
    "plt.show()"
   ]
  },
  {
   "cell_type": "markdown",
   "id": "47aec2ff",
   "metadata": {},
   "source": [
    "\\begin{equation}\n",
    "\\hat{H}_{\\alpha n, \\beta m} = \\left( E_{\\alpha}(R) + n \\omega \\right) \\delta_{\\alpha \\beta} \\delta_{nm} + \\sqrt{\\frac{\\omega}{2}} \\lambda \\cdot \\mu_{\\alpha \\beta}(R) \\left(\\sqrt{n} \\delta_{n,m-1} + \\sqrt{n+1} \\delta_{n,m+1} \\right)  \\\\\n",
    "+\\frac{1}{2} \\sum_{\\gamma = 1}^N \\lambda \\cdot \\mu_{\\alpha, \\gamma}(R) \\lambda \\cdot \\mu_{\\gamma, \\beta} \\delta_{nm}\n",
    "\\end{equation}\n"
   ]
  },
  {
   "cell_type": "code",
   "execution_count": null,
   "id": "ca8b9959",
   "metadata": {},
   "outputs": [],
   "source": [
    "def build_pf_hamiltonian(n_el, n_ph, E_R, omega, lamvec, mu):\n",
    "    \"\"\"\n",
    "    Given an array of n_el E_R values and an n_ph states with fundamental energy omega\n",
    "    build the PF Hamiltonian\n",
    "    \n",
    "    n_el : int\n",
    "        the number of electronic states (n_el = 1 means only ground-state)\n",
    "    \n",
    "    n_ph : int\n",
    "        the number of photon occupation states (n_ph = 1 means only the |0> state)\n",
    "    \n",
    "    E_R : np.array of floats\n",
    "        the electronic energies\n",
    "        \n",
    "    omega : float\n",
    "        the energy of the photonic mode\n",
    "        \n",
    "    lamvec : np.array of floats\n",
    "        the lambda vector\n",
    "        \n",
    "    mu : (n_el x n_el x 3) np.array of floats \n",
    "        mu[i, j, k] is the kth cartesian component of the dipole moment expectation value between \n",
    "        state i and state j\n",
    "    \n",
    "    \"\"\"\n",
    "    H_PF = np.zeros((n_el * n_ph, n_el * n_ph))\n",
    "    \n",
    "    # take care of the diagonals first\n",
    "    # bare electronic and photonic energy\n",
    "    for n in range(n_ph):\n",
    "        for a in range(n_el):\n",
    "            na = n * n_el + a\n",
    "            H_PF[na,na] = E_R[a] + n * omega\n",
    "        \n",
    "    # diagonal dipole self energy\n",
    "    for n in range(n_ph):\n",
    "        for a in range(n_el):\n",
    "            na = n * n_el + a\n",
    "            for g in range(n_el):\n",
    "                H_PF[na,na] += 0.5 * np.dot(lamvec, mu[a,g,:]) * np.dot(lamvec, mu[g,a,:])\n",
    "            \n",
    "    # off-diagonal dipole self energy\n",
    "    for n in range(n_ph):\n",
    "        for a in range(n_el):\n",
    "            na = n * n_el + a\n",
    "            for b in range(n_el):\n",
    "                nb = n * n_el + b\n",
    "                for g in range(n_el):\n",
    "                    if a != b:\n",
    "                        H_PF[na, nb] += 0.5 * np.dot(lamvec, mu[a,g,:]) * np.dot(lamvec, mu[g, b, :])\n",
    "                \n",
    "    # off-diagonal bilinear coupling\n",
    "    for n in range(n_ph):\n",
    "        for a in range(n_el):\n",
    "            na = n * n_el + a\n",
    "            \n",
    "            for m in range(n_ph):\n",
    "                for b in range(n_el):\n",
    "                    mb = m * n_el + b\n",
    "                    \n",
    "                    if n == (m-1) and a != b:\n",
    "                        #print(n, a, na, m, b, mb)\n",
    "                        H_PF[na,mb] = -np.sqrt(omega / 2) * np.dot(lamvec, mu[a,b,:]) * np.sqrt(m) \n",
    "                        H_PF[mb, na] = -np.sqrt(omega / 2) * np.dot(lamvec, mu[a,b,:]) * np.sqrt(m) \n",
    "                        \n",
    "                    elif n == (m+1) and a != b:\n",
    "                        #print(n, a, na, m, b, mb)\n",
    "                        H_PF[na, mb] = -np.sqrt(omega / 2) * np.dot(lamvec, mu[a,b,:]) * np.sqrt(m+1) \n",
    "                        H_PF[mb, na] = -np.sqrt(omega / 2) * np.dot(lamvec, mu[a,b,:]) * np.sqrt(m+1)\n",
    "                        \n",
    "    \n",
    "    return H_PF\n",
    "                \n",
    "            \n",
    "    \n",
    "        \n",
    "    \n",
    "    "
   ]
  },
  {
   "cell_type": "markdown",
   "id": "33aa978e",
   "metadata": {},
   "source": [
    "\\begin{equation}\n",
    "\\hat{H}_{\\alpha n, \\beta m} = \\left( E_{\\alpha}(R) + n \\omega \\right) \\delta_{\\alpha \\beta} \\delta_{nm} + \\sqrt{\\frac{\\omega}{2}} \\lambda \\cdot \\mu_{\\alpha \\beta}(R) \\left(\\sqrt{n} \\delta_{n,m-1} + \\sqrt{n+1} \\delta_{n,m+1} \\right)  \\\\\n",
    "+\\frac{1}{2} \\sum_{\\gamma = 1}^N \\lambda \\cdot \\mu_{\\alpha, \\gamma}(R) \\lambda \\cdot \\mu_{\\gamma, \\beta} \\delta_{nm}\n",
    "\\end{equation}\n"
   ]
  },
  {
   "cell_type": "code",
   "execution_count": null,
   "id": "7117b419",
   "metadata": {},
   "outputs": [],
   "source": [
    "np.set_printoptions(precision=6, linewidth=200, suppress=True)\n",
    "omega_cav = 0.120000\n",
    "lambda_vector = np.array([0, 0.0, 0.05])\n",
    "\n",
    "N_ph = 2\n",
    "# Just manually computing some elements!\n",
    "#print(\"E\")\n",
    "#print(E_array[0,:2], E_array[0,:2]+0.12, E_array[0,:2]+2*0.12)\n",
    "\n",
    "#g_12 = np.sqrt(omega_cav / 2) * np.dot(lambda_vector, Mu_array[0, 0, 1, :]) * np.sqrt(2)\n",
    "#D_01 = 0.5 * np.dot(lambda_vector, Mu_array[0, 0, 0, :]) * np.dot(lambda_vector, Mu_array[0, 1, 0, :]) \n",
    "#D_01 += 0.5 * np.dot(lambda_vector, Mu_array[0, 0, 1, :]) * np.dot(lambda_vector, Mu_array[0, 1, 1, :])\n",
    "#print(\"g12 * 1\")\n",
    "#print(g_12)\n",
    "#print(\"D01\")\n",
    "#print(D_01)\n",
    "#+E_array[0,1])\n",
    "\n",
    "_HPF = build_pf_hamiltonian(N_el, N_ph, E_array[0,:], omega_cav, lambda_vector, Mu_array[0, :, :, :])\n",
    "print(\"H\")\n",
    "print(_HPF)"
   ]
  },
  {
   "cell_type": "code",
   "execution_count": null,
   "id": "931d0037",
   "metadata": {},
   "outputs": [],
   "source": [
    "N_el = 6\n",
    "N_ph = 4\n",
    "\n",
    "PF_EIG = np.zeros((N_R, N_el * N_ph))"
   ]
  },
  {
   "cell_type": "code",
   "execution_count": null,
   "id": "365d22eb",
   "metadata": {},
   "outputs": [],
   "source": [
    "\n",
    "for i in range(N_R):\n",
    "    _HPF = build_pf_hamiltonian(N_el, N_ph, E_array[i,:], omega_cav, lambda_vector, Mu_array[i, :, :, :])\n",
    "    pf_e, pf_c = np.linalg.eigh(_HPF)\n",
    "    PF_EIG[i,:] = pf_e\n",
    "    print(r_array[i], pf_e[0], pf_e[1],  pf_e[2], pf_e[2])"
   ]
  },
  {
   "cell_type": "code",
   "execution_count": null,
   "id": "c34ef6fb",
   "metadata": {},
   "outputs": [],
   "source": [
    "#plt.plot(r_array, PF_EIG[:,0])\n",
    "#plt.plot(r_array, E_array[:,1])\n",
    "plt.plot(r_array, PF_EIG[:,1], 'r--')\n",
    "plt.plot(r_array, PF_EIG[:,2], 'b--')\n",
    "#plt.plot(r_array, E_array[:,0]+omega_cav)\n",
    "#plt.plot(r_array, E_array[:,2])\n",
    "plt.plot(r_array, E_array[:,3])\n",
    "#plt.plot(r_array, PF_EIG[:,3])\n",
    "#plt.plot(r_array, PF_EIG[:,4])\n",
    "#plt.plot(r_array, PF_EIG[:,5])\n",
    "\n",
    "\n",
    "\n"
   ]
  },
  {
   "cell_type": "code",
   "execution_count": null,
   "id": "76cd7ded",
   "metadata": {},
   "outputs": [],
   "source": [
    "pf_e, pf_c = np.linalg.eigh(_HPF)\n",
    "print(pf_e)"
   ]
  },
  {
   "cell_type": "code",
   "execution_count": null,
   "id": "1a4b9581",
   "metadata": {},
   "outputs": [],
   "source": [
    "print(pf_e[2]-pf_e[0])\n",
    "#print(pf_e[3])\n",
    "print(omega_cav)\n",
    "#print(pf_e[1]-pf_e[0])\n",
    "#print(pf_e[2]-pf_e[1])"
   ]
  },
  {
   "cell_type": "code",
   "execution_count": null,
   "id": "a8076b4a",
   "metadata": {},
   "outputs": [],
   "source": [
    "expected_mghp_g_e = -199.86358254419457\n",
    "expected_mghp_lp_e = -199.69776087489558\n",
    "expected_mghp_up_e = -199.68066502792058\n",
    "\n",
    "print(expected_mghp_lp_e-expected_mghp_g_e)\n",
    "print(expected_mghp_up_e-expected_mghp_lp_e)"
   ]
  },
  {
   "cell_type": "code",
   "execution_count": null,
   "id": "714c7337",
   "metadata": {},
   "outputs": [],
   "source": []
  }
 ],
 "metadata": {
  "kernelspec": {
   "display_name": "Python 3 (ipykernel)",
   "language": "python",
   "name": "python3"
  },
  "language_info": {
   "codemirror_mode": {
    "name": "ipython",
    "version": 3
   },
   "file_extension": ".py",
   "mimetype": "text/x-python",
   "name": "python",
   "nbconvert_exporter": "python",
   "pygments_lexer": "ipython3",
   "version": "3.9.13"
  }
 },
 "nbformat": 4,
 "nbformat_minor": 5
}
