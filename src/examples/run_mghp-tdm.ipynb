{
 "cells": [
  {
   "cell_type": "code",
   "execution_count": null,
   "id": "57746595",
   "metadata": {},
   "outputs": [],
   "source": [
    "import numpy as np\n",
    "import sys\n",
    "#np.set_printoptions(precision=5, linewidth=200, suppress=True)\n",
    "import psi4\n",
    "from helper_PFCI import PFHamiltonianGenerator\n",
    "from helper_PFCI import Determinant\n",
    "from helper_cqed_rhf import cqed_rhf\n",
    "np.set_printoptions(threshold=sys.maxsize)\n",
    "psi4.core.set_output_file('output.dat', False)\n",
    "from psi4.driver.procrouting.response.scf_response import tdscf_excitations"
   ]
  },
  {
   "cell_type": "code",
   "execution_count": null,
   "id": "43dbae27",
   "metadata": {},
   "outputs": [],
   "source": [
    "# options for mgf\n",
    "mol_str = \"\"\"\n",
    "Mg\n",
    "H 1 2.2\n",
    "symmetry c1\n",
    "1 1\n",
    "\"\"\"\n",
    "\n",
    "options_dict = {\n",
    "    \"basis\": \"cc-pVDZ\",\n",
    "    \"scf_type\": \"pk\",\n",
    "    \"e_convergence\": 1e-10,\n",
    "    \"d_convergence\": 1e-10,\n",
    "    \"save_jk\" : True\n",
    "}\n",
    "\n",
    "\n",
    "psi4.set_options(options_dict)\n",
    "mol = psi4.geometry(mol_str)\n",
    "\n",
    "\n",
    "rhf_energy, wfn = psi4.energy(\"scf/cc-pVDZ\", molecule=mol, return_wfn=True)\n",
    "    \n",
    "# calculate the excited-state energies and save them to a dictionary called 'res'\n",
    "res = tdscf_excitations(wfn, states=5, triplets = \"NONE\", tda=True)\n",
    "\n",
    "\n",
    "# parse res for excitation energies\n",
    "psi4_excitation_e = [r[\"EXCITATION ENERGY\"] for r in res]\n",
    "\n",
    "psi4_tdm = [r[\"ELECTRIC DIPOLE TRANSITION MOMENT (LEN)\"] for r in res]\n",
    "\n",
    "\n",
    "print(rhf_energy)\n",
    "print(rhf_energy + psi4_excitation_e[0])"
   ]
  },
  {
   "cell_type": "code",
   "execution_count": null,
   "id": "4b60609e",
   "metadata": {},
   "outputs": [],
   "source": [
    "print(psi4_tdm[0])"
   ]
  },
  {
   "cell_type": "code",
   "execution_count": null,
   "id": "fab14536",
   "metadata": {},
   "outputs": [],
   "source": []
  }
 ],
 "metadata": {
  "kernelspec": {
   "display_name": "Python 3 (ipykernel)",
   "language": "python",
   "name": "python3"
  },
  "language_info": {
   "codemirror_mode": {
    "name": "ipython",
    "version": 3
   },
   "file_extension": ".py",
   "mimetype": "text/x-python",
   "name": "python",
   "nbconvert_exporter": "python",
   "pygments_lexer": "ipython3",
   "version": "3.9.13"
  }
 },
 "nbformat": 4,
 "nbformat_minor": 5
}
