{
 "cells": [
  {
   "cell_type": "code",
   "execution_count": 1,
   "id": "57746595",
   "metadata": {},
   "outputs": [],
   "source": [
    "import numpy as np\n",
    "import sys\n",
    "#np.set_printoptions(precision=5, linewidth=200, suppress=True)\n",
    "import psi4\n",
    "from helper_PFCI import PFHamiltonianGenerator\n",
    "from helper_PFCI import Determinant\n",
    "from helper_cqed_rhf import cqed_rhf\n",
    "np.set_printoptions(threshold=sys.maxsize)\n",
    "psi4.core.set_output_file('output.dat', False)\n",
    "from psi4.driver.procrouting.response.scf_response import tdscf_excitations"
   ]
  },
  {
   "cell_type": "code",
   "execution_count": 2,
   "id": "43dbae27",
   "metadata": {},
   "outputs": [
    {
     "name": "stdout",
     "output_type": "stream",
     "text": [
      "-199.86395910419137\n",
      "-199.69011028328705\n"
     ]
    }
   ],
   "source": [
    "# options for mgf\n",
    "mol_str = \"\"\"\n",
    "Mg\n",
    "H 1 2.2\n",
    "symmetry c1\n",
    "1 1\n",
    "\"\"\"\n",
    "\n",
    "options_dict = {\n",
    "    \"basis\": \"cc-pVDZ\",\n",
    "    \"scf_type\": \"pk\",\n",
    "    \"e_convergence\": 1e-10,\n",
    "    \"d_convergence\": 1e-10,\n",
    "    \"save_jk\" : True\n",
    "}\n",
    "\n",
    "\n",
    "psi4.set_options(options_dict)\n",
    "mol = psi4.geometry(mol_str)\n",
    "\n",
    "\n",
    "rhf_energy, wfn = psi4.energy(\"scf/cc-pVDZ\", molecule=mol, return_wfn=True)\n",
    "    \n",
    "# calculate the excited-state energies and save them to a dictionary called 'res'\n",
    "res = tdscf_excitations(wfn, states=5, triplets = \"NONE\", tda=True)\n",
    "\n",
    "\n",
    "# parse res for excitation energies\n",
    "psi4_excitation_e = [r[\"EXCITATION ENERGY\"] for r in res]\n",
    "\n",
    "psi4_tdm = [r[\"ELECTRIC DIPOLE TRANSITION MOMENT (LEN)\"] for r in res]\n",
    "\n",
    "\n",
    "print(rhf_energy)\n",
    "print(rhf_energy + psi4_excitation_e[0])"
   ]
  },
  {
   "cell_type": "code",
   "execution_count": 3,
   "id": "4b60609e",
   "metadata": {},
   "outputs": [
    {
     "name": "stdout",
     "output_type": "stream",
     "text": [
      "[-6.93218490e-16 -1.77990759e-15  2.33258251e+00]\n"
     ]
    }
   ],
   "source": [
    "print(psi4_tdm[0])"
   ]
  },
  {
   "cell_type": "code",
   "execution_count": 4,
   "id": "fab14536",
   "metadata": {},
   "outputs": [
    {
     "name": "stdout",
     "output_type": "stream",
     "text": [
      "\n",
      "Start SCF iterations:\n",
      "\n",
      "Canonical RHF One-electron energy = -281.6658725092592590\n",
      "CQED-RHF One-electron energy      = -281.6658725092592590\n",
      "Nuclear repulsion energy          = 2.8864211491090908\n",
      "Dipole energy                     = 0.0000000000000000\n",
      "SCF Iteration   1: Energy = -199.8639591041915651   dE = -1.99864E+02   dRMS = 1.51684E-12\n",
      "SCF Iteration   2: Energy = -199.8639591041911103   dE =  4.54747E-13   dRMS = 2.67192E-13\n",
      "Total time for SCF iterations: 0.002 seconds \n",
      "\n",
      "QED-RHF   energy: -199.86395910 hartree\n",
      "Psi4  SCF energy: -199.86395910 hartree\n",
      " Completed QED-RHF in 0.7835681438446045 seconds\n",
      " Completed 1HSO Build in 0.00028228759765625 seconds\n",
      " Completed ERI Build in 0.49338388442993164 seconds \n",
      " Completed 2D build in 0.02411484718322754 seconds\n",
      " Completed 1G build in 8.0108642578125e-05 seconds\n",
      " Completed the Dipole Matrix Build in 0.0007822513580322266 seconds\n",
      " Completed determinant list in 0.0068819522857666016 seconds \n",
      " Completed constant offset matrix in 0.0001590251922607422 seconds\n",
      " Completed Hamiltonian build in 0.9365990161895752 seconds\n",
      "-199.86395910419117\n",
      "-199.6901102833009\n",
      "[0. 0. 0.]\n"
     ]
    }
   ],
   "source": [
    "mol_str = \"\"\"\n",
    "Mg\n",
    "H 1 2.2\n",
    "symmetry c1\n",
    "1 1\n",
    "\"\"\"\n",
    "\n",
    "options_dict = {\n",
    "    \"basis\": \"cc-pVDZ\",\n",
    "    \"scf_type\": \"pk\",\n",
    "    \"e_convergence\": 1e-10,\n",
    "    \"d_convergence\": 1e-10,\n",
    "}\n",
    "\n",
    "cavity_dict = {\n",
    "    'omega_value' : 0.0,\n",
    "    'lambda_vector' : np.array([0, 0, 0]),\n",
    "    'ci_level' : 'cis',\n",
    "    'davidson_roots' : 8,\n",
    "    'davidson_threshold' : 1e-8,\n",
    "    'full_diagonalization' : True,\n",
    "}\n",
    "\n",
    "mol = psi4.geometry(mol_str)\n",
    "\n",
    "psi4.set_options(options_dict)\n",
    "\n",
    "expected_e4 = -199.69011028328705\n",
    "\n",
    "#energy from psi4numpy\n",
    "expected_mu_04 = np.array([-6.93218490e-16, -1.77990759e-15,  2.33258251e+00])\n",
    "\n",
    "\n",
    "test_pf = PFHamiltonianGenerator(\n",
    "    mol_str,\n",
    "    options_dict,\n",
    "    cavity_dict\n",
    ")\n",
    "\n",
    "actual_e0 = test_pf.CIeigs[0]\n",
    "actual_e4 = test_pf.CIeigs[4]\n",
    "print(actual_e0)\n",
    "print(actual_e4)\n",
    "\n",
    "actual_mu_04 = test_pf.compute_dipole_moment(0, 3)\n",
    "print(actual_mu_04)\n",
    "#assert np.isclose(actual_e4, expected_e4)\n",
    "#assert np.allclose(actual_mu_04, expected_mu_04)"
   ]
  },
  {
   "cell_type": "code",
   "execution_count": 5,
   "id": "114b5675",
   "metadata": {},
   "outputs": [
    {
     "name": "stdout",
     "output_type": "stream",
     "text": [
      "[-6.58836036e-13  1.72314848e-13 -2.33258235e+00]\n"
     ]
    }
   ],
   "source": [
    "actual_mu_06 = test_pf.compute_dipole_moment(0, 4)\n",
    "print(actual_mu_06)"
   ]
  },
  {
   "cell_type": "code",
   "execution_count": 6,
   "id": "bfafb2ad",
   "metadata": {},
   "outputs": [
    {
     "name": "stdout",
     "output_type": "stream",
     "text": [
      "[ 1.23668023e-15  3.26291298e-15 -1.50279429e+00]\n"
     ]
    }
   ],
   "source": [
    "print(test_pf.rhf_dipole_moment)"
   ]
  },
  {
   "cell_type": "code",
   "execution_count": 11,
   "id": "2c502a46",
   "metadata": {},
   "outputs": [
    {
     "name": "stdout",
     "output_type": "stream",
     "text": [
      "[ 1.05705114e-12 -3.19182355e-13  2.07947966e+00]\n"
     ]
    }
   ],
   "source": [
    "actual_mu_g = test_pf.compute_dipole_moment(4, 4) + test_pf.mu_nuc\n",
    "print(actual_mu_g)"
   ]
  },
  {
   "cell_type": "code",
   "execution_count": null,
   "id": "71063519",
   "metadata": {},
   "outputs": [],
   "source": []
  }
 ],
 "metadata": {
  "kernelspec": {
   "display_name": "Python 3 (ipykernel)",
   "language": "python",
   "name": "python3"
  },
  "language_info": {
   "codemirror_mode": {
    "name": "ipython",
    "version": 3
   },
   "file_extension": ".py",
   "mimetype": "text/x-python",
   "name": "python",
   "nbconvert_exporter": "python",
   "pygments_lexer": "ipython3",
   "version": "3.9.13"
  }
 },
 "nbformat": 4,
 "nbformat_minor": 5
}
