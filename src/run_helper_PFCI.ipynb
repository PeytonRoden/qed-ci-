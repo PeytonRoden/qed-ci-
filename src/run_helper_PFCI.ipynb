{
 "cells": [
  {
   "cell_type": "code",
   "execution_count": null,
   "id": "57746595",
   "metadata": {},
   "outputs": [],
   "source": [
    "import numpy as np\n",
    "#np.set_printoptions(precision=5, linewidth=200, suppress=True)\n",
    "import psi4\n",
    "from helper_PFCI import PFHamiltonianGenerator"
   ]
  },
  {
   "cell_type": "code",
   "execution_count": null,
   "id": "43dbae27",
   "metadata": {},
   "outputs": [],
   "source": [
    "mol_str = \"\"\"\n",
    "O\n",
    "H 1 1.1\n",
    "H 1 1.1 2 104\n",
    "symmetry c1\n",
    "\"\"\"\n",
    "\n",
    "options_dict = {'basis': 'sto-3g',\n",
    "                  'scf_type': 'pk',\n",
    "                  'e_convergence': 1e-10,\n",
    "                  'd_convergence': 1e-10\n",
    "                  }\n",
    "\n",
    "mol = psi4.geometry(mol_str)\n",
    "\n",
    "\n",
    "psi4.set_options(options_dict)\n"
   ]
  },
  {
   "cell_type": "code",
   "execution_count": null,
   "id": "c45f3eac",
   "metadata": {},
   "outputs": [],
   "source": [
    "# photon energy\n",
    "#omega_val = 2.0 / psi4.constants.Hartree_energy_in_eV\n",
    "omega_val = 0\n",
    "\n",
    "print(omega_val)\n",
    "\n",
    "# lambda vector\n",
    "#lambda_vector = np.array([0., 0., 0.05])\n",
    "lambda_vector = np.array([0, 0, 0])\n",
    "\n",
    "# Build PF Hamiltonian matrix \n",
    "H2_PF = PFHamiltonianGenerator(1, mol_str, options_dict, lambda_vector,omega_val)\n",
    "\n",
    "# uncomment to print\n",
    "#print(H2_PF.H_PF)\n"
   ]
  },
  {
   "cell_type": "code",
   "execution_count": null,
   "id": "1aa8d0f9",
   "metadata": {},
   "outputs": [],
   "source": [
    "# diagonalize the Hamiltonian matrix\n",
    "e_fci, wavefunctions = np.linalg.eigh(H2_PF.H_PF)\n",
    "\n",
    "#print the ground-state and first excited state\n",
    "#print(\"Psi4 |G> is \",fci_e)\n",
    "print(\"|G> is \",e_fci[0])\n",
    "print(\"|LP> is \",e_fci[1])\n"
   ]
  },
  {
   "cell_type": "markdown",
   "id": "b2e6c011",
   "metadata": {},
   "source": [
    "ndocc = 5\n",
    "n_act_el = 4\n",
    "n_act_orb = 4\n",
    "\n",
    "n_in_orb=ndocc-n_act_el//2\n",
    "n_ac_el_half=n_act_el//2\n",
    "print(n_ac_el_half)\n",
    "inactive_list=list(x for x in range(n_in_orb))\n",
    "print(inactive_list)\n",
    "print('Generating all determinants in active space')\n",
    "t = time.time()\n",
    "singlesDets = []\n",
    "for alpha in combinations(range(n_act_orb), n_ac_el_half):\n",
    "    alphalist=list(alpha)\n",
    "    alphalist=[x+n_in_orb for x in alphalist]\n",
    "    alphalist[0:0]=inactive_list\n",
    "    alpha=tuple(alphalist)\n",
    "    #alpha_ex_level = compute_excitation_level(alpha, ndocc)\n",
    "    for beta in combinations(range(n_act_orb), n_ac_el_half):\n",
    "        betalist=list(beta)\n",
    "        betalist=[x+n_in_orb for x in betalist]\n",
    "        betalist[0:0]=inactive_list\n",
    "        beta=tuple(betalist)\n",
    "        #beta_ex_level = compute_excitation_level(beta, ndocc)\n",
    "        #if alpha_ex_level + beta_ex_level == 1:\n",
    "        print(F' adding alpha: {alpha} and beta: {beta}\\n') \n",
    "        singlesDets.append(Determinant(alphaObtList=alpha, betaObtList=beta))"
   ]
  }
 ],
 "metadata": {
  "kernelspec": {
   "display_name": "Python 3 (ipykernel)",
   "language": "python",
   "name": "python3"
  },
  "language_info": {
   "codemirror_mode": {
    "name": "ipython",
    "version": 3
   },
   "file_extension": ".py",
   "mimetype": "text/x-python",
   "name": "python",
   "nbconvert_exporter": "python",
   "pygments_lexer": "ipython3",
   "version": "3.9.13"
  }
 },
 "nbformat": 4,
 "nbformat_minor": 5
}
