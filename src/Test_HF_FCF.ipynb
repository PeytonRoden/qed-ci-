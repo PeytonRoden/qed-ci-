{
 "cells": [
  {
   "cell_type": "code",
   "execution_count": 1,
   "id": "24831ed7-1498-426e-9bf5-50e047e7bd3a",
   "metadata": {},
   "outputs": [],
   "source": [
    "# import statements\n",
    "from morse import Morse\n",
    "import numpy as np\n",
    "from matplotlib import pyplot as plt\n",
    "from matplotlib import cm\n",
    "from matplotlib import rcParams\n",
    "\n",
    "COLOUR1 = \"firebrick\"\n",
    "COLOUR2 = \"darkgreen\"\n",
    "COLOUR3 = \"royalblue\"\n",
    "COLOUR4 = \"rebeccapurple\"\n",
    "COLOUR5 = 'darkorchid'\n",
    "COLOUR6 = 'olivedrab'\n",
    "\n",
    "rcParams['font.family'] = 'serif'\n",
    "rcParams['font.size'] = 12"
   ]
  },
  {
   "cell_type": "code",
   "execution_count": 2,
   "id": "2c240f5e-d611-4cc7-8e09-1563d3bda975",
   "metadata": {},
   "outputs": [],
   "source": [
    "# global parameters\n",
    "mA = 1.0\n",
    "mB = 19.0\n",
    "\n",
    "# parameters for ground state\n",
    "X_morse_omega_wn = 4165.1570588584555\n",
    "X_morse_omega_xe_wn = 115.73758535305562\n",
    "X_r_eq_SI = 9.178507603174319e-11\n",
    "X_Te = 0.\n",
    "\n",
    "# parameters for excited state\n",
    "D_morse_omega_wn = 3370.510408803543\n",
    "D_morse_omega_xe_wn = 176.0443972578461\n",
    "D_r_eq_SI = 9.750100896865223e-11\n",
    "D_Te = 0.\n",
    "\n"
   ]
  },
  {
   "cell_type": "code",
   "execution_count": 3,
   "id": "16ea2ba8-4b09-4e74-97b2-532eeda9a9f7",
   "metadata": {},
   "outputs": [
    {
     "name": "stdout",
     "output_type": "stream",
     "text": [
      " Did I get the values of rmin and rmax right?\n",
      "3e-11 6e-10\n",
      " just formed self.r\n",
      " First point is  3e-11\n",
      " Last point is  6e-10\n",
      " Did I get the values of rmin and rmax right?\n",
      "3e-11 6e-10\n",
      " just formed self.r\n",
      " First point is  3e-11\n",
      " Last point is  6e-10\n"
     ]
    }
   ],
   "source": [
    "# create Morse object for ground state\n",
    "X = Morse(mA, mB, X_morse_omega_wn, X_morse_omega_xe_wn, X_r_eq_SI, X_Te)\n",
    "#X.make_rgrid(n = 500, rmin=4e-11, rmax=5e-10)\n",
    "#X.V = X.Vmorse(X.r)\n",
    "\n",
    "# create Morse object for excited state\n",
    "D = Morse(mA, mB, D_morse_omega_wn, D_morse_omega_xe_wn, D_r_eq_SI, D_Te)\n",
    "#D.make_rgrid(n = 500, rmin=4e-11, rmax=5e-10)\n",
    "#D.V = D.Vmorse(D.r)\n",
    "\n",
    "# calculate psi_\n",
    "_tmp = X.calc_psi_z(0)\n",
    "X_psi0 = np.copy(X.psi_au)\n",
    "\n",
    "_tmp = D.calc_psi_z(0)\n",
    "D_psi0 = np.copy(D.psi_au)\n"
   ]
  },
  {
   "cell_type": "code",
   "execution_count": null,
   "id": "72d8a136-a13b-40e5-9698-9dee67a371da",
   "metadata": {},
   "outputs": [],
   "source": []
  },
  {
   "cell_type": "code",
   "execution_count": 4,
   "id": "dd108d80-243e-418c-b822-2f70c6f336e7",
   "metadata": {},
   "outputs": [
    {
     "name": "stdout",
     "output_type": "stream",
     "text": [
      " R_eq for state X ^1 \\Sigma^+ is 0.9214046822742474\n",
      " R_eq for state 7 is 0.9715719063545151\n",
      " R_eq for state 5 is 1.1722408026755853\n",
      " R_eq for state 6 is 3.5\n",
      " R_eq for state D is 1.1722408026755853\n"
     ]
    }
   ],
   "source": [
    "data_dir = \"/Users/jfoley19/Code/data_repository/Mapol/HF/\"\n",
    "file = data_dir + \"hf_pes_35_states_only_singlets_300_points.npy\"\n",
    "# Load the first several singlet potential energy surfaces between r = 0.5 and r = 3.5 (300 points total)\n",
    "pes = np.load(file)\n",
    "\n",
    "# store r_data in Angstroms \n",
    "r_data = pes[:,0]\n",
    "\n",
    "# conversion from Bohr to Angstroms\n",
    "b2a = 0.52917721067121\n",
    "\n",
    "# store ground-state PES data\n",
    "X_data = pes[:,1]\n",
    "# get minimum energy of X surface\n",
    "X_min = np.min(X_data)\n",
    "X_req_idx = np.argmin(X_data)\n",
    "print(F' R_eq for state X ^1 \\Sigma^+ is {r_data[X_req_idx]}')\n",
    "# store Delta surface PES data\n",
    "S7_data = pes[:,8]\n",
    "# get minimum energy of D surface\n",
    "S7_min = np.min(S7_data)\n",
    "S7_req_idx = np.argmin(S7_data)\n",
    "print(F' R_eq for state 7 is {r_data[S7_req_idx]}')\n",
    "\n",
    "\n",
    "S5_data = pes[:,6]\n",
    "S5_min = np.min(S5_data)\n",
    "S5_req_idx = np.argmin(S5_data)\n",
    "print(F' R_eq for state 5 is {r_data[S5_req_idx]}')\n",
    "\n",
    "S6_data = pes[:,7]\n",
    "S6_min = np.min(S6_data)\n",
    "S6_req_idx = np.argmin(S6_data)\n",
    "print(F' R_eq for state 6 is {r_data[S6_req_idx]}')\n",
    "\n",
    "D_data = pes[:,5]\n",
    "D_min = np.min(D_data)\n",
    "D_req_idx = np.argmin(D_data)\n",
    "print(F' R_eq for state D is {r_data[D_req_idx]}')\n"
   ]
  },
  {
   "cell_type": "code",
   "execution_count": null,
   "id": "b63d0486-02db-4762-a4ae-b6db454137c1",
   "metadata": {},
   "outputs": [],
   "source": [
    "#plt.plot(X.r_au * b2a, X.V_au + X_min, color=COLOUR3, label=\"X $^1 \\Sigma^+$ Morse Fit\")\n",
    "#plt.plot(r_data[0:300:5], X_data[0:300:5], color=COLOUR3, linestyle=\"none\", marker=\"o\", ms=\"8\", mfc=\"none\", label=\"X $^1 \\Sigma^+$ FCI/6-311++G**\")\n",
    "#plt.plot(X.r_au * b2a, D.V_au + S7_min, color=COLOUR1, label=\"State 7 Morse Fit\")\n",
    "plt.plot(r_data, D_data, color=COLOUR2,  label=\"1 $\\Delta$ FCI/6-311++G**\")\n",
    "plt.plot(r_data, S5_data, color=COLOUR3, label=\"State 5 FCI/6-311++G**\")\n",
    "#plt.plot(r_data, S6_data, color=COLOUR5, linestyle=\"dashed\", label=\"State 6 FCI/6-311++G**\")\n",
    "#plt.plot(r_data[0:300:5], S7_data[0:300:5], color=COLOUR4,  linestyle=\"none\", marker=\"o\", ms=\"8\", mfc=\"none\", label=\"State 7 FCI/6-311++G**\")\n",
    "#plt.ylim(-100.2, -98.8)\n",
    "plt.xlim(0.25, 3.5)\n",
    "plt.tight_layout()\n",
    "plt.legend()\n",
    "#plt.savefig(\"Ground_State_cc_pVDZ.png\", dpi=200)\n",
    "plt.show()"
   ]
  },
  {
   "cell_type": "code",
   "execution_count": null,
   "id": "161c0b0a-5650-45e7-9fb0-7ce0f653fbe2",
   "metadata": {},
   "outputs": [],
   "source": []
  }
 ],
 "metadata": {
  "kernelspec": {
   "display_name": "Python 3 (ipykernel)",
   "language": "python",
   "name": "python3"
  },
  "language_info": {
   "codemirror_mode": {
    "name": "ipython",
    "version": 3
   },
   "file_extension": ".py",
   "mimetype": "text/x-python",
   "name": "python",
   "nbconvert_exporter": "python",
   "pygments_lexer": "ipython3",
   "version": "3.9.18"
  }
 },
 "nbformat": 4,
 "nbformat_minor": 5
}
